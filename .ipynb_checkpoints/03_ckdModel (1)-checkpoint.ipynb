{
 "cells": [
  {
   "cell_type": "code",
   "execution_count": 1,
   "metadata": {},
   "outputs": [],
   "source": [
    "#########################################################\n",
    "# Program name: 03_ckdModel.py\n",
    "# Description: This program builds a CNN-LSTM model for \n",
    "# predicting the CKD outcome for a given patient based on\n",
    "# longitudinal data.\n",
    "# Input Data : ./input\n",
    "# Output Data: ./output\n",
    "#########################################################"
   ]
  },
  {
   "cell_type": "code",
   "execution_count": 2,
   "metadata": {},
   "outputs": [
    {
     "name": "stderr",
     "output_type": "stream",
     "text": [
      "Using TensorFlow backend.\n"
     ]
    }
   ],
   "source": [
    "## load the required libraries\n",
    "import pandas as pd\n",
    "import numpy as np\n",
    "from sklearn import preprocessing \n",
    "from keras.models import Sequential\n",
    "from keras.layers import Conv2D, ZeroPadding2D, Activation, Input, concatenate, GlobalAveragePooling2D\n",
    "from keras.models import Model,load_model\n",
    "from keras.layers.normalization import BatchNormalization\n",
    "from keras.layers.pooling import MaxPooling2D, AveragePooling2D\n",
    "from keras.layers.merge import Concatenate\n",
    "from keras.layers.core import Lambda, Flatten, Dense\n",
    "from keras.initializers import glorot_uniform\n",
    "from keras.engine.topology import Layer\n",
    "\n",
    "from keras import applications,models, losses,optimizers\n",
    "from keras.models import Model\n",
    "from keras import optimizers\n",
    "from keras.models import Sequential\n",
    "from keras.layers import Dense, Dropout, Flatten\n",
    "from keras.layers import Convolution2D, MaxPooling2D\n",
    "from keras.layers.normalization import BatchNormalization\n",
    "from keras.metrics import categorical_accuracy\n",
    "from keras.preprocessing.image import ImageDataGenerator\n",
    "from keras.callbacks import EarlyStopping\n",
    "from keras.utils.np_utils import to_categorical\n",
    "from keras.callbacks import ModelCheckpoint\n",
    "from keras.applications.resnet50 import ResNet50\n",
    "from keras.preprocessing import image\n",
    "from keras.applications.resnet50 import preprocess_input, decode_predictions\n",
    "from keras.layers import Input, Dense, Flatten, Dropout, Activation, Lambda, Permute, Reshape\n",
    "import numpy as np\n",
    "import keras.backend as K\n",
    "from sklearn.model_selection import train_test_split\n",
    "from sklearn.preprocessing import MinMaxScaler\n",
    "from sklearn.metrics import confusion_matrix\n",
    "import matplotlib.pyplot as plt"
   ]
  },
  {
   "cell_type": "code",
   "execution_count": 3,
   "metadata": {},
   "outputs": [
    {
     "name": "stdout",
     "output_type": "stream",
     "text": [
      "(3865, 32)\n"
     ]
    },
    {
     "data": {
      "text/plain": [
       "(300, 2)"
      ]
     },
     "execution_count": 3,
     "metadata": {},
     "output_type": "execute_result"
    }
   ],
   "source": [
    "## Read the data\n",
    "\n",
    "ckd_data = pd.read_csv('./input/ckd_inputdata.csv')\n",
    "print(ckd_data.shape)\n",
    "## Read the stages data\n",
    "df_stage = pd.read_csv('./dataScienceTask/T_stage.csv')\n",
    "df_stage.shape"
   ]
  },
  {
   "cell_type": "markdown",
   "metadata": {},
   "source": [
    "## Data Split"
   ]
  },
  {
   "cell_type": "code",
   "execution_count": 4,
   "metadata": {},
   "outputs": [],
   "source": [
    "# Split the stages data as it can be used to trace the patient ID later\n",
    "# 80-20 train test split\n",
    "train_idx = df_stage.sample(frac=0.8, random_state= 100)\n",
    "test_idx = df_stage.loc[~df_stage.index.isin(train_idx.index), :]"
   ]
  },
  {
   "cell_type": "code",
   "execution_count": 5,
   "metadata": {},
   "outputs": [
    {
     "data": {
      "text/plain": [
       "<matplotlib.axes._subplots.AxesSubplot at 0x15218a2eac8>"
      ]
     },
     "execution_count": 5,
     "metadata": {},
     "output_type": "execute_result"
    },
    {
     "data": {
      "image/png": "[encoded data removed]",
      "text/plain": [
       "<Figure size 432x288 with 1 Axes>"
      ]
     },
     "metadata": {
      "needs_background": "light"
     },
     "output_type": "display_data"
    }
   ],
   "source": [
    "## Training data distribution\n",
    "df1 = train_idx.set_index('id').apply(pd.value_counts)\n",
    "df1.plot.bar()"
   ]
  },
  {
   "cell_type": "code",
   "execution_count": 6,
   "metadata": {},
   "outputs": [
    {
     "data": {
      "text/plain": [
       "<matplotlib.axes._subplots.AxesSubplot at 0x15218e40088>"
      ]
     },
     "execution_count": 6,
     "metadata": {},
     "output_type": "execute_result"
    },
    {
     "data": {
      "image/png": "[encoded data removed]",
      "text/plain": [
       "<Figure size 432x288 with 1 Axes>"
      ]
     },
     "metadata": {
      "needs_background": "light"
     },
     "output_type": "display_data"
    }
   ],
   "source": [
    "## Test data distribution\n",
    "df1 = test_idx.set_index('id').apply(pd.value_counts)\n",
    "df1.plot.bar()"
   ]
  },
  {
   "cell_type": "code",
   "execution_count": 7,
   "metadata": {},
   "outputs": [],
   "source": [
    "# label_encoder the target variable as it is binary \n",
    "label_encoder = preprocessing.LabelEncoder() \n",
    "  \n",
    "# Encode labels in column 'Stage_Progress'. \n",
    "trainY = label_encoder.fit_transform(train_idx['Stage_Progress']) \n",
    "testY = label_encoder.fit_transform(test_idx['Stage_Progress'])\n",
    "# 1 = True, 0 False"
   ]
  },
  {
   "cell_type": "markdown",
   "metadata": {},
   "source": [
    "## Rescale Data"
   ]
  },
  {
   "cell_type": "code",
   "execution_count": 8,
   "metadata": {},
   "outputs": [],
   "source": [
    "sc=MinMaxScaler(feature_range=(0, 1))\n",
    "\n",
    "## Training data\n",
    "X_stdT1 =sc.fit_transform(ckd_data[ckd_data.id.isin(train_idx.id)].drop('id', axis = 1))\n",
    "X_stdT1 = pd.DataFrame(X_stdT1)\n",
    "# add ID column back\n",
    "train_id = ckd_data[ckd_data.id.isin(train_idx.id)][['id']].reset_index()\n",
    "X_stdT1.insert(0, \"id\", train_id[['id']])\n",
    "# Add column names\n",
    "X_stdT1.columns = ckd_data.columns\n",
    "## As a padding value replace all NaN with a value that is not common to occur in the data. -1\n",
    "X_stdT1 = X_stdT1.fillna(0)\n",
    "\n",
    "\n",
    "## Test data\n",
    "X_stdT2 =sc.transform(ckd_data[ckd_data.id.isin(test_idx.id)].drop('id', axis = 1))\n",
    "X_stdT2 = pd.DataFrame(X_stdT2)\n",
    "# add ID column back\n",
    "test_id = ckd_data[ckd_data.id.isin(test_idx.id)][['id']].reset_index()\n",
    "X_stdT2.insert (0, \"id\", test_id[['id']])\n",
    "# Add column names\n",
    "X_stdT2.columns = ckd_data.columns\n",
    "## As a padding value replace all NaN with a value that is not common to occur in the data. -1 \n",
    "X_stdT2 = X_stdT2.fillna(0)"
   ]
  },
  {
   "cell_type": "code",
   "execution_count": 9,
   "metadata": {},
   "outputs": [
    {
     "data": {
      "text/html": [
       "<div>\n",
       "<style scoped>\n",
       "    .dataframe tbody tr th:only-of-type {\n",
       "        vertical-align: middle;\n",
       "    }\n",
       "\n",
       "    .dataframe tbody tr th {\n",
       "        vertical-align: top;\n",
       "    }\n",
       "\n",
       "    .dataframe thead th {\n",
       "        text-align: right;\n",
       "    }\n",
       "</style>\n",
       "<table border=\"1\" class=\"dataframe\">\n",
       "  <thead>\n",
       "    <tr style=\"text-align: right;\">\n",
       "      <th></th>\n",
       "      <th>id</th>\n",
       "      <th>vCreatinine</th>\n",
       "      <th>time</th>\n",
       "      <th>vDBP</th>\n",
       "      <th>vGlucose</th>\n",
       "      <th>vHGB</th>\n",
       "      <th>vLDL</th>\n",
       "      <th>vSBP</th>\n",
       "      <th>atorvastatin_dose</th>\n",
       "      <th>losartan_dose</th>\n",
       "      <th>...</th>\n",
       "      <th>canagliflozin_dose</th>\n",
       "      <th>dapagliflozin_dose</th>\n",
       "      <th>telmisartan_dose</th>\n",
       "      <th>labetalol_dose</th>\n",
       "      <th>nebivolol_dose</th>\n",
       "      <th>pitavastatin_dose</th>\n",
       "      <th>propranolol_dose</th>\n",
       "      <th>race</th>\n",
       "      <th>gender</th>\n",
       "      <th>age</th>\n",
       "    </tr>\n",
       "  </thead>\n",
       "  <tbody>\n",
       "    <tr>\n",
       "      <td>0</td>\n",
       "      <td>1</td>\n",
       "      <td>0.539568</td>\n",
       "      <td>0.000000</td>\n",
       "      <td>0.38541</td>\n",
       "      <td>0.492754</td>\n",
       "      <td>0.546926</td>\n",
       "      <td>0.367963</td>\n",
       "      <td>0.549706</td>\n",
       "      <td>0.000000</td>\n",
       "      <td>0.0</td>\n",
       "      <td>...</td>\n",
       "      <td>0.0</td>\n",
       "      <td>0.0</td>\n",
       "      <td>0.0</td>\n",
       "      <td>0.0</td>\n",
       "      <td>0.0</td>\n",
       "      <td>0.0</td>\n",
       "      <td>0.0</td>\n",
       "      <td>1.0</td>\n",
       "      <td>0.0</td>\n",
       "      <td>0.625</td>\n",
       "    </tr>\n",
       "    <tr>\n",
       "      <td>1</td>\n",
       "      <td>1</td>\n",
       "      <td>0.571942</td>\n",
       "      <td>0.097282</td>\n",
       "      <td>0.00000</td>\n",
       "      <td>0.000000</td>\n",
       "      <td>0.000000</td>\n",
       "      <td>0.000000</td>\n",
       "      <td>0.000000</td>\n",
       "      <td>0.166667</td>\n",
       "      <td>0.0</td>\n",
       "      <td>...</td>\n",
       "      <td>0.0</td>\n",
       "      <td>0.0</td>\n",
       "      <td>0.0</td>\n",
       "      <td>0.0</td>\n",
       "      <td>0.0</td>\n",
       "      <td>0.0</td>\n",
       "      <td>0.0</td>\n",
       "      <td>1.0</td>\n",
       "      <td>0.0</td>\n",
       "      <td>0.625</td>\n",
       "    </tr>\n",
       "    <tr>\n",
       "      <td>2</td>\n",
       "      <td>1</td>\n",
       "      <td>0.564748</td>\n",
       "      <td>0.413448</td>\n",
       "      <td>0.00000</td>\n",
       "      <td>0.000000</td>\n",
       "      <td>0.000000</td>\n",
       "      <td>0.000000</td>\n",
       "      <td>0.000000</td>\n",
       "      <td>0.000000</td>\n",
       "      <td>0.0</td>\n",
       "      <td>...</td>\n",
       "      <td>0.0</td>\n",
       "      <td>0.0</td>\n",
       "      <td>0.0</td>\n",
       "      <td>0.0</td>\n",
       "      <td>0.0</td>\n",
       "      <td>0.0</td>\n",
       "      <td>0.0</td>\n",
       "      <td>1.0</td>\n",
       "      <td>0.0</td>\n",
       "      <td>0.625</td>\n",
       "    </tr>\n",
       "    <tr>\n",
       "      <td>3</td>\n",
       "      <td>1</td>\n",
       "      <td>0.492806</td>\n",
       "      <td>0.553648</td>\n",
       "      <td>0.00000</td>\n",
       "      <td>0.000000</td>\n",
       "      <td>0.601942</td>\n",
       "      <td>0.000000</td>\n",
       "      <td>0.000000</td>\n",
       "      <td>0.000000</td>\n",
       "      <td>0.0</td>\n",
       "      <td>...</td>\n",
       "      <td>0.0</td>\n",
       "      <td>0.0</td>\n",
       "      <td>0.0</td>\n",
       "      <td>0.0</td>\n",
       "      <td>0.0</td>\n",
       "      <td>0.0</td>\n",
       "      <td>0.0</td>\n",
       "      <td>1.0</td>\n",
       "      <td>0.0</td>\n",
       "      <td>0.625</td>\n",
       "    </tr>\n",
       "    <tr>\n",
       "      <td>4</td>\n",
       "      <td>1</td>\n",
       "      <td>0.705036</td>\n",
       "      <td>0.672389</td>\n",
       "      <td>0.00000</td>\n",
       "      <td>0.000000</td>\n",
       "      <td>0.646170</td>\n",
       "      <td>0.000000</td>\n",
       "      <td>0.000000</td>\n",
       "      <td>0.333333</td>\n",
       "      <td>0.0</td>\n",
       "      <td>...</td>\n",
       "      <td>0.0</td>\n",
       "      <td>0.0</td>\n",
       "      <td>0.0</td>\n",
       "      <td>0.0</td>\n",
       "      <td>0.0</td>\n",
       "      <td>0.0</td>\n",
       "      <td>0.0</td>\n",
       "      <td>1.0</td>\n",
       "      <td>0.0</td>\n",
       "      <td>0.625</td>\n",
       "    </tr>\n",
       "    <tr>\n",
       "      <td>...</td>\n",
       "      <td>...</td>\n",
       "      <td>...</td>\n",
       "      <td>...</td>\n",
       "      <td>...</td>\n",
       "      <td>...</td>\n",
       "      <td>...</td>\n",
       "      <td>...</td>\n",
       "      <td>...</td>\n",
       "      <td>...</td>\n",
       "      <td>...</td>\n",
       "      <td>...</td>\n",
       "      <td>...</td>\n",
       "      <td>...</td>\n",
       "      <td>...</td>\n",
       "      <td>...</td>\n",
       "      <td>...</td>\n",
       "      <td>...</td>\n",
       "      <td>...</td>\n",
       "      <td>...</td>\n",
       "      <td>...</td>\n",
       "      <td>...</td>\n",
       "    </tr>\n",
       "    <tr>\n",
       "      <td>3082</td>\n",
       "      <td>293</td>\n",
       "      <td>0.000000</td>\n",
       "      <td>0.278970</td>\n",
       "      <td>0.00000</td>\n",
       "      <td>0.000000</td>\n",
       "      <td>0.000000</td>\n",
       "      <td>0.359615</td>\n",
       "      <td>0.000000</td>\n",
       "      <td>0.000000</td>\n",
       "      <td>0.0</td>\n",
       "      <td>...</td>\n",
       "      <td>0.0</td>\n",
       "      <td>0.0</td>\n",
       "      <td>0.0</td>\n",
       "      <td>0.0</td>\n",
       "      <td>0.0</td>\n",
       "      <td>0.0</td>\n",
       "      <td>0.0</td>\n",
       "      <td>1.0</td>\n",
       "      <td>1.0</td>\n",
       "      <td>0.650</td>\n",
       "    </tr>\n",
       "    <tr>\n",
       "      <td>3083</td>\n",
       "      <td>293</td>\n",
       "      <td>0.000000</td>\n",
       "      <td>0.739628</td>\n",
       "      <td>0.00000</td>\n",
       "      <td>0.000000</td>\n",
       "      <td>0.000000</td>\n",
       "      <td>0.191779</td>\n",
       "      <td>0.000000</td>\n",
       "      <td>0.000000</td>\n",
       "      <td>0.0</td>\n",
       "      <td>...</td>\n",
       "      <td>0.0</td>\n",
       "      <td>0.0</td>\n",
       "      <td>0.0</td>\n",
       "      <td>0.0</td>\n",
       "      <td>0.0</td>\n",
       "      <td>0.0</td>\n",
       "      <td>1.0</td>\n",
       "      <td>1.0</td>\n",
       "      <td>1.0</td>\n",
       "      <td>0.650</td>\n",
       "    </tr>\n",
       "    <tr>\n",
       "      <td>3084</td>\n",
       "      <td>299</td>\n",
       "      <td>0.000000</td>\n",
       "      <td>0.769671</td>\n",
       "      <td>0.00000</td>\n",
       "      <td>0.000000</td>\n",
       "      <td>0.000000</td>\n",
       "      <td>0.273523</td>\n",
       "      <td>0.000000</td>\n",
       "      <td>0.083333</td>\n",
       "      <td>0.5</td>\n",
       "      <td>...</td>\n",
       "      <td>0.0</td>\n",
       "      <td>0.0</td>\n",
       "      <td>0.0</td>\n",
       "      <td>0.0</td>\n",
       "      <td>0.0</td>\n",
       "      <td>0.0</td>\n",
       "      <td>0.0</td>\n",
       "      <td>0.0</td>\n",
       "      <td>1.0</td>\n",
       "      <td>0.950</td>\n",
       "    </tr>\n",
       "    <tr>\n",
       "      <td>3085</td>\n",
       "      <td>174</td>\n",
       "      <td>0.000000</td>\n",
       "      <td>0.862661</td>\n",
       "      <td>0.00000</td>\n",
       "      <td>0.000000</td>\n",
       "      <td>0.000000</td>\n",
       "      <td>0.000000</td>\n",
       "      <td>0.377834</td>\n",
       "      <td>0.000000</td>\n",
       "      <td>0.5</td>\n",
       "      <td>...</td>\n",
       "      <td>0.0</td>\n",
       "      <td>0.0</td>\n",
       "      <td>0.0</td>\n",
       "      <td>0.0</td>\n",
       "      <td>0.0</td>\n",
       "      <td>0.0</td>\n",
       "      <td>0.0</td>\n",
       "      <td>1.0</td>\n",
       "      <td>0.0</td>\n",
       "      <td>0.850</td>\n",
       "    </tr>\n",
       "    <tr>\n",
       "      <td>3086</td>\n",
       "      <td>250</td>\n",
       "      <td>0.000000</td>\n",
       "      <td>0.188841</td>\n",
       "      <td>0.00000</td>\n",
       "      <td>0.000000</td>\n",
       "      <td>0.000000</td>\n",
       "      <td>0.000000</td>\n",
       "      <td>0.453233</td>\n",
       "      <td>0.000000</td>\n",
       "      <td>0.0</td>\n",
       "      <td>...</td>\n",
       "      <td>0.0</td>\n",
       "      <td>0.0</td>\n",
       "      <td>0.0</td>\n",
       "      <td>0.0</td>\n",
       "      <td>0.0</td>\n",
       "      <td>0.0</td>\n",
       "      <td>0.0</td>\n",
       "      <td>1.0</td>\n",
       "      <td>0.0</td>\n",
       "      <td>0.825</td>\n",
       "    </tr>\n",
       "  </tbody>\n",
       "</table>\n",
       "<p>3087 rows × 32 columns</p>\n",
       "</div>"
      ],
      "text/plain": [
       "       id  vCreatinine      time     vDBP  vGlucose      vHGB      vLDL  \\\n",
       "0       1     0.539568  0.000000  0.38541  0.492754  0.546926  0.367963   \n",
       "1       1     0.571942  0.097282  0.00000  0.000000  0.000000  0.000000   \n",
       "2       1     0.564748  0.413448  0.00000  0.000000  0.000000  0.000000   \n",
       "3       1     0.492806  0.553648  0.00000  0.000000  0.601942  0.000000   \n",
       "4       1     0.705036  0.672389  0.00000  0.000000  0.646170  0.000000   \n",
       "...   ...          ...       ...      ...       ...       ...       ...   \n",
       "3082  293     0.000000  0.278970  0.00000  0.000000  0.000000  0.359615   \n",
       "3083  293     0.000000  0.739628  0.00000  0.000000  0.000000  0.191779   \n",
       "3084  299     0.000000  0.769671  0.00000  0.000000  0.000000  0.273523   \n",
       "3085  174     0.000000  0.862661  0.00000  0.000000  0.000000  0.000000   \n",
       "3086  250     0.000000  0.188841  0.00000  0.000000  0.000000  0.000000   \n",
       "\n",
       "          vSBP  atorvastatin_dose  losartan_dose  ...  canagliflozin_dose  \\\n",
       "0     0.549706           0.000000            0.0  ...                 0.0   \n",
       "1     0.000000           0.166667            0.0  ...                 0.0   \n",
       "2     0.000000           0.000000            0.0  ...                 0.0   \n",
       "3     0.000000           0.000000            0.0  ...                 0.0   \n",
       "4     0.000000           0.333333            0.0  ...                 0.0   \n",
       "...        ...                ...            ...  ...                 ...   \n",
       "3082  0.000000           0.000000            0.0  ...                 0.0   \n",
       "3083  0.000000           0.000000            0.0  ...                 0.0   \n",
       "3084  0.000000           0.083333            0.5  ...                 0.0   \n",
       "3085  0.377834           0.000000            0.5  ...                 0.0   \n",
       "3086  0.453233           0.000000            0.0  ...                 0.0   \n",
       "\n",
       "      dapagliflozin_dose  telmisartan_dose  labetalol_dose  nebivolol_dose  \\\n",
       "0                    0.0               0.0             0.0             0.0   \n",
       "1                    0.0               0.0             0.0             0.0   \n",
       "2                    0.0               0.0             0.0             0.0   \n",
       "3                    0.0               0.0             0.0             0.0   \n",
       "4                    0.0               0.0             0.0             0.0   \n",
       "...                  ...               ...             ...             ...   \n",
       "3082                 0.0               0.0             0.0             0.0   \n",
       "3083                 0.0               0.0             0.0             0.0   \n",
       "3084                 0.0               0.0             0.0             0.0   \n",
       "3085                 0.0               0.0             0.0             0.0   \n",
       "3086                 0.0               0.0             0.0             0.0   \n",
       "\n",
       "      pitavastatin_dose  propranolol_dose  race  gender    age  \n",
       "0                   0.0               0.0   1.0     0.0  0.625  \n",
       "1                   0.0               0.0   1.0     0.0  0.625  \n",
       "2                   0.0               0.0   1.0     0.0  0.625  \n",
       "3                   0.0               0.0   1.0     0.0  0.625  \n",
       "4                   0.0               0.0   1.0     0.0  0.625  \n",
       "...                 ...               ...   ...     ...    ...  \n",
       "3082                0.0               0.0   1.0     1.0  0.650  \n",
       "3083                0.0               1.0   1.0     1.0  0.650  \n",
       "3084                0.0               0.0   0.0     1.0  0.950  \n",
       "3085                0.0               0.0   1.0     0.0  0.850  \n",
       "3086                0.0               0.0   1.0     0.0  0.825  \n",
       "\n",
       "[3087 rows x 32 columns]"
      ]
     },
     "execution_count": 9,
     "metadata": {},
     "output_type": "execute_result"
    }
   ],
   "source": [
    "X_stdT1"
   ]
  },
  {
   "cell_type": "markdown",
   "metadata": {},
   "source": [
    "## Reshape data"
   ]
  },
  {
   "cell_type": "code",
   "execution_count": 22,
   "metadata": {},
   "outputs": [
    {
     "name": "stderr",
     "output_type": "stream",
     "text": [
      "C:\\Users\\ramesind\\AppData\\Local\\Continuum\\anaconda3\\lib\\site-packages\\ipykernel_launcher.py:9: SettingWithCopyWarning: \n",
      "A value is trying to be set on a copy of a slice from a DataFrame.\n",
      "Try using .loc[row_indexer,col_indexer] = value instead\n",
      "\n",
      "See the caveats in the documentation: http://pandas.pydata.org/pandas-docs/stable/user_guide/indexing.html#returning-a-view-versus-a-copy\n",
      "  if __name__ == '__main__':\n"
     ]
    },
    {
     "name": "stdout",
     "output_type": "stream",
     "text": [
      "Training data shape: (240, 32, 32, 1) (240,)\n"
     ]
    }
   ],
   "source": [
    "# Shape the Patient data into the desired input format for CNN \n",
    "# convert each patient ID information to a 32 * 32 image\n",
    "## Prepare the training data\n",
    "trainX = []\n",
    "\n",
    "for i in train_idx.id:\n",
    "    sub_data = X_stdT1[X_stdT1.id == i]\n",
    "    # change the ID value to -1\n",
    "    sub_data['id'] = 0\n",
    "    ## Adding dummy rows\n",
    "    for x in range(32 - sub_data.shape[0]):\n",
    "        sub_data = sub_data.append(pd.Series([-1, -1, -1, -1, -1, -1, -1,\n",
    "                                             -1, -1, -1, -1, -1, -1, -1,\n",
    "                                             -1, -1, -1, -1, -1, -1, -1, -1,\n",
    "                                             -1, -1, -1, -1, -1, -1, -1,-1, -1, -1], \n",
    "                                             index=sub_data.columns) , ignore_index=True)\n",
    "    t1 = np.array(sub_data.values)\n",
    "    \n",
    "    t2 = t1.reshape(32, 32, 1)\n",
    "    trainX.append(t2)\n",
    "\n",
    "trainX = np.array(trainX)\n",
    "trainX = np.reshape(trainX,(trainX.shape[0],32,32,1))\n",
    "print(\"Training data shape:\", trainX.shape, trainY.shape)"
   ]
  },
  {
   "cell_type": "code",
   "execution_count": 23,
   "metadata": {},
   "outputs": [
    {
     "name": "stderr",
     "output_type": "stream",
     "text": [
      "C:\\Users\\ramesind\\AppData\\Local\\Continuum\\anaconda3\\lib\\site-packages\\ipykernel_launcher.py:7: SettingWithCopyWarning: \n",
      "A value is trying to be set on a copy of a slice from a DataFrame.\n",
      "Try using .loc[row_indexer,col_indexer] = value instead\n",
      "\n",
      "See the caveats in the documentation: http://pandas.pydata.org/pandas-docs/stable/user_guide/indexing.html#returning-a-view-versus-a-copy\n",
      "  import sys\n"
     ]
    },
    {
     "name": "stdout",
     "output_type": "stream",
     "text": [
      "Test data shape: (60, 32, 32, 1) (60,)\n"
     ]
    }
   ],
   "source": [
    "## Prepare the training data\n",
    "testX = []\n",
    "\n",
    "for i in test_idx.id:\n",
    "    sub_data = X_stdT2[X_stdT2.id == i]\n",
    "    # change the ID value to -1\n",
    "    sub_data['id'] = -1\n",
    "    ## Adding dummy rows\n",
    "    for x in range(32 - sub_data.shape[0]):\n",
    "        sub_data = sub_data.append(pd.Series([-1, -1, -1, -1, -1, -1, -1,\n",
    "                                             -1, -1, -1, -1, -1, -1, -1,\n",
    "                                             -1, -1, -1, -1, -1, -1, -1, -1,\n",
    "                                             -1, -1, -1, -1, -1, -1, -1,-1, -1, -1], \n",
    "                                             index=sub_data.columns) , ignore_index=True)\n",
    "    t1 = np.array(sub_data.values)\n",
    "    \n",
    "    t2 = t1.reshape(32, 32, 1)\n",
    "    testX.append(t2)\n",
    "\n",
    "testX = np.array(testX)\n",
    "testX = np.reshape(testX,(testX.shape[0],32,32,1))\n",
    "\n",
    "print(\"Test data shape:\", testX.shape, testY.shape)"
   ]
  },
  {
   "cell_type": "markdown",
   "metadata": {},
   "source": [
    "## Build Model"
   ]
  },
  {
   "cell_type": "code",
   "execution_count": 12,
   "metadata": {},
   "outputs": [],
   "source": [
    "## CNN model\n",
    "filepath='./output/'"
   ]
  },
  {
   "cell_type": "code",
   "execution_count": 52,
   "metadata": {},
   "outputs": [],
   "source": [
    "## Define custom metrics\n",
    "import tensorflow as tf\n",
    "\n",
    "def recall_m(y_true, y_pred):\n",
    "        true_positives = K.sum(K.round(K.clip(y_true * y_pred, 0, 1)))\n",
    "        possible_positives = K.sum(K.round(K.clip(y_true, 0, 1)))\n",
    "        recall = true_positives / (possible_positives + K.epsilon())\n",
    "        return recall\n",
    "\n",
    "def precision_m(y_true, y_pred):\n",
    "        true_positives = K.sum(K.round(K.clip(y_true * y_pred, 0, 1)))\n",
    "        predicted_positives = K.sum(K.round(K.clip(y_pred, 0, 1)))\n",
    "        precision = true_positives / (predicted_positives + K.epsilon())\n",
    "        return precision\n",
    "    \n",
    "from keras import backend as K\n",
    "def f1_m(y_true, y_pred):\n",
    "    precision = precision_m(y_true, y_pred)\n",
    "    recall = recall_m(y_true, y_pred)\n",
    "    return 2*((precision*recall)/(precision+recall+K.epsilon()))\n",
    "\n",
    "def auc(y_true, y_pred):\n",
    "    auc = tf.metrics.auc(y_true, y_pred)[1]\n",
    "    K.get_session().run(tf.local_variables_initializer())\n",
    "    return auc"
   ]
  },
  {
   "cell_type": "code",
   "execution_count": 74,
   "metadata": {},
   "outputs": [
    {
     "name": "stdout",
     "output_type": "stream",
     "text": [
      "Building model...\n",
      "_________________________________________________________________\n",
      "Layer (type)                 Output Shape              Param #   \n",
      "=================================================================\n",
      "conv2d_35 (Conv2D)           (None, 32, 32, 32)        320       \n",
      "_________________________________________________________________\n",
      "max_pooling2d_27 (MaxPooling (None, 16, 16, 32)        0         \n",
      "_________________________________________________________________\n",
      "batch_normalization_41 (Batc (None, 16, 16, 32)        128       \n",
      "_________________________________________________________________\n",
      "conv2d_36 (Conv2D)           (None, 16, 16, 16)        4624      \n",
      "_________________________________________________________________\n",
      "conv2d_37 (Conv2D)           (None, 16, 16, 16)        2320      \n",
      "_________________________________________________________________\n",
      "max_pooling2d_28 (MaxPooling (None, 8, 8, 16)          0         \n",
      "_________________________________________________________________\n",
      "batch_normalization_42 (Batc (None, 8, 8, 16)          64        \n",
      "_________________________________________________________________\n",
      "conv2d_38 (Conv2D)           (None, 8, 8, 16)          2320      \n",
      "_________________________________________________________________\n",
      "max_pooling2d_29 (MaxPooling (None, 4, 4, 16)          0         \n",
      "_________________________________________________________________\n",
      "batch_normalization_43 (Batc (None, 4, 4, 16)          64        \n",
      "_________________________________________________________________\n",
      "conv2d_39 (Conv2D)           (None, 4, 4, 64)          9280      \n",
      "_________________________________________________________________\n",
      "max_pooling2d_30 (MaxPooling (None, 2, 2, 64)          0         \n",
      "_________________________________________________________________\n",
      "batch_normalization_44 (Batc (None, 2, 2, 64)          256       \n",
      "_________________________________________________________________\n",
      "global_average_pooling2d_7 ( (None, 64)                0         \n",
      "_________________________________________________________________\n",
      "dense_15 (Dense)             (None, 128)               8320      \n",
      "_________________________________________________________________\n",
      "batch_normalization_45 (Batc (None, 128)               512       \n",
      "_________________________________________________________________\n",
      "dropout_15 (Dropout)         (None, 128)               0         \n",
      "_________________________________________________________________\n",
      "feature_dense (Dense)        (None, 100)               12900     \n",
      "_________________________________________________________________\n",
      "batch_normalization_46 (Batc (None, 100)               400       \n",
      "_________________________________________________________________\n",
      "dropout_16 (Dropout)         (None, 100)               0         \n",
      "_________________________________________________________________\n",
      "dense_16 (Dense)             (None, 1)                 101       \n",
      "_________________________________________________________________\n",
      "activation_8 (Activation)    (None, 1)                 0         \n",
      "=================================================================\n",
      "Total params: 41,609\n",
      "Trainable params: 40,897\n",
      "Non-trainable params: 712\n",
      "_________________________________________________________________\n"
     ]
    }
   ],
   "source": [
    "np.random.seed(109) # for reproducibility\n",
    "print('Building model...')\n",
    "model = Sequential()\n",
    "\n",
    "\n",
    "#1st conv layer\n",
    "model.add(Conv2D(32, (3,3), padding=\"same\", activation = 'relu',\n",
    "                 input_shape=(trainX.shape[1],trainX.shape[2],trainX.shape[3])))\n",
    "model.add(MaxPooling2D(2,2))\n",
    "model.add(BatchNormalization())\n",
    "\n",
    "\n",
    "#2nd conv layer\n",
    "model.add(Conv2D(16, (3,3), padding=\"same\", activation = 'relu'))\n",
    "\n",
    "\n",
    "#3rd conv layer\n",
    "model.add(Conv2D(16, (3,3), padding=\"same\", activation = 'relu'))\n",
    "model.add(MaxPooling2D(2,2))\n",
    "model.add(BatchNormalization())\n",
    "\n",
    "#3rd conv layer\n",
    "model.add(Conv2D(16, (3,3), padding=\"same\", activation = 'relu'))\n",
    "model.add(MaxPooling2D(2,2))\n",
    "model.add(BatchNormalization())\n",
    "\n",
    "#4th conv layer\n",
    "model.add(Conv2D(64, (3,3), padding=\"same\", activation = 'relu'))\n",
    "model.add(MaxPooling2D(2,2))\n",
    "model.add(BatchNormalization())\n",
    "\n",
    "\n",
    "model.add(GlobalAveragePooling2D())\n",
    "\n",
    "#Fully connected layer 1\n",
    "model.add(Dense(128, activation = 'relu'))\n",
    "model.add(BatchNormalization())\n",
    "model.add(Dropout(0.2))\n",
    "\n",
    "#Fully connected layer 2\n",
    "model.add(Dense(100,name ='feature_dense', activation = 'relu'))\n",
    "model.add(BatchNormalization())\n",
    "model.add(Dropout(0.2))\n",
    "\n",
    "#output layer\n",
    "model.add(Dense(1))\n",
    "model.add(Activation('sigmoid'))\n",
    "adam = optimizers.Adam(lr=0.0001)\n",
    "\n",
    "model.compile(loss='binary_crossentropy', metrics=['accuracy',f1_m, recall_m, auc],\n",
    "              optimizer='adam')\n",
    "model.summary()"
   ]
  },
  {
   "cell_type": "code",
   "execution_count": 75,
   "metadata": {
    "scrolled": true
   },
   "outputs": [
    {
     "name": "stdout",
     "output_type": "stream",
     "text": [
      "Train on 216 samples, validate on 24 samples\n",
      "Epoch 1/100\n",
      "216/216 [==============================] - 4s 21ms/step - loss: 1.0241 - acc: 0.5324 - f1_m: 0.4303 - recall_m: 0.5944 - auc: 0.5091 - val_loss: 1.1795 - val_acc: 0.3333 - val_f1_m: 0.2619 - val_recall_m: 0.4444 - val_auc: 0.4889\n",
      "\n",
      "Epoch 00001: val_auc improved from -inf to 0.48888, saving model to ckd_model_conv2D.h5\n",
      "Epoch 2/100\n",
      "216/216 [==============================] - 0s 2ms/step - loss: 0.8167 - acc: 0.5278 - f1_m: 0.3569 - recall_m: 0.4345 - auc: 0.5168 - val_loss: 1.1028 - val_acc: 0.4167 - val_f1_m: 0.4000 - val_recall_m: 0.7778 - val_auc: 0.5110\n",
      "\n",
      "Epoch 00002: val_auc improved from 0.48888 to 0.51097, saving model to ckd_model_conv2D.h5\n",
      "Epoch 3/100\n",
      "216/216 [==============================] - 0s 2ms/step - loss: 0.7511 - acc: 0.5741 - f1_m: 0.4487 - recall_m: 0.5710 - auc: 0.5256 - val_loss: 0.7952 - val_acc: 0.5833 - val_f1_m: 0.2667 - val_recall_m: 0.2222 - val_auc: 0.5339\n",
      "\n",
      "Epoch 00003: val_auc improved from 0.51097 to 0.53388, saving model to ckd_model_conv2D.h5\n",
      "Epoch 4/100\n",
      "216/216 [==============================] - 0s 2ms/step - loss: 0.7102 - acc: 0.6019 - f1_m: 0.4602 - recall_m: 0.5483 - auc: 0.5461 - val_loss: 0.9020 - val_acc: 0.5417 - val_f1_m: 0.2667 - val_recall_m: 0.2222 - val_auc: 0.5521\n",
      "\n",
      "Epoch 00004: val_auc improved from 0.53388 to 0.55206, saving model to ckd_model_conv2D.h5\n",
      "Epoch 5/100\n",
      "216/216 [==============================] - 0s 2ms/step - loss: 0.6293 - acc: 0.6481 - f1_m: 0.4765 - recall_m: 0.5295 - auc: 0.5625 - val_loss: 0.7525 - val_acc: 0.5417 - val_f1_m: 0.3238 - val_recall_m: 0.4444 - val_auc: 0.5752\n",
      "\n",
      "Epoch 00005: val_auc improved from 0.55206 to 0.57517, saving model to ckd_model_conv2D.h5\n",
      "Epoch 6/100\n",
      "216/216 [==============================] - 1s 3ms/step - loss: 0.6666 - acc: 0.6250 - f1_m: 0.4056 - recall_m: 0.4222 - auc: 0.5836 - val_loss: 0.6591 - val_acc: 0.6250 - val_f1_m: 0.0000e+00 - val_recall_m: 0.0000e+00 - val_auc: 0.5845\n",
      "\n",
      "Epoch 00006: val_auc improved from 0.57517 to 0.58453, saving model to ckd_model_conv2D.h5\n",
      "Epoch 7/100\n",
      "216/216 [==============================] - 1s 2ms/step - loss: 0.6200 - acc: 0.6204 - f1_m: 0.4296 - recall_m: 0.4507 - auc: 0.5940 - val_loss: 0.6743 - val_acc: 0.6667 - val_f1_m: 0.1667 - val_recall_m: 0.1111 - val_auc: 0.5964\n",
      "\n",
      "Epoch 00007: val_auc improved from 0.58453 to 0.59641, saving model to ckd_model_conv2D.h5\n",
      "Epoch 8/100\n",
      "216/216 [==============================] - 1s 2ms/step - loss: 0.6236 - acc: 0.6991 - f1_m: 0.5244 - recall_m: 0.5457 - auc: 0.6036 - val_loss: 0.7364 - val_acc: 0.7500 - val_f1_m: 0.4571 - val_recall_m: 0.4444 - val_auc: 0.6067\n",
      "\n",
      "Epoch 00008: val_auc improved from 0.59641 to 0.60672, saving model to ckd_model_conv2D.h5\n",
      "Epoch 9/100\n",
      "216/216 [==============================] - 0s 2ms/step - loss: 0.5928 - acc: 0.6667 - f1_m: 0.4677 - recall_m: 0.4877 - auc: 0.6147 - val_loss: 0.8822 - val_acc: 0.4167 - val_f1_m: 0.3175 - val_recall_m: 0.4444 - val_auc: 0.6163\n",
      "\n",
      "Epoch 00009: val_auc improved from 0.60672 to 0.61635, saving model to ckd_model_conv2D.h5\n",
      "Epoch 10/100\n",
      "216/216 [==============================] - 1s 3ms/step - loss: 0.5193 - acc: 0.7407 - f1_m: 0.5571 - recall_m: 0.5401 - auc: 0.6260 - val_loss: 0.8669 - val_acc: 0.5833 - val_f1_m: 0.3879 - val_recall_m: 0.4444 - val_auc: 0.6307\n",
      "\n",
      "Epoch 00010: val_auc improved from 0.61635 to 0.63069, saving model to ckd_model_conv2D.h5\n",
      "Epoch 11/100\n",
      "216/216 [==============================] - 1s 2ms/step - loss: 0.5916 - acc: 0.7130 - f1_m: 0.4959 - recall_m: 0.5159 - auc: 0.6351 - val_loss: 0.8906 - val_acc: 0.4583 - val_f1_m: 0.1333 - val_recall_m: 0.1111 - val_auc: 0.6353\n",
      "\n",
      "Epoch 00011: val_auc improved from 0.63069 to 0.63535, saving model to ckd_model_conv2D.h5\n",
      "Epoch 12/100\n",
      "216/216 [==============================] - 1s 2ms/step - loss: 0.6813 - acc: 0.6667 - f1_m: 0.4482 - recall_m: 0.4310 - auc: 0.6357 - val_loss: 0.8025 - val_acc: 0.6250 - val_f1_m: 0.4000 - val_recall_m: 0.4444 - val_auc: 0.6342\n",
      "\n",
      "Epoch 00012: val_auc did not improve from 0.63535\n",
      "Epoch 13/100\n",
      "216/216 [==============================] - 0s 2ms/step - loss: 0.6199 - acc: 0.6898 - f1_m: 0.4381 - recall_m: 0.4437 - auc: 0.6374 - val_loss: 0.7647 - val_acc: 0.6667 - val_f1_m: 0.1667 - val_recall_m: 0.1111 - val_auc: 0.6377\n",
      "\n",
      "Epoch 00013: val_auc improved from 0.63535 to 0.63767, saving model to ckd_model_conv2D.h5\n",
      "Epoch 14/100\n",
      "216/216 [==============================] - 0s 2ms/step - loss: 0.5706 - acc: 0.7361 - f1_m: 0.5488 - recall_m: 0.5145 - auc: 0.6432 - val_loss: 0.8085 - val_acc: 0.6250 - val_f1_m: 0.0000e+00 - val_recall_m: 0.0000e+00 - val_auc: 0.6436\n",
      "\n",
      "Epoch 00014: val_auc improved from 0.63767 to 0.64359, saving model to ckd_model_conv2D.h5\n",
      "Epoch 15/100\n",
      "216/216 [==============================] - 0s 2ms/step - loss: 0.5142 - acc: 0.7130 - f1_m: 0.4895 - recall_m: 0.4434 - auc: 0.6484 - val_loss: 0.7894 - val_acc: 0.7083 - val_f1_m: 0.1667 - val_recall_m: 0.1111 - val_auc: 0.6507\n",
      "\n",
      "Epoch 00015: val_auc improved from 0.64359 to 0.65067, saving model to ckd_model_conv2D.h5\n",
      "Epoch 16/100\n",
      "216/216 [==============================] - 1s 2ms/step - loss: 0.5049 - acc: 0.7500 - f1_m: 0.6230 - recall_m: 0.6430 - auc: 0.6568 - val_loss: 0.6693 - val_acc: 0.7500 - val_f1_m: 0.2667 - val_recall_m: 0.2222 - val_auc: 0.6593\n",
      "\n",
      "Epoch 00016: val_auc improved from 0.65067 to 0.65927, saving model to ckd_model_conv2D.h5\n",
      "Epoch 17/100\n",
      "216/216 [==============================] - 0s 2ms/step - loss: 0.5618 - acc: 0.6991 - f1_m: 0.5144 - recall_m: 0.4970 - auc: 0.6614 - val_loss: 0.7657 - val_acc: 0.5000 - val_f1_m: 0.0000e+00 - val_recall_m: 0.0000e+00 - val_auc: 0.6629\n",
      "\n",
      "Epoch 00017: val_auc improved from 0.65927 to 0.66290, saving model to ckd_model_conv2D.h5\n",
      "Epoch 18/100\n",
      "216/216 [==============================] - 0s 2ms/step - loss: 0.4922 - acc: 0.7639 - f1_m: 0.6012 - recall_m: 0.5627 - auc: 0.6673 - val_loss: 0.7777 - val_acc: 0.4583 - val_f1_m: 0.2222 - val_recall_m: 0.2222 - val_auc: 0.6693\n",
      "\n",
      "Epoch 00018: val_auc improved from 0.66290 to 0.66933, saving model to ckd_model_conv2D.h5\n",
      "Epoch 19/100\n",
      "216/216 [==============================] - 0s 2ms/step - loss: 0.4678 - acc: 0.7824 - f1_m: 0.6479 - recall_m: 0.6108 - auc: 0.6747 - val_loss: 0.8262 - val_acc: 0.5417 - val_f1_m: 0.2667 - val_recall_m: 0.2222 - val_auc: 0.6765\n",
      "\n",
      "Epoch 00019: val_auc improved from 0.66933 to 0.67652, saving model to ckd_model_conv2D.h5\n",
      "Epoch 20/100\n",
      "216/216 [==============================] - 1s 2ms/step - loss: 0.4703 - acc: 0.7407 - f1_m: 0.5383 - recall_m: 0.5117 - auc: 0.6796 - val_loss: 0.6239 - val_acc: 0.6250 - val_f1_m: 0.2222 - val_recall_m: 0.2222 - val_auc: 0.6826\n",
      "\n",
      "Epoch 00020: val_auc improved from 0.67652 to 0.68265, saving model to ckd_model_conv2D.h5\n",
      "Epoch 21/100\n",
      "216/216 [==============================] - 0s 2ms/step - loss: 0.4443 - acc: 0.7917 - f1_m: 0.6826 - recall_m: 0.7363 - auc: 0.6872 - val_loss: 0.7347 - val_acc: 0.6250 - val_f1_m: 0.2667 - val_recall_m: 0.2222 - val_auc: 0.6908\n",
      "\n",
      "Epoch 00021: val_auc improved from 0.68265 to 0.69080, saving model to ckd_model_conv2D.h5\n",
      "Epoch 22/100\n",
      "216/216 [==============================] - 0s 2ms/step - loss: 0.4314 - acc: 0.8102 - f1_m: 0.6795 - recall_m: 0.6640 - auc: 0.6967 - val_loss: 1.1221 - val_acc: 0.3750 - val_f1_m: 0.2857 - val_recall_m: 0.4444 - val_auc: 0.6984\n",
      "\n",
      "Epoch 00022: val_auc improved from 0.69080 to 0.69836, saving model to ckd_model_conv2D.h5\n",
      "Epoch 23/100\n",
      "216/216 [==============================] - 1s 2ms/step - loss: 0.4814 - acc: 0.7639 - f1_m: 0.6024 - recall_m: 0.6358 - auc: 0.7015 - val_loss: 1.0164 - val_acc: 0.4583 - val_f1_m: 0.3248 - val_recall_m: 0.4444 - val_auc: 0.7027\n",
      "\n",
      "Epoch 00023: val_auc improved from 0.69836 to 0.70265, saving model to ckd_model_conv2D.h5\n",
      "Epoch 24/100\n",
      "216/216 [==============================] - 0s 2ms/step - loss: 0.4663 - acc: 0.7778 - f1_m: 0.6426 - recall_m: 0.6099 - auc: 0.7051 - val_loss: 1.1576 - val_acc: 0.4167 - val_f1_m: 0.2222 - val_recall_m: 0.2222 - val_auc: 0.7067\n",
      "\n",
      "Epoch 00024: val_auc improved from 0.70265 to 0.70673, saving model to ckd_model_conv2D.h5\n",
      "Epoch 25/100\n",
      "216/216 [==============================] - 0s 2ms/step - loss: 0.4327 - acc: 0.7917 - f1_m: 0.6534 - recall_m: 0.6686 - auc: 0.7110 - val_loss: 1.1535 - val_acc: 0.3333 - val_f1_m: 0.2000 - val_recall_m: 0.3333 - val_auc: 0.7117\n"
     ]
    },
    {
     "name": "stdout",
     "output_type": "stream",
     "text": [
      "\n",
      "Epoch 00025: val_auc improved from 0.70673 to 0.71167, saving model to ckd_model_conv2D.h5\n",
      "Epoch 26/100\n",
      "216/216 [==============================] - 1s 2ms/step - loss: 0.4115 - acc: 0.7824 - f1_m: 0.6620 - recall_m: 0.7160 - auc: 0.7156 - val_loss: 1.2159 - val_acc: 0.3750 - val_f1_m: 0.1111 - val_recall_m: 0.1111 - val_auc: 0.7175\n",
      "\n",
      "Epoch 00026: val_auc improved from 0.71167 to 0.71747, saving model to ckd_model_conv2D.h5\n",
      "Epoch 27/100\n",
      "216/216 [==============================] - 0s 2ms/step - loss: 0.4078 - acc: 0.8056 - f1_m: 0.7022 - recall_m: 0.7240 - auc: 0.7213 - val_loss: 1.1813 - val_acc: 0.5000 - val_f1_m: 0.1333 - val_recall_m: 0.1111 - val_auc: 0.7229\n",
      "\n",
      "Epoch 00027: val_auc improved from 0.71747 to 0.72291, saving model to ckd_model_conv2D.h5\n",
      "Epoch 28/100\n",
      "216/216 [==============================] - 0s 2ms/step - loss: 0.3893 - acc: 0.8241 - f1_m: 0.7018 - recall_m: 0.6844 - auc: 0.7259 - val_loss: 0.7942 - val_acc: 0.6667 - val_f1_m: 0.0000e+00 - val_recall_m: 0.0000e+00 - val_auc: 0.7284\n",
      "\n",
      "Epoch 00028: val_auc improved from 0.72291 to 0.72841, saving model to ckd_model_conv2D.h5\n",
      "Epoch 29/100\n",
      "216/216 [==============================] - 1s 2ms/step - loss: 0.3883 - acc: 0.8241 - f1_m: 0.7020 - recall_m: 0.6971 - auc: 0.7317 - val_loss: 0.8335 - val_acc: 0.6250 - val_f1_m: 0.0000e+00 - val_recall_m: 0.0000e+00 - val_auc: 0.7337\n",
      "\n",
      "Epoch 00029: val_auc improved from 0.72841 to 0.73372, saving model to ckd_model_conv2D.h5\n",
      "Epoch 30/100\n",
      "216/216 [==============================] - 0s 2ms/step - loss: 0.3728 - acc: 0.8333 - f1_m: 0.7190 - recall_m: 0.7157 - auc: 0.7368 - val_loss: 0.6961 - val_acc: 0.5833 - val_f1_m: 0.3386 - val_recall_m: 0.4444 - val_auc: 0.7390\n",
      "\n",
      "Epoch 00030: val_auc improved from 0.73372 to 0.73896, saving model to ckd_model_conv2D.h5\n",
      "Epoch 31/100\n",
      "216/216 [==============================] - 0s 2ms/step - loss: 0.3109 - acc: 0.8519 - f1_m: 0.7806 - recall_m: 0.7914 - auc: 0.7428 - val_loss: 1.0579 - val_acc: 0.4583 - val_f1_m: 0.3162 - val_recall_m: 0.5556 - val_auc: 0.7450\n",
      "\n",
      "Epoch 00031: val_auc improved from 0.73896 to 0.74503, saving model to ckd_model_conv2D.h5\n",
      "Epoch 32/100\n",
      "216/216 [==============================] - 1s 2ms/step - loss: 0.3505 - acc: 0.8333 - f1_m: 0.7408 - recall_m: 0.8036 - auc: 0.7486 - val_loss: 0.8613 - val_acc: 0.5417 - val_f1_m: 0.3556 - val_recall_m: 0.5556 - val_auc: 0.7503\n",
      "\n",
      "Epoch 00032: val_auc improved from 0.74503 to 0.75033, saving model to ckd_model_conv2D.h5\n",
      "Epoch 33/100\n",
      "216/216 [==============================] - 0s 2ms/step - loss: 0.3101 - acc: 0.8611 - f1_m: 0.7784 - recall_m: 0.8072 - auc: 0.7538 - val_loss: 0.9883 - val_acc: 0.4167 - val_f1_m: 0.3016 - val_recall_m: 0.5556 - val_auc: 0.7558\n",
      "\n",
      "Epoch 00033: val_auc improved from 0.75033 to 0.75583, saving model to ckd_model_conv2D.h5\n",
      "Epoch 34/100\n",
      "216/216 [==============================] - 0s 2ms/step - loss: 0.2893 - acc: 0.8657 - f1_m: 0.7974 - recall_m: 0.8381 - auc: 0.7592 - val_loss: 1.0287 - val_acc: 0.4583 - val_f1_m: 0.2222 - val_recall_m: 0.2222 - val_auc: 0.7614\n",
      "\n",
      "Epoch 00034: val_auc improved from 0.75583 to 0.76138, saving model to ckd_model_conv2D.h5\n",
      "Epoch 35/100\n",
      "216/216 [==============================] - 0s 2ms/step - loss: 0.2946 - acc: 0.8704 - f1_m: 0.7947 - recall_m: 0.8068 - auc: 0.7648 - val_loss: 0.9272 - val_acc: 0.5000 - val_f1_m: 0.3385 - val_recall_m: 0.5556 - val_auc: 0.7667\n",
      "\n",
      "Epoch 00035: val_auc improved from 0.76138 to 0.76670, saving model to ckd_model_conv2D.h5\n",
      "Epoch 36/100\n",
      "216/216 [==============================] - 0s 2ms/step - loss: 0.2485 - acc: 0.9074 - f1_m: 0.8567 - recall_m: 0.8735 - auc: 0.7701 - val_loss: 0.8601 - val_acc: 0.6250 - val_f1_m: 0.4091 - val_recall_m: 0.5556 - val_auc: 0.7726\n",
      "\n",
      "Epoch 00036: val_auc improved from 0.76670 to 0.77256, saving model to ckd_model_conv2D.h5\n",
      "Epoch 37/100\n",
      "216/216 [==============================] - 0s 2ms/step - loss: 0.2542 - acc: 0.9028 - f1_m: 0.8269 - recall_m: 0.8538 - auc: 0.7761 - val_loss: 1.0943 - val_acc: 0.4583 - val_f1_m: 0.1333 - val_recall_m: 0.1111 - val_auc: 0.7777\n",
      "\n",
      "Epoch 00037: val_auc improved from 0.77256 to 0.77773, saving model to ckd_model_conv2D.h5\n",
      "Epoch 38/100\n",
      "216/216 [==============================] - 1s 2ms/step - loss: 0.3491 - acc: 0.8380 - f1_m: 0.7364 - recall_m: 0.8127 - auc: 0.7802 - val_loss: 1.3042 - val_acc: 0.4167 - val_f1_m: 0.2222 - val_recall_m: 0.3333 - val_auc: 0.7811\n",
      "\n",
      "Epoch 00038: val_auc improved from 0.77773 to 0.78108, saving model to ckd_model_conv2D.h5\n",
      "Epoch 39/100\n",
      "216/216 [==============================] - 0s 2ms/step - loss: 0.2703 - acc: 0.8796 - f1_m: 0.8074 - recall_m: 0.8550 - auc: 0.7839 - val_loss: 1.1384 - val_acc: 0.6250 - val_f1_m: 0.2667 - val_recall_m: 0.2222 - val_auc: 0.7859\n",
      "\n",
      "Epoch 00039: val_auc improved from 0.78108 to 0.78586, saving model to ckd_model_conv2D.h5\n",
      "Epoch 40/100\n",
      "216/216 [==============================] - 0s 2ms/step - loss: 0.4117 - acc: 0.8380 - f1_m: 0.7539 - recall_m: 0.7899 - auc: 0.7878 - val_loss: 0.9906 - val_acc: 0.5833 - val_f1_m: 0.2667 - val_recall_m: 0.2222 - val_auc: 0.7882\n",
      "\n",
      "Epoch 00040: val_auc improved from 0.78586 to 0.78815, saving model to ckd_model_conv2D.h5\n",
      "Epoch 41/100\n",
      "216/216 [==============================] - 0s 2ms/step - loss: 0.3523 - acc: 0.8426 - f1_m: 0.7570 - recall_m: 0.7725 - auc: 0.7903 - val_loss: 1.6603 - val_acc: 0.4167 - val_f1_m: 0.2222 - val_recall_m: 0.2222 - val_auc: 0.7902\n",
      "\n",
      "Epoch 00041: val_auc improved from 0.78815 to 0.79017, saving model to ckd_model_conv2D.h5\n",
      "Epoch 42/100\n",
      "216/216 [==============================] - 1s 2ms/step - loss: 0.3966 - acc: 0.8148 - f1_m: 0.6985 - recall_m: 0.7093 - auc: 0.7921 - val_loss: 1.7645 - val_acc: 0.3750 - val_f1_m: 0.3444 - val_recall_m: 0.6667 - val_auc: 0.7919\n",
      "\n",
      "Epoch 00042: val_auc improved from 0.79017 to 0.79195, saving model to ckd_model_conv2D.h5\n",
      "Epoch 43/100\n",
      "216/216 [==============================] - 1s 2ms/step - loss: 0.2846 - acc: 0.8843 - f1_m: 0.8254 - recall_m: 0.8229 - auc: 0.7938 - val_loss: 1.0376 - val_acc: 0.5000 - val_f1_m: 0.1667 - val_recall_m: 0.1111 - val_auc: 0.7952\n",
      "\n",
      "Epoch 00043: val_auc improved from 0.79195 to 0.79517, saving model to ckd_model_conv2D.h5\n",
      "Epoch 44/100\n",
      "216/216 [==============================] - 0s 2ms/step - loss: 0.3014 - acc: 0.8472 - f1_m: 0.7488 - recall_m: 0.7873 - auc: 0.7973 - val_loss: 1.0678 - val_acc: 0.5417 - val_f1_m: 0.1667 - val_recall_m: 0.1111 - val_auc: 0.7984\n",
      "\n",
      "Epoch 00044: val_auc improved from 0.79517 to 0.79839, saving model to ckd_model_conv2D.h5\n",
      "Epoch 45/100\n",
      "216/216 [==============================] - 1s 2ms/step - loss: 0.2318 - acc: 0.8889 - f1_m: 0.8091 - recall_m: 0.7884 - auc: 0.8007 - val_loss: 1.2198 - val_acc: 0.5417 - val_f1_m: 0.2879 - val_recall_m: 0.3333 - val_auc: 0.8019\n",
      "\n",
      "Epoch 00045: val_auc improved from 0.79839 to 0.80192, saving model to ckd_model_conv2D.h5\n",
      "Epoch 46/100\n",
      "216/216 [==============================] - 1s 2ms/step - loss: 0.2410 - acc: 0.8889 - f1_m: 0.8270 - recall_m: 0.8712 - auc: 0.8041 - val_loss: 1.3211 - val_acc: 0.6250 - val_f1_m: 0.5299 - val_recall_m: 0.8889 - val_auc: 0.8055\n",
      "\n",
      "Epoch 00046: val_auc improved from 0.80192 to 0.80553, saving model to ckd_model_conv2D.h5\n",
      "Epoch 47/100\n",
      "216/216 [==============================] - 0s 2ms/step - loss: 0.1928 - acc: 0.9167 - f1_m: 0.8771 - recall_m: 0.8916 - auc: 0.8080 - val_loss: 1.1998 - val_acc: 0.5833 - val_f1_m: 0.5333 - val_recall_m: 0.8889 - val_auc: 0.8097\n",
      "\n",
      "Epoch 00047: val_auc improved from 0.80553 to 0.80968, saving model to ckd_model_conv2D.h5\n",
      "Epoch 48/100\n",
      "216/216 [==============================] - 1s 2ms/step - loss: 0.1655 - acc: 0.9444 - f1_m: 0.9086 - recall_m: 0.9259 - auc: 0.8123 - val_loss: 1.5589 - val_acc: 0.5000 - val_f1_m: 0.4000 - val_recall_m: 0.7778 - val_auc: 0.8141\n",
      "\n",
      "Epoch 00048: val_auc improved from 0.80968 to 0.81412, saving model to ckd_model_conv2D.h5\n",
      "Epoch 49/100\n",
      "216/216 [==============================] - 0s 2ms/step - loss: 0.2169 - acc: 0.9120 - f1_m: 0.8594 - recall_m: 0.8953 - auc: 0.8164 - val_loss: 1.5091 - val_acc: 0.5417 - val_f1_m: 0.4551 - val_recall_m: 0.7778 - val_auc: 0.8175\n",
      "\n",
      "Epoch 00049: val_auc improved from 0.81412 to 0.81751, saving model to ckd_model_conv2D.h5\n",
      "Epoch 50/100\n",
      "216/216 [==============================] - 0s 2ms/step - loss: 0.1840 - acc: 0.9259 - f1_m: 0.8762 - recall_m: 0.8888 - auc: 0.8198 - val_loss: 1.8026 - val_acc: 0.4583 - val_f1_m: 0.4000 - val_recall_m: 0.6667 - val_auc: 0.8211\n",
      "\n",
      "Epoch 00050: val_auc improved from 0.81751 to 0.82114, saving model to ckd_model_conv2D.h5\n",
      "Epoch 51/100\n",
      "216/216 [==============================] - 0s 2ms/step - loss: 0.1104 - acc: 0.9722 - f1_m: 0.9596 - recall_m: 0.9616 - auc: 0.8240 - val_loss: 1.1999 - val_acc: 0.6250 - val_f1_m: 0.4000 - val_recall_m: 0.4444 - val_auc: 0.8257\n",
      "\n",
      "Epoch 00051: val_auc improved from 0.82114 to 0.82567, saving model to ckd_model_conv2D.h5\n"
     ]
    }
   ],
   "source": [
    "batch_size = 16\n",
    "epochs = 100\n",
    "early_stops = EarlyStopping(patience= 50 , monitor='val_auc')\n",
    "filepath='ckd_model_conv2D.h5'\n",
    "ckpt_callback = ModelCheckpoint(filepath,\n",
    "                                 monitor='val_auc',\n",
    "                                 verbose=1, \n",
    "                                 save_best_only=True, \n",
    "                                 mode='max')\n",
    "    \n",
    "ckd_mdl = model.fit(trainX, trainY, validation_split=0.1, callbacks=[early_stops,ckpt_callback], \n",
    "                        batch_size=batch_size, epochs=epochs)\n",
    "#model.save('ckd_model_conv2D.h5')"
   ]
  },
  {
   "cell_type": "code",
   "execution_count": 76,
   "metadata": {},
   "outputs": [
    {
     "data": {
      "text/plain": [
       "<matplotlib.legend.Legend at 0x1cceb6e47c8>"
      ]
     },
     "execution_count": 76,
     "metadata": {},
     "output_type": "execute_result"
    },
    {
     "data": {
      "image/png": "[encoded data removed]",
      "text/plain": [
       "<Figure size 432x288 with 1 Axes>"
      ]
     },
     "metadata": {
      "needs_background": "light"
     },
     "output_type": "display_data"
    }
   ],
   "source": [
    "plt.figure()\n",
    "N = 51\n",
    "plt.plot(np.arange(0, N), ckd_mdl.history[\"loss\"], label=\"train_loss\")\n",
    "plt.plot(np.arange(0, N), ckd_mdl.history[\"val_loss\"], label=\"val_loss\")\n",
    "plt.plot(np.arange(0, N), ckd_mdl.history[\"acc\"], label=\"train_acc\")\n",
    "plt.plot(np.arange(0, N), ckd_mdl.history[\"val_acc\"], label=\"val_acc\")\n",
    "plt.title(\"Training Loss and Accuracy\")\n",
    "plt.xlabel(\"Epoch #\")\n",
    "plt.ylabel(\"Loss/Accuracy\")\n",
    "plt.legend(loc=\"upper right\")"
   ]
  },
  {
   "cell_type": "code",
   "execution_count": null,
   "metadata": {},
   "outputs": [],
   "source": []
  },
  {
   "cell_type": "code",
   "execution_count": 77,
   "metadata": {},
   "outputs": [
    {
     "name": "stdout",
     "output_type": "stream",
     "text": [
      "60/60 [==============================] - 1s 20ms/step\n"
     ]
    }
   ],
   "source": [
    "## Load the model and perform prediction on test data\n",
    "from keras.models import load_model\n",
    "saved_model = load_model('ckd_model_conv2D.h5', custom_objects={'f1_m': f1_m, 'recall_m': recall_m, 'auc': auc })\n",
    "pred_Y = saved_model.predict(testX, batch_size = batch_size, verbose = True)"
   ]
  },
  {
   "cell_type": "code",
   "execution_count": 223,
   "metadata": {},
   "outputs": [],
   "source": [
    "# pred_bool = pred > 0.4\n",
    "# labels = pred_bool.astype(\"int32\")\n",
    "# label_predictions.append(labels)"
   ]
  },
  {
   "cell_type": "code",
   "execution_count": 78,
   "metadata": {},
   "outputs": [
    {
     "name": "stdout",
     "output_type": "stream",
     "text": [
      "[[26 12]\n",
      " [ 8 14]]\n"
     ]
    },
    {
     "data": {
      "image/png": "[encoded data removed]",
      "text/plain": [
       "<Figure size 432x288 with 2 Axes>"
      ]
     },
     "metadata": {
      "needs_background": "light"
     },
     "output_type": "display_data"
    }
   ],
   "source": [
    "## Confusion matrix\n",
    "from sklearn.metrics import confusion_matrix\n",
    "import matplotlib.pyplot as plt\n",
    "labs = [0,1]\n",
    "cm1 = confusion_matrix(testY,np.round(pred_Y))\n",
    "print(cm1)\n",
    "fig = plt.figure()\n",
    "ax = fig.add_subplot(111)\n",
    "cax = ax.matshow(cm1)\n",
    "plt.title('Confusion matrix of the classifier')\n",
    "fig.colorbar(cax)\n",
    "ax.set_xticklabels([''] + labs)\n",
    "ax.set_yticklabels([''] + labs)\n",
    "plt.xlabel('Predicted')\n",
    "plt.ylabel('Actual')\n",
    "plt.show()"
   ]
  },
  {
   "cell_type": "code",
   "execution_count": 79,
   "metadata": {},
   "outputs": [
    {
     "name": "stdout",
     "output_type": "stream",
     "text": [
      "[[26 12]\n",
      " [ 8 14]]\n",
      "              precision    recall  f1-score   support\n",
      "\n",
      "           0       0.76      0.68      0.72        38\n",
      "           1       0.54      0.64      0.58        22\n",
      "\n",
      "    accuracy                           0.67        60\n",
      "   macro avg       0.65      0.66      0.65        60\n",
      "weighted avg       0.68      0.67      0.67        60\n",
      "\n"
     ]
    }
   ],
   "source": [
    "from sklearn import metrics\n",
    "\n",
    "confusion_matrix = metrics.confusion_matrix(testY, np.round(pred_Y))\n",
    "\n",
    "classification_report = metrics.classification_report(testY, np.round(pred_Y))\n",
    "print(confusion_matrix)\n",
    "print(classification_report)"
   ]
  },
  {
   "cell_type": "code",
   "execution_count": 80,
   "metadata": {},
   "outputs": [
    {
     "data": {
      "text/plain": [
       "0.6666666666666666"
      ]
     },
     "execution_count": 80,
     "metadata": {},
     "output_type": "execute_result"
    }
   ],
   "source": [
    "from sklearn.metrics import accuracy_score\n",
    "accuracy_score(testY, np.round(pred_Y))"
   ]
  },
  {
   "cell_type": "markdown",
   "metadata": {},
   "source": [
    "## ROC curve"
   ]
  },
  {
   "cell_type": "code",
   "execution_count": 81,
   "metadata": {},
   "outputs": [],
   "source": [
    "from sklearn.metrics import roc_curve\n",
    "y_pred_keras = model.predict(testX).ravel()\n",
    "fpr_keras, tpr_keras, thresholds_keras = roc_curve(testY, np.round(pred_Y))\n",
    "\n",
    "from sklearn.metrics import auc\n",
    "auc_keras = auc(fpr_keras, tpr_keras)"
   ]
  },
  {
   "cell_type": "code",
   "execution_count": 82,
   "metadata": {},
   "outputs": [
    {
     "data": {
      "image/png": "[encoded data removed]",
      "text/plain": [
       "<Figure size 432x288 with 1 Axes>"
      ]
     },
     "metadata": {
      "needs_background": "light"
     },
     "output_type": "display_data"
    }
   ],
   "source": [
    "plt.figure(1)\n",
    "plt.plot([0, 1], [0, 1], 'k--')\n",
    "plt.plot(fpr_keras, tpr_keras, label='Model (area = {:.3f})'.format(auc_keras))\n",
    "plt.xlabel('False positive rate')\n",
    "plt.ylabel('True positive rate')\n",
    "plt.title('ROC curve')\n",
    "plt.legend(loc='best')\n",
    "plt.show()"
   ]
  },
  {
   "cell_type": "code",
   "execution_count": null,
   "metadata": {},
   "outputs": [],
   "source": []
  }
 ],
 "metadata": {
  "kernelspec": {
   "display_name": "Python 3",
   "language": "python",
   "name": "python3"
  },
  "language_info": {
   "codemirror_mode": {
    "name": "ipython",
    "version": 3
   },
   "file_extension": ".py",
   "mimetype": "text/x-python",
   "name": "python",
   "nbconvert_exporter": "python",
   "pygments_lexer": "ipython3",
   "version": "3.7.4"
  }
 },
 "nbformat": 4,
 "nbformat_minor": 2
}
