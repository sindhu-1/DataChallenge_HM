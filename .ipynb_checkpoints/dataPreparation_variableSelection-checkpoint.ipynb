{
 "cells": [
  {
   "cell_type": "code",
   "execution_count": null,
   "metadata": {},
   "outputs": [],
   "source": [
    "#########################################################\n",
    "# name: dataPreparation_variableSelection.ipynb\n",
    "# Description: This program merges all the files and \n",
    "# prepares the data for model input\n",
    "# Input Data : ./dataScienceTask\n",
    "# Output Data: ./input\n",
    "#########################################################"
   ]
  },
  {
   "cell_type": "code",
   "execution_count": 1,
   "metadata": {},
   "outputs": [],
   "source": [
    "# Load required libraries\n",
    "import pandas as pd\n",
    "import matplotlib.pyplot as plt\n",
    "import numpy as np\n",
    "import seaborn as sns"
   ]
  },
  {
   "cell_type": "code",
   "execution_count": 4,
   "metadata": {},
   "outputs": [
    {
     "name": "stdout",
     "output_type": "stream",
     "text": [
      "Creatinine (1439, 3)\n",
      "dbp (1821, 3)\n",
      "Glucose (1556, 3)\n",
      "hgb (1129, 3)\n",
      "ldl (1261, 3)\n",
      "sbp (1809, 3)\n"
     ]
    }
   ],
   "source": [
    "# Read in all the datasets\n",
    "df_creatinine = pd.read_csv(\"./dataScienceTask/T_creatinine.csv\")\n",
    "print(\"Creatinine\", df_creatinine.shape)\n",
    "# rename the value column\n",
    "df_creatinine =  df_creatinine.rename({'value': 'vCreatinine'}, axis=1)\n",
    "\n",
    "# read the diastolic blood pressure measurements\n",
    "df_dbp = pd.read_csv(\"./dataScienceTask/T_DBP.csv\")\n",
    "print(\"dbp\", df_dbp.shape)\n",
    "# rename the value column\n",
    "df_dbp =  df_dbp.rename({'value': 'vDBP'}, axis=1)\n",
    "\n",
    "# read the glucose measurements\n",
    "df_gluc = pd.read_csv(\"./dataScienceTask/T_glucose.csv\")\n",
    "print(\"Glucose\", df_gluc.shape)\n",
    "# rename the value column\n",
    "df_gluc =  df_gluc.rename({'value': 'vGlucose'}, axis=1)\n",
    "\n",
    "# read the hemoglobin measurements\n",
    "df_hgb = pd.read_csv(\"./dataScienceTask/T_HGB.csv\")\n",
    "# rename the value column\n",
    "df_hgb =  df_hgb.rename({'value': 'vHGB'}, axis=1)\n",
    "# subset to consider only 2 years data\n",
    "df_hgb = df_hgb\n",
    "df_hgb =  df_hgb[df_hgb.time <=699]\n",
    "# Print the shape\n",
    "print(\"hgb\", df_hgb.shape)\n",
    "# read the Low-density lipoprotein measurements\n",
    "df_ldl = pd.read_csv(\"./dataScienceTask/T_ldl.csv\")\n",
    "print(\"ldl\", df_ldl.shape)\n",
    "# rename the value column\n",
    "df_ldl =  df_ldl.rename({'value': 'vLDL'}, axis=1)\n",
    "\n",
    "# read the Systolic blood pressure measurements\n",
    "df_sbp = pd.read_csv(\"./dataScienceTask/T_SBP.csv\")\n",
    "print(\"sbp\", df_sbp.shape)\n",
    "# rename the value column\n",
    "df_sbp =  df_sbp.rename({'value': 'vSBP'}, axis=1)\n"
   ]
  },
  {
   "cell_type": "code",
   "execution_count": 49,
   "metadata": {},
   "outputs": [],
   "source": [
    "# Read medication data and patients data\n",
    "df_demo = pd.read_csv(\"./dataScienceTask/T_demo.csv\")\n",
    "df_meds = pd.read_csv(\"./dataScienceTask/T_meds.csv\")\n",
    "df_stage = pd.read_csv(\"./dataScienceTask/T_stage.csv\")"
   ]
  },
  {
   "cell_type": "code",
   "execution_count": 5,
   "metadata": {},
   "outputs": [],
   "source": [
    "## Merging all the dataframes\n",
    "\n",
    "merge1 = pd.merge(df_creatinine, df_dbp, how='outer', on=['id', 'time'])\n",
    "merge2 = pd.merge(merge1, df_gluc, how = 'outer', on = ['id', 'time'])\n",
    "merge3 = pd.merge(merge2, df_hgb, how = 'outer', on = ['id', 'time'])\n",
    "merge4 = pd.merge(merge3, df_ldl, how = 'outer', on = ['id', 'time'])\n",
    "merge5 = pd.merge(merge4, df_sbp, how = 'outer', on = ['id', 'time'])"
   ]
  },
  {
   "cell_type": "code",
   "execution_count": 34,
   "metadata": {},
   "outputs": [
    {
     "data": {
      "text/html": [
       "<div>\n",
       "<style scoped>\n",
       "    .dataframe tbody tr th:only-of-type {\n",
       "        vertical-align: middle;\n",
       "    }\n",
       "\n",
       "    .dataframe tbody tr th {\n",
       "        vertical-align: top;\n",
       "    }\n",
       "\n",
       "    .dataframe thead tr th {\n",
       "        text-align: left;\n",
       "    }\n",
       "</style>\n",
       "<table border=\"1\" class=\"dataframe\">\n",
       "  <thead>\n",
       "    <tr>\n",
       "      <th></th>\n",
       "      <th>vCreatinine</th>\n",
       "      <th>time</th>\n",
       "      <th>vDBP</th>\n",
       "      <th>vGlucose</th>\n",
       "      <th>vHGB</th>\n",
       "      <th>vLDL</th>\n",
       "      <th>vSBP</th>\n",
       "    </tr>\n",
       "    <tr>\n",
       "      <th></th>\n",
       "      <th>count</th>\n",
       "      <th>count</th>\n",
       "      <th>count</th>\n",
       "      <th>count</th>\n",
       "      <th>count</th>\n",
       "      <th>count</th>\n",
       "      <th>count</th>\n",
       "    </tr>\n",
       "  </thead>\n",
       "  <tbody>\n",
       "    <tr>\n",
       "      <td>count</td>\n",
       "      <td>300.000000</td>\n",
       "      <td>300.000000</td>\n",
       "      <td>300.000000</td>\n",
       "      <td>300.000000</td>\n",
       "      <td>300.000000</td>\n",
       "      <td>300.000000</td>\n",
       "      <td>300.000000</td>\n",
       "    </tr>\n",
       "    <tr>\n",
       "      <td>mean</td>\n",
       "      <td>12.883333</td>\n",
       "      <td>12.883333</td>\n",
       "      <td>12.883333</td>\n",
       "      <td>12.883333</td>\n",
       "      <td>12.883333</td>\n",
       "      <td>12.883333</td>\n",
       "      <td>12.883333</td>\n",
       "    </tr>\n",
       "    <tr>\n",
       "      <td>std</td>\n",
       "      <td>4.042796</td>\n",
       "      <td>4.042796</td>\n",
       "      <td>4.042796</td>\n",
       "      <td>4.042796</td>\n",
       "      <td>4.042796</td>\n",
       "      <td>4.042796</td>\n",
       "      <td>4.042796</td>\n",
       "    </tr>\n",
       "    <tr>\n",
       "      <td>min</td>\n",
       "      <td>5.000000</td>\n",
       "      <td>5.000000</td>\n",
       "      <td>5.000000</td>\n",
       "      <td>5.000000</td>\n",
       "      <td>5.000000</td>\n",
       "      <td>5.000000</td>\n",
       "      <td>5.000000</td>\n",
       "    </tr>\n",
       "    <tr>\n",
       "      <td>25%</td>\n",
       "      <td>10.000000</td>\n",
       "      <td>10.000000</td>\n",
       "      <td>10.000000</td>\n",
       "      <td>10.000000</td>\n",
       "      <td>10.000000</td>\n",
       "      <td>10.000000</td>\n",
       "      <td>10.000000</td>\n",
       "    </tr>\n",
       "    <tr>\n",
       "      <td>50%</td>\n",
       "      <td>12.000000</td>\n",
       "      <td>12.000000</td>\n",
       "      <td>12.000000</td>\n",
       "      <td>12.000000</td>\n",
       "      <td>12.000000</td>\n",
       "      <td>12.000000</td>\n",
       "      <td>12.000000</td>\n",
       "    </tr>\n",
       "    <tr>\n",
       "      <td>75%</td>\n",
       "      <td>15.000000</td>\n",
       "      <td>15.000000</td>\n",
       "      <td>15.000000</td>\n",
       "      <td>15.000000</td>\n",
       "      <td>15.000000</td>\n",
       "      <td>15.000000</td>\n",
       "      <td>15.000000</td>\n",
       "    </tr>\n",
       "    <tr>\n",
       "      <td>max</td>\n",
       "      <td>26.000000</td>\n",
       "      <td>26.000000</td>\n",
       "      <td>26.000000</td>\n",
       "      <td>26.000000</td>\n",
       "      <td>26.000000</td>\n",
       "      <td>26.000000</td>\n",
       "      <td>26.000000</td>\n",
       "    </tr>\n",
       "  </tbody>\n",
       "</table>\n",
       "</div>"
      ],
      "text/plain": [
       "      vCreatinine        time        vDBP    vGlucose        vHGB        vLDL  \\\n",
       "            count       count       count       count       count       count   \n",
       "count  300.000000  300.000000  300.000000  300.000000  300.000000  300.000000   \n",
       "mean    12.883333   12.883333   12.883333   12.883333   12.883333   12.883333   \n",
       "std      4.042796    4.042796    4.042796    4.042796    4.042796    4.042796   \n",
       "min      5.000000    5.000000    5.000000    5.000000    5.000000    5.000000   \n",
       "25%     10.000000   10.000000   10.000000   10.000000   10.000000   10.000000   \n",
       "50%     12.000000   12.000000   12.000000   12.000000   12.000000   12.000000   \n",
       "75%     15.000000   15.000000   15.000000   15.000000   15.000000   15.000000   \n",
       "max     26.000000   26.000000   26.000000   26.000000   26.000000   26.000000   \n",
       "\n",
       "             vSBP  \n",
       "            count  \n",
       "count  300.000000  \n",
       "mean    12.883333  \n",
       "std      4.042796  \n",
       "min      5.000000  \n",
       "25%     10.000000  \n",
       "50%     12.000000  \n",
       "75%     15.000000  \n",
       "max     26.000000  "
      ]
     },
     "execution_count": 34,
     "metadata": {},
     "output_type": "execute_result"
    }
   ],
   "source": [
    "# create a duplicate to check for the number dimension of data.\n",
    "\n",
    "merge5_dup = merge5.fillna(0)\n",
    "num_obs = merge5_dup.groupby(['id']).agg(['count'])\n",
    "num_obs.describe()"
   ]
  },
  {
   "cell_type": "code",
   "execution_count": 40,
   "metadata": {},
   "outputs": [
    {
     "data": {
      "text/plain": [
       "id\n",
       "0      12\n",
       "1      15\n",
       "2      10\n",
       "3      15\n",
       "4      16\n",
       "       ..\n",
       "295    19\n",
       "296    13\n",
       "297    18\n",
       "298    17\n",
       "299    12\n",
       "Name: (time, count), Length: 300, dtype: int64"
      ]
     },
     "execution_count": 40,
     "metadata": {},
     "output_type": "execute_result"
    }
   ],
   "source": [
    "num_obs.iloc[:,1]"
   ]
  },
  {
   "cell_type": "code",
   "execution_count": 41,
   "metadata": {},
   "outputs": [
    {
     "data": {
      "text/plain": [
       "<matplotlib.axes._subplots.AxesSubplot at 0x26d2620cf88>"
      ]
     },
     "execution_count": 41,
     "metadata": {},
     "output_type": "execute_result"
    },
    {
     "data": {
      "image/png": "[encoded data removed]",
      "text/plain": [
       "<Figure size 432x288 with 1 Axes>"
      ]
     },
     "metadata": {
      "needs_background": "light"
     },
     "output_type": "display_data"
    }
   ],
   "source": [
    "num_obs.iloc[:,1].plot(kind='hist')"
   ]
  },
  {
   "cell_type": "code",
   "execution_count": 131,
   "metadata": {},
   "outputs": [],
   "source": [
    "# Create the medicine dosage columns\n",
    "merge6 = pd.merge(merge5[['id', 'time']], df_meds, how = 'left', on =['id'])"
   ]
  },
  {
   "cell_type": "code",
   "execution_count": 132,
   "metadata": {},
   "outputs": [],
   "source": [
    "## Add empty columns for each medicine with NaN for no dosage as default\n",
    "merge6 = merge6.join(pd.DataFrame(\n",
    "   0, \n",
    "    index=merge6.index, \n",
    "    columns= df_meds.drug.unique() + \"_dose\"\n",
    "))"
   ]
  },
  {
   "cell_type": "code",
   "execution_count": null,
   "metadata": {},
   "outputs": [],
   "source": []
  },
  {
   "cell_type": "code",
   "execution_count": 133,
   "metadata": {},
   "outputs": [
    {
     "name": "stderr",
     "output_type": "stream",
     "text": [
      "C:\\Users\\sindh\\Anaconda3\\lib\\site-packages\\ipykernel_launcher.py:6: SettingWithCopyWarning: \n",
      "A value is trying to be set on a copy of a slice from a DataFrame\n",
      "\n",
      "See the caveats in the documentation: http://pandas.pydata.org/pandas-docs/stable/user_guide/indexing.html#returning-a-view-versus-a-copy\n",
      "  \n"
     ]
    }
   ],
   "source": [
    "# Iterate through each row and add the corresponding dosage if the time value is in between the start and end date.\n",
    "for index, row in merge6.iterrows():\n",
    "    if (row['start_day'] <= row['time']) & ( row['time'] <= row['end_day']):\n",
    "        #\n",
    "        col_name = row['drug'] + '_dose'\n",
    "        merge6[col_name][index] = row['daily_dosage']"
   ]
  },
  {
   "cell_type": "code",
   "execution_count": 134,
   "metadata": {},
   "outputs": [],
   "source": [
    "## Keep only the columns created \n",
    "## 'labetalol_dose', 'nebivolol_dose' and  columns are removed as it has zero values. \n",
    "keep_cols = ['time', 'id', 'atorvastatin_dose', 'losartan_dose', 'metformin_dose',\n",
    "       'rosuvastatin_dose', 'pravastatin_dose', 'carvedilol_dose',\n",
    "       'valsartan_dose', 'metoprolol_dose', 'simvastatin_dose',\n",
    "       'bisoprolol_dose', 'atenolol_dose', 'lovastatin_dose',\n",
    "       'olmesartan_dose', 'irbesartan_dose', 'canagliflozin_dose',\n",
    "       'dapagliflozin_dose', 'telmisartan_dose','pitavastatin_dose', 'propranolol_dose']"
   ]
  },
  {
   "cell_type": "code",
   "execution_count": null,
   "metadata": {},
   "outputs": [],
   "source": []
  },
  {
   "cell_type": "code",
   "execution_count": 135,
   "metadata": {},
   "outputs": [],
   "source": [
    "merge6 = merge6[keep_cols].drop_duplicates()"
   ]
  },
  {
   "cell_type": "code",
   "execution_count": 136,
   "metadata": {},
   "outputs": [],
   "source": [
    "# aggregate at ID and time level\n",
    "merge6_cleaned = merge6.groupby(['id','time']).agg(['sum'])\n",
    "\n",
    "merge6_cleaned.columns = keep_cols[2:]\n",
    "merge6_cleaned = merge6_cleaned.reset_index()"
   ]
  },
  {
   "cell_type": "code",
   "execution_count": null,
   "metadata": {},
   "outputs": [],
   "source": [
    "merge6_cleaned[]"
   ]
  },
  {
   "cell_type": "code",
   "execution_count": 87,
   "metadata": {},
   "outputs": [],
   "source": [
    "# # convert categorical variables to numeric \n",
    "# from sklearn.preprocessing import LabelEncoder\n",
    "# from sklearn.preprocessing import OneHotEncoder\n",
    "\n",
    "# # integer encode\n",
    "# label_encoder = LabelEncoder()\n",
    "# integer_encoded = label_encoder.fit_transform(values)\n",
    "# print(integer_encoded)\n",
    "# # binary encode\n",
    "# onehot_encoder = OneHotEncoder(sparse=False)\n",
    "# integer_encoded = integer_encoded.reshape(len(integer_encoded), 1)\n",
    "# onehot_encoded = onehot_encoder.fit_transform(integer_encoded)\n",
    "# print(onehot_encoded)"
   ]
  },
  {
   "cell_type": "code",
   "execution_count": 137,
   "metadata": {},
   "outputs": [],
   "source": [
    "\n",
    "# merge all the data\n",
    "int_data = pd.merge(merge5, merge6_cleaned, how = \"left\", on = ['id', 'time'])\n",
    "final_data = pd.merge(int_data, df_demo, how = \"left\", on = ['id'])"
   ]
  },
  {
   "cell_type": "code",
   "execution_count": 138,
   "metadata": {},
   "outputs": [],
   "source": [
    "## As a padding value replace all NaN with a value that is not common to occur in the data. -99 \n",
    "final_data = final_data.fillna(-99)"
   ]
  },
  {
   "cell_type": "code",
   "execution_count": 139,
   "metadata": {},
   "outputs": [
    {
     "data": {
      "text/plain": [
       "<matplotlib.axes._subplots.AxesSubplot at 0x26d27701748>"
      ]
     },
     "execution_count": 139,
     "metadata": {},
     "output_type": "execute_result"
    },
    {
     "data": {
      "image/png": "[encoded data removed]",
      "text/plain": [
       "<Figure size 792x648 with 2 Axes>"
      ]
     },
     "metadata": {
      "needs_background": "light"
     },
     "output_type": "display_data"
    }
   ],
   "source": [
    "## Plot a correlation plot\n",
    "# Compute the correlation matrix\n",
    "corr = final_data.corr()\n",
    "\n",
    "# Generate a mask for the upper triangle\n",
    "mask = np.triu(np.ones_like(corr, dtype=np.bool))\n",
    "\n",
    "# Set up the matplotlib figure\n",
    "f, ax = plt.subplots(figsize=(11, 9))\n",
    "\n",
    "# Generate a custom diverging colormap\n",
    "cmap = sns.diverging_palette(220, 10, as_cmap=True)\n",
    "\n",
    "# Draw the heatmap with the mask and correct aspect ratio\n",
    "sns.heatmap(corr, mask=mask, cmap=cmap, vmax=.3, center=0,\n",
    "            square=True, linewidths=.5, cbar_kws={\"shrink\": .5})"
   ]
  },
  {
   "cell_type": "code",
   "execution_count": 141,
   "metadata": {},
   "outputs": [],
   "source": [
    "## Feature importance\n",
    "\n",
    "# plt.figure(figsize=(12,3))\n",
    "# features = final_data.columns.values.tolist()\n",
    "# importance = clf_best.feature_importances_.tolist()\n",
    "# feature_series = pd.Series(data=importance,index=features)\n",
    "# feature_series.plot.bar()\n",
    "# plt.title('Feature Importance') "
   ]
  },
  {
   "cell_type": "code",
   "execution_count": 142,
   "metadata": {},
   "outputs": [
    {
     "data": {
      "text/plain": [
       "(3865, 35)"
      ]
     },
     "execution_count": 142,
     "metadata": {},
     "output_type": "execute_result"
    }
   ],
   "source": [
    "final_data.shape"
   ]
  },
  {
   "cell_type": "code",
   "execution_count": 194,
   "metadata": {},
   "outputs": [
    {
     "name": "stdout",
     "output_type": "stream",
     "text": [
      "(300, 35, 26, 1)\n"
     ]
    }
   ],
   "source": [
    "# Shape the Patient data into the desired input format for CNN \n",
    "\n",
    "patient = []\n",
    "\n",
    "for i in range(300):\n",
    "    sub_data = final_data[final_data.id == i]\n",
    "    ## Adding dummy rows\n",
    "    for x in range(26 - sub_data.shape[0]):\n",
    "        sub_data = sub_data.append(pd.Series([-99, -99, -99, -99, -99, -99, -99,\n",
    "                                             -99, -99, -99, -99, -99, -99, -99,\n",
    "                                             -99, -99, -99, -99, -99, -99, -99,\n",
    "                                             -99, -99, -99, -99, -99, -99, -99,\n",
    "                                             -99, -99, -99, -99, -99, -99, -99], index=sub_data.columns) , ignore_index=True)\n",
    "    t1 = np.array(sub_data.values)\n",
    "    \n",
    "    t2 = t1.reshape(35, 26, 1)\n",
    "    patient.append(t2)\n",
    "\n",
    "patient = np.array(patient)\n",
    "patient = np.reshape(patient,(patient.shape[0],35,26,1))\n",
    "print(patient.shape)\n"
   ]
  },
  {
   "cell_type": "code",
   "execution_count": 197,
   "metadata": {},
   "outputs": [
    {
     "data": {
      "text/html": [
       "<div>\n",
       "<style scoped>\n",
       "    .dataframe tbody tr th:only-of-type {\n",
       "        vertical-align: middle;\n",
       "    }\n",
       "\n",
       "    .dataframe tbody tr th {\n",
       "        vertical-align: top;\n",
       "    }\n",
       "\n",
       "    .dataframe thead th {\n",
       "        text-align: right;\n",
       "    }\n",
       "</style>\n",
       "<table border=\"1\" class=\"dataframe\">\n",
       "  <thead>\n",
       "    <tr style=\"text-align: right;\">\n",
       "      <th></th>\n",
       "      <th>id</th>\n",
       "      <th>Stage_Progress</th>\n",
       "    </tr>\n",
       "  </thead>\n",
       "  <tbody>\n",
       "    <tr>\n",
       "      <td>0</td>\n",
       "      <td>0</td>\n",
       "      <td>True</td>\n",
       "    </tr>\n",
       "    <tr>\n",
       "      <td>1</td>\n",
       "      <td>1</td>\n",
       "      <td>False</td>\n",
       "    </tr>\n",
       "    <tr>\n",
       "      <td>2</td>\n",
       "      <td>2</td>\n",
       "      <td>True</td>\n",
       "    </tr>\n",
       "    <tr>\n",
       "      <td>3</td>\n",
       "      <td>3</td>\n",
       "      <td>False</td>\n",
       "    </tr>\n",
       "    <tr>\n",
       "      <td>4</td>\n",
       "      <td>4</td>\n",
       "      <td>True</td>\n",
       "    </tr>\n",
       "    <tr>\n",
       "      <td>...</td>\n",
       "      <td>...</td>\n",
       "      <td>...</td>\n",
       "    </tr>\n",
       "    <tr>\n",
       "      <td>295</td>\n",
       "      <td>295</td>\n",
       "      <td>True</td>\n",
       "    </tr>\n",
       "    <tr>\n",
       "      <td>296</td>\n",
       "      <td>296</td>\n",
       "      <td>False</td>\n",
       "    </tr>\n",
       "    <tr>\n",
       "      <td>297</td>\n",
       "      <td>297</td>\n",
       "      <td>True</td>\n",
       "    </tr>\n",
       "    <tr>\n",
       "      <td>298</td>\n",
       "      <td>298</td>\n",
       "      <td>False</td>\n",
       "    </tr>\n",
       "    <tr>\n",
       "      <td>299</td>\n",
       "      <td>299</td>\n",
       "      <td>False</td>\n",
       "    </tr>\n",
       "  </tbody>\n",
       "</table>\n",
       "<p>300 rows × 2 columns</p>\n",
       "</div>"
      ],
      "text/plain": [
       "      id  Stage_Progress\n",
       "0      0            True\n",
       "1      1           False\n",
       "2      2            True\n",
       "3      3           False\n",
       "4      4            True\n",
       "..   ...             ...\n",
       "295  295            True\n",
       "296  296           False\n",
       "297  297            True\n",
       "298  298           False\n",
       "299  299           False\n",
       "\n",
       "[300 rows x 2 columns]"
      ]
     },
     "execution_count": 197,
     "metadata": {},
     "output_type": "execute_result"
    }
   ],
   "source": [
    "df_stage"
   ]
  },
  {
   "cell_type": "code",
   "execution_count": 198,
   "metadata": {},
   "outputs": [
    {
     "name": "stderr",
     "output_type": "stream",
     "text": [
      "Using TensorFlow backend.\n"
     ]
    }
   ],
   "source": [
    "## Model for predicting the outcome of CKD \n",
    "## Prepare the X and Y variables\n",
    "from keras.utils.np_utils import to_categorical\n",
    "\n",
    "X = patient\n",
    "Y = df_stage[['Stage_Progress']].values\n",
    "Y = to_categorical(Y, 2)"
   ]
  },
  {
   "cell_type": "code",
   "execution_count": 199,
   "metadata": {},
   "outputs": [],
   "source": [
    "# Split the data into train and test data\n",
    "from sklearn.model_selection import train_test_split\n",
    "# 75-25 train test split\n",
    "(trainX, testX, trainY, testY) = train_test_split(X, Y, test_size=0.25)"
   ]
  },
  {
   "cell_type": "code",
   "execution_count": 204,
   "metadata": {},
   "outputs": [
    {
     "name": "stdout",
     "output_type": "stream",
     "text": [
      "Training data shape: (225, 35, 26, 1) (225, 2)\n",
      "Test data shape: (75, 35, 26, 1) (75, 2)\n"
     ]
    }
   ],
   "source": [
    "print(\"Training data shape:\", trainX.shape, trainY.shape)\n",
    "print(\"Test data shape:\", testX.shape, testY.shape)"
   ]
  },
  {
   "cell_type": "markdown",
   "metadata": {},
   "source": [
    "## CNN artictecture "
   ]
  },
  {
   "cell_type": "code",
   "execution_count": 205,
   "metadata": {},
   "outputs": [],
   "source": [
    "from keras.models import Sequential\n",
    "from keras.layers import Conv2D, ZeroPadding2D, Activation, Input, concatenate\n",
    "from keras.models import Model,load_model\n",
    "from keras.layers.normalization import BatchNormalization\n",
    "from keras.layers.pooling import MaxPooling2D, AveragePooling2D\n",
    "from keras.layers.merge import Concatenate\n",
    "from keras.layers.core import Lambda, Flatten, Dense\n",
    "from keras.initializers import glorot_uniform\n",
    "from keras.engine.topology import Layer\n",
    "\n",
    "\n",
    "from keras import applications,models, losses,optimizers\n",
    "from keras.models import Model\n",
    "from keras import optimizers\n",
    "from keras.models import Sequential\n",
    "from keras.layers import Dense, Dropout, Flatten\n",
    "from keras.layers import Convolution2D, MaxPooling2D\n",
    "from keras.layers.normalization import BatchNormalization\n",
    "from keras.metrics import categorical_accuracy\n",
    "from keras.preprocessing.image import ImageDataGenerator\n",
    "from keras.callbacks import EarlyStopping\n",
    "from keras.utils.np_utils import to_categorical\n",
    "from keras.callbacks import ModelCheckpoint\n",
    "from keras.applications.resnet50 import ResNet50\n",
    "from keras.preprocessing import image\n",
    "from keras.applications.resnet50 import preprocess_input, decode_predictions\n",
    "from keras.layers import Input, Dense, Flatten, Dropout, Activation, Lambda, Permute, Reshape\n",
    "import numpy as np\n",
    "import keras.backend as K"
   ]
  },
  {
   "cell_type": "code",
   "execution_count": 213,
   "metadata": {},
   "outputs": [],
   "source": [
    "batch_size = 32\n",
    "epochs = 100\n",
    "filepath='keras_model_conv2D'\n"
   ]
  },
  {
   "cell_type": "code",
   "execution_count": 208,
   "metadata": {},
   "outputs": [
    {
     "name": "stdout",
     "output_type": "stream",
     "text": [
      "Building model...\n",
      "Model: \"sequential_6\"\n",
      "_________________________________________________________________\n",
      "Layer (type)                 Output Shape              Param #   \n",
      "=================================================================\n",
      "conv2d_9 (Conv2D)            (None, 35, 26, 64)        2624      \n",
      "_________________________________________________________________\n",
      "batch_normalization_12 (Batc (None, 35, 26, 64)        256       \n",
      "_________________________________________________________________\n",
      "activation_13 (Activation)   (None, 35, 26, 64)        0         \n",
      "_________________________________________________________________\n",
      "conv2d_10 (Conv2D)           (None, 35, 26, 32)        81952     \n",
      "_________________________________________________________________\n",
      "batch_normalization_13 (Batc (None, 35, 26, 32)        128       \n",
      "_________________________________________________________________\n",
      "activation_14 (Activation)   (None, 35, 26, 32)        0         \n",
      "_________________________________________________________________\n",
      "conv2d_11 (Conv2D)           (None, 35, 26, 32)        40992     \n",
      "_________________________________________________________________\n",
      "batch_normalization_14 (Batc (None, 35, 26, 32)        128       \n",
      "_________________________________________________________________\n",
      "activation_15 (Activation)   (None, 35, 26, 32)        0         \n",
      "_________________________________________________________________\n",
      "conv2d_12 (Conv2D)           (None, 35, 26, 32)        40992     \n",
      "_________________________________________________________________\n",
      "batch_normalization_15 (Batc (None, 35, 26, 32)        128       \n",
      "_________________________________________________________________\n",
      "activation_16 (Activation)   (None, 35, 26, 32)        0         \n",
      "_________________________________________________________________\n",
      "max_pooling2d_3 (MaxPooling2 (None, 17, 13, 32)        0         \n",
      "_________________________________________________________________\n",
      "flatten_3 (Flatten)          (None, 7072)              0         \n",
      "_________________________________________________________________\n",
      "dense_4 (Dense)              (None, 128)               905344    \n",
      "_________________________________________________________________\n",
      "batch_normalization_16 (Batc (None, 128)               512       \n",
      "_________________________________________________________________\n",
      "activation_17 (Activation)   (None, 128)               0         \n",
      "_________________________________________________________________\n",
      "dropout_3 (Dropout)          (None, 128)               0         \n",
      "_________________________________________________________________\n",
      "feature_dense (Dense)        (None, 100)               12900     \n",
      "_________________________________________________________________\n",
      "batch_normalization_17 (Batc (None, 100)               400       \n",
      "_________________________________________________________________\n",
      "activation_18 (Activation)   (None, 100)               0         \n",
      "_________________________________________________________________\n",
      "dense_5 (Dense)              (None, 2)                 202       \n",
      "_________________________________________________________________\n",
      "activation_19 (Activation)   (None, 2)                 0         \n",
      "=================================================================\n",
      "Total params: 1,086,558\n",
      "Trainable params: 1,085,782\n",
      "Non-trainable params: 776\n",
      "_________________________________________________________________\n"
     ]
    }
   ],
   "source": [
    "np.random.seed(109) # for reproducibility\n",
    "print('Building model...')\n",
    "model = Sequential()\n",
    "model = Sequential()\n",
    "\n",
    "#1st conv layer\n",
    "model.add(Conv2D(64, (4,10), padding=\"same\",\n",
    "                 input_shape=(trainX.shape[1],trainX.shape[2],trainX.shape[3])))\n",
    "model.add(BatchNormalization())\n",
    "model.add(Activation(\"relu\"))\n",
    "\n",
    "#2nd conv layer\n",
    "model.add(Conv2D(32, (4,10), padding=\"same\"))\n",
    "model.add(BatchNormalization())\n",
    "model.add(Activation(\"relu\"))\n",
    "\n",
    "#3rd conv layer\n",
    "model.add(Conv2D(32, (4,10), padding=\"same\"))\n",
    "model.add(BatchNormalization())\n",
    "model.add(Activation(\"relu\"))\n",
    "\n",
    "#4th conv layer\n",
    "model.add(Conv2D(32, (4,10), padding=\"same\"))\n",
    "model.add(BatchNormalization())\n",
    "model.add(Activation(\"relu\"))\n",
    "model.add(MaxPooling2D())\n",
    "\n",
    "model.add(Flatten())\n",
    "\n",
    "#FC1\n",
    "model.add(Dense(128))\n",
    "model.add(BatchNormalization())\n",
    "model.add(Activation(\"relu\"))\n",
    "model.add(Dropout(0.3))\n",
    "\n",
    "#FC2\n",
    "model.add(Dense(100,name ='feature_dense'))\n",
    "#model.load_weights(by_name=True,filepath = filepath)\n",
    "model.add(BatchNormalization())\n",
    "model.add(Activation(\"relu\"))\n",
    "\n",
    "#output FC\n",
    "model.add(Dense(2))\n",
    "model.add(Activation('sigmoid'))\n",
    "adam = optimizers.Adam(lr=0.01)\n",
    "\n",
    "model.compile(loss='binary_crossentropy', metrics=['accuracy'], optimizer='adam')\n",
    "model.summary()"
   ]
  },
  {
   "cell_type": "code",
   "execution_count": null,
   "metadata": {},
   "outputs": [],
   "source": []
  },
  {
   "cell_type": "code",
   "execution_count": 214,
   "metadata": {},
   "outputs": [
    {
     "name": "stdout",
     "output_type": "stream",
     "text": [
      "Train on 285 samples, validate on 15 samples\n",
      "Epoch 1/100\n",
      "285/285 [==============================] - 7s 23ms/step - loss: 0.8409 - accuracy: 0.4930 - val_loss: 27.6656 - val_accuracy: 0.2667\n",
      "\n",
      "Epoch 00001: val_loss improved from inf to 27.66564, saving model to ckd_model_conv2D\n",
      "Epoch 2/100\n"
     ]
    },
    {
     "name": "stderr",
     "output_type": "stream",
     "text": [
      "C:\\Users\\sindh\\Anaconda3\\lib\\site-packages\\keras\\callbacks\\callbacks.py:846: RuntimeWarning: Early stopping conditioned on metric `val_auc` which is not available. Available metrics are: val_loss,val_accuracy,loss,accuracy\n",
      "  (self.monitor, ','.join(list(logs.keys()))), RuntimeWarning\n"
     ]
    },
    {
     "name": "stdout",
     "output_type": "stream",
     "text": [
      "285/285 [==============================] - 6s 20ms/step - loss: 0.7403 - accuracy: 0.5596 - val_loss: 9.7942 - val_accuracy: 0.3000\n",
      "\n",
      "Epoch 00002: val_loss improved from 27.66564 to 9.79425, saving model to ckd_model_conv2D\n",
      "Epoch 3/100\n",
      "285/285 [==============================] - 6s 20ms/step - loss: 0.6450 - accuracy: 0.6439 - val_loss: 4.1509 - val_accuracy: 0.5667\n",
      "\n",
      "Epoch 00003: val_loss improved from 9.79425 to 4.15087, saving model to ckd_model_conv2D\n",
      "Epoch 4/100\n",
      "285/285 [==============================] - 6s 22ms/step - loss: 0.6229 - accuracy: 0.6579 - val_loss: 4.7517 - val_accuracy: 0.7333\n",
      "\n",
      "Epoch 00004: val_loss did not improve from 4.15087\n",
      "Epoch 5/100\n",
      "285/285 [==============================] - 6s 22ms/step - loss: 0.5831 - accuracy: 0.7123 - val_loss: 2.8596 - val_accuracy: 0.7333\n",
      "\n",
      "Epoch 00005: val_loss improved from 4.15087 to 2.85959, saving model to ckd_model_conv2D\n",
      "Epoch 6/100\n",
      "285/285 [==============================] - 6s 21ms/step - loss: 0.5548 - accuracy: 0.7123 - val_loss: 2.8574 - val_accuracy: 0.7333\n",
      "\n",
      "Epoch 00006: val_loss improved from 2.85959 to 2.85744, saving model to ckd_model_conv2D\n",
      "Epoch 7/100\n",
      "285/285 [==============================] - 6s 22ms/step - loss: 0.5722 - accuracy: 0.6842 - val_loss: 1.8509 - val_accuracy: 0.7333\n",
      "\n",
      "Epoch 00007: val_loss improved from 2.85744 to 1.85085, saving model to ckd_model_conv2D\n",
      "Epoch 8/100\n",
      "285/285 [==============================] - 6s 22ms/step - loss: 0.5245 - accuracy: 0.7298 - val_loss: 0.9679 - val_accuracy: 0.7333\n",
      "\n",
      "Epoch 00008: val_loss improved from 1.85085 to 0.96788, saving model to ckd_model_conv2D\n",
      "Epoch 9/100\n",
      "285/285 [==============================] - 6s 21ms/step - loss: 0.5035 - accuracy: 0.7386 - val_loss: 1.3956 - val_accuracy: 0.7333\n",
      "\n",
      "Epoch 00009: val_loss did not improve from 0.96788\n",
      "Epoch 10/100\n",
      "285/285 [==============================] - 6s 21ms/step - loss: 0.4826 - accuracy: 0.7526 - val_loss: 0.6693 - val_accuracy: 0.7333\n",
      "\n",
      "Epoch 00010: val_loss improved from 0.96788 to 0.66933, saving model to ckd_model_conv2D\n",
      "Epoch 11/100\n",
      "285/285 [==============================] - 6s 22ms/step - loss: 0.4712 - accuracy: 0.7649 - val_loss: 0.6650 - val_accuracy: 0.7333\n",
      "\n",
      "Epoch 00011: val_loss improved from 0.66933 to 0.66504, saving model to ckd_model_conv2D\n",
      "Epoch 12/100\n",
      "285/285 [==============================] - 6s 22ms/step - loss: 0.4266 - accuracy: 0.8246 - val_loss: 0.5311 - val_accuracy: 0.7333\n",
      "\n",
      "Epoch 00012: val_loss improved from 0.66504 to 0.53105, saving model to ckd_model_conv2D\n",
      "Epoch 13/100\n",
      "285/285 [==============================] - 6s 22ms/step - loss: 0.4078 - accuracy: 0.8088 - val_loss: 0.5884 - val_accuracy: 0.7333\n",
      "\n",
      "Epoch 00013: val_loss did not improve from 0.53105\n",
      "Epoch 14/100\n",
      "285/285 [==============================] - 6s 21ms/step - loss: 0.4103 - accuracy: 0.8246 - val_loss: 0.6878 - val_accuracy: 0.7333\n",
      "\n",
      "Epoch 00014: val_loss did not improve from 0.53105\n",
      "Epoch 15/100\n",
      "285/285 [==============================] - 6s 21ms/step - loss: 0.3741 - accuracy: 0.8281 - val_loss: 0.6288 - val_accuracy: 0.7333\n",
      "\n",
      "Epoch 00015: val_loss did not improve from 0.53105\n",
      "Epoch 16/100\n",
      "285/285 [==============================] - 6s 21ms/step - loss: 0.3240 - accuracy: 0.8719 - val_loss: 0.6179 - val_accuracy: 0.7333\n",
      "\n",
      "Epoch 00016: val_loss did not improve from 0.53105\n",
      "Epoch 17/100\n",
      "285/285 [==============================] - 7s 23ms/step - loss: 0.3363 - accuracy: 0.8719 - val_loss: 0.6266 - val_accuracy: 0.7333\n",
      "\n",
      "Epoch 00017: val_loss did not improve from 0.53105\n",
      "Epoch 18/100\n",
      "285/285 [==============================] - 6s 22ms/step - loss: 0.3197 - accuracy: 0.8544 - val_loss: 0.6336 - val_accuracy: 0.7333\n",
      "\n",
      "Epoch 00018: val_loss did not improve from 0.53105\n",
      "Epoch 19/100\n",
      "285/285 [==============================] - 6s 22ms/step - loss: 0.2898 - accuracy: 0.8807 - val_loss: 0.6222 - val_accuracy: 0.7667\n",
      "\n",
      "Epoch 00019: val_loss did not improve from 0.53105\n",
      "Epoch 20/100\n",
      "285/285 [==============================] - 6s 21ms/step - loss: 0.2662 - accuracy: 0.8965 - val_loss: 0.6217 - val_accuracy: 0.7333\n",
      "\n",
      "Epoch 00020: val_loss did not improve from 0.53105\n",
      "Epoch 21/100\n",
      "285/285 [==============================] - 6s 21ms/step - loss: 0.2720 - accuracy: 0.8789 - val_loss: 0.9803 - val_accuracy: 0.7333\n",
      "\n",
      "Epoch 00021: val_loss did not improve from 0.53105\n",
      "Epoch 22/100\n",
      "285/285 [==============================] - 6s 21ms/step - loss: 0.2246 - accuracy: 0.9140 - val_loss: 0.7943 - val_accuracy: 0.7333\n",
      "\n",
      "Epoch 00022: val_loss did not improve from 0.53105\n",
      "Epoch 23/100\n",
      "285/285 [==============================] - 6s 21ms/step - loss: 0.2267 - accuracy: 0.9088 - val_loss: 0.8939 - val_accuracy: 0.7333\n",
      "\n",
      "Epoch 00023: val_loss did not improve from 0.53105\n",
      "Epoch 24/100\n",
      "285/285 [==============================] - 6s 22ms/step - loss: 0.2079 - accuracy: 0.9351 - val_loss: 0.8369 - val_accuracy: 0.6667\n",
      "\n",
      "Epoch 00024: val_loss did not improve from 0.53105\n",
      "Epoch 25/100\n",
      "285/285 [==============================] - 6s 21ms/step - loss: 0.1822 - accuracy: 0.9333 - val_loss: 1.3550 - val_accuracy: 0.7333\n",
      "\n",
      "Epoch 00025: val_loss did not improve from 0.53105\n",
      "Epoch 26/100\n",
      "285/285 [==============================] - 6s 21ms/step - loss: 0.1300 - accuracy: 0.9702 - val_loss: 1.1026 - val_accuracy: 0.7333\n",
      "\n",
      "Epoch 00026: val_loss did not improve from 0.53105\n",
      "Epoch 27/100\n",
      "285/285 [==============================] - 6s 23ms/step - loss: 0.1389 - accuracy: 0.9561 - val_loss: 1.0173 - val_accuracy: 0.7333\n",
      "\n",
      "Epoch 00027: val_loss did not improve from 0.53105\n",
      "Epoch 28/100\n",
      "285/285 [==============================] - 6s 23ms/step - loss: 0.1324 - accuracy: 0.9614 - val_loss: 1.1728 - val_accuracy: 0.7333\n",
      "\n",
      "Epoch 00028: val_loss did not improve from 0.53105\n",
      "Epoch 29/100\n",
      "285/285 [==============================] - 6s 22ms/step - loss: 0.1149 - accuracy: 0.9684 - val_loss: 0.9320 - val_accuracy: 0.7000\n",
      "\n",
      "Epoch 00029: val_loss did not improve from 0.53105\n",
      "Epoch 30/100\n",
      "285/285 [==============================] - 6s 21ms/step - loss: 0.0991 - accuracy: 0.9772 - val_loss: 0.7883 - val_accuracy: 0.7000\n",
      "\n",
      "Epoch 00030: val_loss did not improve from 0.53105\n",
      "Epoch 31/100\n",
      "285/285 [==============================] - 6s 21ms/step - loss: 0.1037 - accuracy: 0.9649 - val_loss: 1.1035 - val_accuracy: 0.7333\n",
      "\n",
      "Epoch 00031: val_loss did not improve from 0.53105\n",
      "Epoch 32/100\n",
      "285/285 [==============================] - 6s 22ms/step - loss: 0.0778 - accuracy: 0.9807 - val_loss: 1.0816 - val_accuracy: 0.6667\n",
      "\n",
      "Epoch 00032: val_loss did not improve from 0.53105\n",
      "Epoch 33/100\n",
      "285/285 [==============================] - 7s 24ms/step - loss: 0.0754 - accuracy: 0.9789 - val_loss: 0.9505 - val_accuracy: 0.6333\n",
      "\n",
      "Epoch 00033: val_loss did not improve from 0.53105\n",
      "Epoch 34/100\n",
      "285/285 [==============================] - 6s 23ms/step - loss: 0.0709 - accuracy: 0.9860 - val_loss: 0.7961 - val_accuracy: 0.7000\n",
      "\n",
      "Epoch 00034: val_loss did not improve from 0.53105\n",
      "Epoch 35/100\n",
      "285/285 [==============================] - 6s 21ms/step - loss: 0.0526 - accuracy: 0.9877 - val_loss: 1.1129 - val_accuracy: 0.6667\n",
      "\n",
      "Epoch 00035: val_loss did not improve from 0.53105\n",
      "Epoch 36/100\n",
      "285/285 [==============================] - 6s 21ms/step - loss: 0.0491 - accuracy: 0.9825 - val_loss: 0.9097 - val_accuracy: 0.7333\n",
      "\n",
      "Epoch 00036: val_loss did not improve from 0.53105\n",
      "Epoch 37/100\n",
      "285/285 [==============================] - 6s 21ms/step - loss: 0.0515 - accuracy: 0.9807 - val_loss: 0.8732 - val_accuracy: 0.6667\n",
      "\n",
      "Epoch 00037: val_loss did not improve from 0.53105\n",
      "Epoch 38/100\n",
      "285/285 [==============================] - 6s 21ms/step - loss: 0.0592 - accuracy: 0.9789 - val_loss: 1.0302 - val_accuracy: 0.6667\n",
      "\n",
      "Epoch 00038: val_loss did not improve from 0.53105\n",
      "Epoch 39/100\n",
      "285/285 [==============================] - 6s 21ms/step - loss: 0.0584 - accuracy: 0.9860 - val_loss: 1.7861 - val_accuracy: 0.3000\n",
      "\n",
      "Epoch 00039: val_loss did not improve from 0.53105\n",
      "Epoch 40/100\n",
      "285/285 [==============================] - 6s 22ms/step - loss: 0.0613 - accuracy: 0.9737 - val_loss: 0.7910 - val_accuracy: 0.6667\n",
      "\n",
      "Epoch 00040: val_loss did not improve from 0.53105\n",
      "Epoch 41/100\n",
      "285/285 [==============================] - 6s 21ms/step - loss: 0.0698 - accuracy: 0.9754 - val_loss: 1.5031 - val_accuracy: 0.7333\n",
      "\n",
      "Epoch 00041: val_loss did not improve from 0.53105\n",
      "Epoch 42/100\n"
     ]
    },
    {
     "name": "stdout",
     "output_type": "stream",
     "text": [
      "285/285 [==============================] - 6s 21ms/step - loss: 0.0700 - accuracy: 0.9719 - val_loss: 1.0816 - val_accuracy: 0.7333\n",
      "\n",
      "Epoch 00042: val_loss did not improve from 0.53105\n",
      "Epoch 43/100\n",
      "285/285 [==============================] - 6s 21ms/step - loss: 0.0492 - accuracy: 0.9860 - val_loss: 1.0284 - val_accuracy: 0.6667\n",
      "\n",
      "Epoch 00043: val_loss did not improve from 0.53105\n",
      "Epoch 44/100\n",
      "285/285 [==============================] - 6s 22ms/step - loss: 0.0616 - accuracy: 0.9789 - val_loss: 1.1835 - val_accuracy: 0.6000\n",
      "\n",
      "Epoch 00044: val_loss did not improve from 0.53105\n",
      "Epoch 45/100\n",
      "285/285 [==============================] - 6s 22ms/step - loss: 0.0456 - accuracy: 0.9895 - val_loss: 1.0575 - val_accuracy: 0.7000\n",
      "\n",
      "Epoch 00045: val_loss did not improve from 0.53105\n",
      "Epoch 46/100\n",
      "285/285 [==============================] - 6s 22ms/step - loss: 0.0262 - accuracy: 0.9930 - val_loss: 0.8963 - val_accuracy: 0.7000\n",
      "\n",
      "Epoch 00046: val_loss did not improve from 0.53105\n",
      "Epoch 47/100\n",
      "285/285 [==============================] - 6s 21ms/step - loss: 0.0402 - accuracy: 0.9912 - val_loss: 1.1844 - val_accuracy: 0.6000\n",
      "\n",
      "Epoch 00047: val_loss did not improve from 0.53105\n",
      "Epoch 48/100\n",
      "285/285 [==============================] - 6s 21ms/step - loss: 0.0725 - accuracy: 0.9772 - val_loss: 0.8741 - val_accuracy: 0.6667\n",
      "\n",
      "Epoch 00048: val_loss did not improve from 0.53105\n",
      "Epoch 49/100\n",
      "285/285 [==============================] - 6s 21ms/step - loss: 0.0723 - accuracy: 0.9772 - val_loss: 1.2158 - val_accuracy: 0.6333\n",
      "\n",
      "Epoch 00049: val_loss did not improve from 0.53105\n",
      "Epoch 50/100\n",
      "285/285 [==============================] - 7s 25ms/step - loss: 0.0526 - accuracy: 0.9860 - val_loss: 1.2058 - val_accuracy: 0.7000\n",
      "\n",
      "Epoch 00050: val_loss did not improve from 0.53105\n",
      "Epoch 51/100\n",
      "285/285 [==============================] - 6s 23ms/step - loss: 0.0376 - accuracy: 0.9912 - val_loss: 1.0945 - val_accuracy: 0.7000\n",
      "\n",
      "Epoch 00051: val_loss did not improve from 0.53105\n",
      "Epoch 52/100\n",
      "285/285 [==============================] - 6s 21ms/step - loss: 0.0356 - accuracy: 0.9930 - val_loss: 1.0023 - val_accuracy: 0.6000\n",
      "\n",
      "Epoch 00052: val_loss did not improve from 0.53105\n",
      "Epoch 53/100\n",
      "285/285 [==============================] - 6s 22ms/step - loss: 0.0326 - accuracy: 0.9930 - val_loss: 0.9143 - val_accuracy: 0.6667\n",
      "\n",
      "Epoch 00053: val_loss did not improve from 0.53105\n",
      "Epoch 54/100\n",
      "285/285 [==============================] - 6s 21ms/step - loss: 0.0190 - accuracy: 1.0000 - val_loss: 0.9639 - val_accuracy: 0.6667\n",
      "\n",
      "Epoch 00054: val_loss did not improve from 0.53105\n",
      "Epoch 55/100\n",
      "285/285 [==============================] - 6s 21ms/step - loss: 0.0180 - accuracy: 0.9947 - val_loss: 1.0987 - val_accuracy: 0.5000\n",
      "\n",
      "Epoch 00055: val_loss did not improve from 0.53105\n",
      "Epoch 56/100\n",
      "285/285 [==============================] - 6s 21ms/step - loss: 0.0232 - accuracy: 0.9930 - val_loss: 1.1865 - val_accuracy: 0.5000\n",
      "\n",
      "Epoch 00056: val_loss did not improve from 0.53105\n",
      "Epoch 57/100\n",
      "285/285 [==============================] - 6s 21ms/step - loss: 0.0130 - accuracy: 1.0000 - val_loss: 1.0863 - val_accuracy: 0.6667\n",
      "\n",
      "Epoch 00057: val_loss did not improve from 0.53105\n",
      "Epoch 58/100\n",
      "285/285 [==============================] - 6s 21ms/step - loss: 0.0138 - accuracy: 1.0000 - val_loss: 1.0484 - val_accuracy: 0.7333\n",
      "\n",
      "Epoch 00058: val_loss did not improve from 0.53105\n",
      "Epoch 59/100\n",
      "285/285 [==============================] - 6s 21ms/step - loss: 0.0149 - accuracy: 0.9965 - val_loss: 1.0941 - val_accuracy: 0.6667\n",
      "\n",
      "Epoch 00059: val_loss did not improve from 0.53105\n",
      "Epoch 60/100\n",
      "285/285 [==============================] - 6s 21ms/step - loss: 0.0103 - accuracy: 1.0000 - val_loss: 0.9880 - val_accuracy: 0.7000\n",
      "\n",
      "Epoch 00060: val_loss did not improve from 0.53105\n",
      "Epoch 61/100\n",
      "285/285 [==============================] - 6s 22ms/step - loss: 0.0148 - accuracy: 1.0000 - val_loss: 1.0701 - val_accuracy: 0.6333\n",
      "\n",
      "Epoch 00061: val_loss did not improve from 0.53105\n",
      "Epoch 62/100\n",
      "285/285 [==============================] - 6s 22ms/step - loss: 0.0137 - accuracy: 1.0000 - val_loss: 1.3746 - val_accuracy: 0.6000\n",
      "\n",
      "Epoch 00062: val_loss did not improve from 0.53105\n",
      "Epoch 63/100\n",
      "285/285 [==============================] - 7s 23ms/step - loss: 0.0250 - accuracy: 0.9912 - val_loss: 1.1703 - val_accuracy: 0.6000\n",
      "\n",
      "Epoch 00063: val_loss did not improve from 0.53105\n",
      "Epoch 64/100\n",
      "285/285 [==============================] - 6s 21ms/step - loss: 0.0319 - accuracy: 0.9930 - val_loss: 1.1218 - val_accuracy: 0.6333\n",
      "\n",
      "Epoch 00064: val_loss did not improve from 0.53105\n",
      "Epoch 65/100\n",
      "285/285 [==============================] - 7s 25ms/step - loss: 0.0116 - accuracy: 1.0000 - val_loss: 2.3435 - val_accuracy: 0.4000\n",
      "\n",
      "Epoch 00065: val_loss did not improve from 0.53105\n",
      "Epoch 66/100\n",
      "285/285 [==============================] - 6s 21ms/step - loss: 0.0493 - accuracy: 0.9825 - val_loss: 2.4840 - val_accuracy: 0.2667\n",
      "\n",
      "Epoch 00066: val_loss did not improve from 0.53105\n",
      "Epoch 67/100\n",
      "285/285 [==============================] - 6s 22ms/step - loss: 0.0608 - accuracy: 0.9807 - val_loss: 1.6856 - val_accuracy: 0.5333\n",
      "\n",
      "Epoch 00067: val_loss did not improve from 0.53105\n",
      "Epoch 68/100\n",
      "285/285 [==============================] - 7s 24ms/step - loss: 0.0552 - accuracy: 0.9789 - val_loss: 1.4161 - val_accuracy: 0.7000\n",
      "\n",
      "Epoch 00068: val_loss did not improve from 0.53105\n",
      "Epoch 69/100\n",
      "285/285 [==============================] - 6s 22ms/step - loss: 0.0540 - accuracy: 0.9825 - val_loss: 1.2413 - val_accuracy: 0.6000\n",
      "\n",
      "Epoch 00069: val_loss did not improve from 0.53105\n",
      "Epoch 70/100\n",
      "285/285 [==============================] - 6s 22ms/step - loss: 0.1114 - accuracy: 0.9596 - val_loss: 1.7519 - val_accuracy: 0.6000\n",
      "\n",
      "Epoch 00070: val_loss did not improve from 0.53105\n",
      "Epoch 71/100\n",
      "285/285 [==============================] - 6s 22ms/step - loss: 0.1173 - accuracy: 0.9544 - val_loss: 1.5805 - val_accuracy: 0.4000\n",
      "\n",
      "Epoch 00071: val_loss did not improve from 0.53105\n",
      "Epoch 72/100\n",
      "285/285 [==============================] - 8s 27ms/step - loss: 0.1095 - accuracy: 0.9439 - val_loss: 1.7261 - val_accuracy: 0.4333\n",
      "\n",
      "Epoch 00072: val_loss did not improve from 0.53105\n",
      "Epoch 73/100\n",
      "285/285 [==============================] - 7s 23ms/step - loss: 0.1203 - accuracy: 0.9596 - val_loss: 0.9460 - val_accuracy: 0.6667\n",
      "\n",
      "Epoch 00073: val_loss did not improve from 0.53105\n",
      "Epoch 74/100\n",
      "285/285 [==============================] - 7s 24ms/step - loss: 0.0908 - accuracy: 0.9614 - val_loss: 1.0352 - val_accuracy: 0.7333\n",
      "\n",
      "Epoch 00074: val_loss did not improve from 0.53105\n",
      "Epoch 75/100\n",
      "285/285 [==============================] - 7s 24ms/step - loss: 0.0610 - accuracy: 0.9860 - val_loss: 2.0943 - val_accuracy: 0.6667\n",
      "\n",
      "Epoch 00075: val_loss did not improve from 0.53105\n",
      "Epoch 76/100\n",
      "285/285 [==============================] - 7s 24ms/step - loss: 0.0678 - accuracy: 0.9825 - val_loss: 1.8252 - val_accuracy: 0.7333\n",
      "\n",
      "Epoch 00076: val_loss did not improve from 0.53105\n",
      "Epoch 77/100\n",
      "285/285 [==============================] - 7s 23ms/step - loss: 0.0624 - accuracy: 0.9789 - val_loss: 1.2016 - val_accuracy: 0.7333\n",
      "\n",
      "Epoch 00077: val_loss did not improve from 0.53105\n",
      "Epoch 78/100\n",
      "285/285 [==============================] - 6s 23ms/step - loss: 0.0505 - accuracy: 0.9825 - val_loss: 0.7720 - val_accuracy: 0.7000\n",
      "\n",
      "Epoch 00078: val_loss did not improve from 0.53105\n",
      "Epoch 79/100\n",
      "285/285 [==============================] - 7s 23ms/step - loss: 0.1222 - accuracy: 0.9579 - val_loss: 1.1221 - val_accuracy: 0.5667\n",
      "\n",
      "Epoch 00079: val_loss did not improve from 0.53105\n",
      "Epoch 80/100\n",
      "285/285 [==============================] - 8s 26ms/step - loss: 0.0527 - accuracy: 0.9754 - val_loss: 1.3018 - val_accuracy: 0.6000\n",
      "\n",
      "Epoch 00080: val_loss did not improve from 0.53105\n",
      "Epoch 81/100\n",
      "285/285 [==============================] - 7s 25ms/step - loss: 0.0462 - accuracy: 0.9842 - val_loss: 1.4861 - val_accuracy: 0.5333\n",
      "\n",
      "Epoch 00081: val_loss did not improve from 0.53105\n",
      "Epoch 82/100\n",
      "285/285 [==============================] - 7s 24ms/step - loss: 0.0708 - accuracy: 0.9737 - val_loss: 1.9132 - val_accuracy: 0.4667\n",
      "\n",
      "Epoch 00082: val_loss did not improve from 0.53105\n",
      "Epoch 83/100\n",
      "285/285 [==============================] - 7s 24ms/step - loss: 0.0526 - accuracy: 0.9877 - val_loss: 2.4132 - val_accuracy: 0.5000\n"
     ]
    },
    {
     "name": "stdout",
     "output_type": "stream",
     "text": [
      "\n",
      "Epoch 00083: val_loss did not improve from 0.53105\n",
      "Epoch 84/100\n",
      "285/285 [==============================] - 8s 29ms/step - loss: 0.0369 - accuracy: 0.9895 - val_loss: 1.6260 - val_accuracy: 0.5333\n",
      "\n",
      "Epoch 00084: val_loss did not improve from 0.53105\n",
      "Epoch 85/100\n",
      "285/285 [==============================] - 7s 26ms/step - loss: 0.0214 - accuracy: 0.9912 - val_loss: 1.7989 - val_accuracy: 0.5333\n",
      "\n",
      "Epoch 00085: val_loss did not improve from 0.53105\n",
      "Epoch 86/100\n",
      "285/285 [==============================] - 7s 23ms/step - loss: 0.0130 - accuracy: 0.9982 - val_loss: 1.6080 - val_accuracy: 0.6000\n",
      "\n",
      "Epoch 00086: val_loss did not improve from 0.53105\n",
      "Epoch 87/100\n",
      "285/285 [==============================] - 8s 27ms/step - loss: 0.0168 - accuracy: 0.9965 - val_loss: 1.5797 - val_accuracy: 0.6000\n",
      "\n",
      "Epoch 00087: val_loss did not improve from 0.53105\n",
      "Epoch 88/100\n",
      "285/285 [==============================] - 8s 28ms/step - loss: 0.0209 - accuracy: 0.9965 - val_loss: 1.5666 - val_accuracy: 0.5333\n",
      "\n",
      "Epoch 00088: val_loss did not improve from 0.53105\n",
      "Epoch 89/100\n",
      "285/285 [==============================] - 8s 27ms/step - loss: 0.0134 - accuracy: 1.0000 - val_loss: 1.6344 - val_accuracy: 0.5667\n",
      "\n",
      "Epoch 00089: val_loss did not improve from 0.53105\n",
      "Epoch 90/100\n",
      "285/285 [==============================] - 8s 28ms/step - loss: 0.0101 - accuracy: 0.9965 - val_loss: 1.6469 - val_accuracy: 0.5667\n",
      "\n",
      "Epoch 00090: val_loss did not improve from 0.53105\n",
      "Epoch 91/100\n",
      "285/285 [==============================] - 7s 23ms/step - loss: 0.0068 - accuracy: 1.0000 - val_loss: 1.6161 - val_accuracy: 0.6000\n",
      "\n",
      "Epoch 00091: val_loss did not improve from 0.53105\n",
      "Epoch 92/100\n",
      "285/285 [==============================] - 7s 24ms/step - loss: 0.0063 - accuracy: 1.0000 - val_loss: 1.5298 - val_accuracy: 0.6000\n",
      "\n",
      "Epoch 00092: val_loss did not improve from 0.53105\n",
      "Epoch 93/100\n",
      "285/285 [==============================] - 8s 28ms/step - loss: 0.0050 - accuracy: 1.0000 - val_loss: 1.5089 - val_accuracy: 0.6667\n",
      "\n",
      "Epoch 00093: val_loss did not improve from 0.53105\n",
      "Epoch 94/100\n",
      "285/285 [==============================] - 7s 26ms/step - loss: 0.0059 - accuracy: 1.0000 - val_loss: 1.5756 - val_accuracy: 0.5667\n",
      "\n",
      "Epoch 00094: val_loss did not improve from 0.53105\n",
      "Epoch 95/100\n",
      "285/285 [==============================] - 7s 25ms/step - loss: 0.0038 - accuracy: 1.0000 - val_loss: 1.5651 - val_accuracy: 0.5667\n",
      "\n",
      "Epoch 00095: val_loss did not improve from 0.53105\n",
      "Epoch 96/100\n",
      "285/285 [==============================] - 7s 25ms/step - loss: 0.0063 - accuracy: 1.0000 - val_loss: 1.6156 - val_accuracy: 0.4667\n",
      "\n",
      "Epoch 00096: val_loss did not improve from 0.53105\n",
      "Epoch 97/100\n",
      "285/285 [==============================] - 7s 23ms/step - loss: 0.0031 - accuracy: 1.0000 - val_loss: 1.6345 - val_accuracy: 0.4667\n",
      "\n",
      "Epoch 00097: val_loss did not improve from 0.53105\n",
      "Epoch 98/100\n",
      "285/285 [==============================] - 6s 22ms/step - loss: 0.0027 - accuracy: 1.0000 - val_loss: 1.6472 - val_accuracy: 0.4667\n",
      "\n",
      "Epoch 00098: val_loss did not improve from 0.53105\n",
      "Epoch 99/100\n",
      "285/285 [==============================] - 6s 22ms/step - loss: 0.0040 - accuracy: 1.0000 - val_loss: 1.6194 - val_accuracy: 0.5667\n",
      "\n",
      "Epoch 00099: val_loss did not improve from 0.53105\n",
      "Epoch 100/100\n",
      "285/285 [==============================] - 7s 23ms/step - loss: 0.0040 - accuracy: 1.0000 - val_loss: 1.6336 - val_accuracy: 0.5000\n",
      "\n",
      "Epoch 00100: val_loss did not improve from 0.53105\n"
     ]
    }
   ],
   "source": [
    "early_stops = EarlyStopping(patience=10 , monitor='val_auc')\n",
    "filepath='ckd_model_conv2D'\n",
    "ckpt_callback = ModelCheckpoint(filepath,\n",
    "                                 monitor='val_loss', \n",
    "                                 verbose=1, \n",
    "                                 save_best_only=True, \n",
    "                                 mode='auto')\n",
    "    \n",
    "model.fit(X, Y, validation_split=0.05, callbacks=[early_stops,ckpt_callback], \n",
    "                        batch_size=batch_size, epochs=epochs)\n",
    "model.save('ckd_model_conv2D.h5')"
   ]
  },
  {
   "cell_type": "code",
   "execution_count": 215,
   "metadata": {},
   "outputs": [
    {
     "name": "stdout",
     "output_type": "stream",
     "text": [
      "75/75 [==============================] - 0s 5ms/step\n"
     ]
    }
   ],
   "source": [
    "## Load the model and perform prediction on test data\n",
    "\n",
    "pred_Y = model.predict(testX, batch_size = 32, verbose = True)"
   ]
  },
  {
   "cell_type": "code",
   "execution_count": 220,
   "metadata": {},
   "outputs": [
    {
     "data": {
      "text/plain": [
       "array([[0.9966455 , 0.00334346]], dtype=float32)"
      ]
     },
     "execution_count": 220,
     "metadata": {},
     "output_type": "execute_result"
    }
   ],
   "source": [
    "pred_Y[[0]]"
   ]
  },
  {
   "cell_type": "code",
   "execution_count": 222,
   "metadata": {},
   "outputs": [
    {
     "data": {
      "text/plain": [
       "array([[1., 0.]], dtype=float32)"
      ]
     },
     "execution_count": 222,
     "metadata": {},
     "output_type": "execute_result"
    }
   ],
   "source": [
    "testY[[0]]"
   ]
  },
  {
   "cell_type": "code",
   "execution_count": null,
   "metadata": {},
   "outputs": [],
   "source": []
  },
  {
   "cell_type": "code",
   "execution_count": null,
   "metadata": {},
   "outputs": [],
   "source": []
  }
 ],
 "metadata": {
  "kernelspec": {
   "display_name": "Python 3",
   "language": "python",
   "name": "python3"
  },
  "language_info": {
   "codemirror_mode": {
    "name": "ipython",
    "version": 3
   },
   "file_extension": ".py",
   "mimetype": "text/x-python",
   "name": "python",
   "nbconvert_exporter": "python",
   "pygments_lexer": "ipython3",
   "version": "3.7.4"
  }
 },
 "nbformat": 4,
 "nbformat_minor": 2
}
