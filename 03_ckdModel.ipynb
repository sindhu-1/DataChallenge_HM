{
 "cells": [
  {
   "cell_type": "code",
   "execution_count": null,
   "metadata": {},
   "outputs": [],
   "source": [
    "#########################################################\n",
    "# Program name: ckdModel.py\n",
    "# Description: This program builds a CNN-LSTM model for \n",
    "# predicting the CKD outcome for a given patient based on\n",
    "# longitudinal data.\n",
    "# Input Data : ./input\n",
    "# Output Data: ./output\n",
    "#########################################################"
   ]
  },
  {
   "cell_type": "code",
   "execution_count": 19,
   "metadata": {},
   "outputs": [],
   "source": [
    "## load the required libraries\n",
    "import pandas as pd\n",
    "import numpy as np\n",
    "from keras.models import Sequential\n",
    "from keras.layers import Conv2D, ZeroPadding2D, Activation, Input, concatenate\n",
    "from keras.models import Model,load_model\n",
    "from keras.layers.normalization import BatchNormalization\n",
    "from keras.layers.pooling import MaxPooling2D, AveragePooling2D\n",
    "from keras.layers.merge import Concatenate\n",
    "from keras.layers.core import Lambda, Flatten, Dense\n",
    "from keras.initializers import glorot_uniform\n",
    "from keras.engine.topology import Layer\n",
    "\n",
    "from keras import applications,models, losses,optimizers\n",
    "from keras.models import Model\n",
    "from keras import optimizers\n",
    "from keras.models import Sequential\n",
    "from keras.layers import Dense, Dropout, Flatten\n",
    "from keras.layers import Convolution2D, MaxPooling2D\n",
    "from keras.layers.normalization import BatchNormalization\n",
    "from keras.metrics import categorical_accuracy\n",
    "from keras.preprocessing.image import ImageDataGenerator\n",
    "from keras.callbacks import EarlyStopping\n",
    "from keras.utils.np_utils import to_categorical\n",
    "from keras.callbacks import ModelCheckpoint\n",
    "from keras.applications.resnet50 import ResNet50\n",
    "from keras.preprocessing import image\n",
    "from keras.applications.resnet50 import preprocess_input, decode_predictions\n",
    "from keras.layers import Input, Dense, Flatten, Dropout, Activation, Lambda, Permute, Reshape\n",
    "import numpy as np\n",
    "import keras.backend as K\n",
    "from sklearn.model_selection import train_test_split"
   ]
  },
  {
   "cell_type": "code",
   "execution_count": 20,
   "metadata": {},
   "outputs": [
    {
     "name": "stdout",
     "output_type": "stream",
     "text": [
      "(3865, 32)\n"
     ]
    },
    {
     "data": {
      "text/plain": [
       "(300, 2)"
      ]
     },
     "execution_count": 20,
     "metadata": {},
     "output_type": "execute_result"
    }
   ],
   "source": [
    "## Read the data\n",
    "\n",
    "ckd_data = pd.read_csv('./input/ckd_inputdata.csv')\n",
    "print(ckd_data.shape)\n",
    "## Read the stages data\n",
    "df_stage = pd.read_csv('./dataScienceTask/T_stage.csv')\n",
    "df_stage.shape"
   ]
  },
  {
   "cell_type": "code",
   "execution_count": 86,
   "metadata": {},
   "outputs": [],
   "source": [
    "train_idx = df_stage.sample(frac=0.75, random_state=99)\n",
    "test_idx = df_stage.loc[~df_stage.index.isin(train_idx.index), :]"
   ]
  },
  {
   "cell_type": "code",
   "execution_count": 87,
   "metadata": {},
   "outputs": [
    {
     "data": {
      "text/plain": [
       "<matplotlib.axes._subplots.AxesSubplot at 0x200495a58c8>"
      ]
     },
     "execution_count": 87,
     "metadata": {},
     "output_type": "execute_result"
    },
    {
     "data": {
      "image/png": "[encoded data removed]",
      "text/plain": [
       "<Figure size 432x288 with 1 Axes>"
      ]
     },
     "metadata": {
      "needs_background": "light"
     },
     "output_type": "display_data"
    }
   ],
   "source": [
    "df1 = train_idx.set_index('id').apply(pd.value_counts)\n",
    "df1.plot.bar()"
   ]
  },
  {
   "cell_type": "code",
   "execution_count": 88,
   "metadata": {},
   "outputs": [
    {
     "data": {
      "text/plain": [
       "<matplotlib.axes._subplots.AxesSubplot at 0x2004961b508>"
      ]
     },
     "execution_count": 88,
     "metadata": {},
     "output_type": "execute_result"
    },
    {
     "data": {
      "image/png": "[encoded data removed]",
      "text/plain": [
       "<Figure size 432x288 with 1 Axes>"
      ]
     },
     "metadata": {
      "needs_background": "light"
     },
     "output_type": "display_data"
    }
   ],
   "source": [
    "df1 = test_idx.set_index('id').apply(pd.value_counts)\n",
    "df1.plot.bar()"
   ]
  },
  {
   "cell_type": "code",
   "execution_count": 27,
   "metadata": {},
   "outputs": [
    {
     "name": "stderr",
     "output_type": "stream",
     "text": [
      "C:\\Users\\sindh\\Anaconda3\\lib\\site-packages\\ipykernel_launcher.py:8: SettingWithCopyWarning: \n",
      "A value is trying to be set on a copy of a slice from a DataFrame.\n",
      "Try using .loc[row_indexer,col_indexer] = value instead\n",
      "\n",
      "See the caveats in the documentation: http://pandas.pydata.org/pandas-docs/stable/user_guide/indexing.html#returning-a-view-versus-a-copy\n",
      "  \n"
     ]
    },
    {
     "name": "stdout",
     "output_type": "stream",
     "text": [
      "(300, 32, 32, 1)\n"
     ]
    }
   ],
   "source": [
    "# Shape the Patient data into the desired input format for CNN \n",
    "# convert each patient ID information to a 32 * 32 image\n",
    "patient = []\n",
    "\n",
    "for i in range(300):\n",
    "    sub_data = ckd_data[ckd_data.id == i]\n",
    "    # change the ID value to -99\n",
    "    sub_data['id'] = -99\n",
    "    ## Adding dummy rows\n",
    "    for x in range(32 - sub_data.shape[0]):\n",
    "        sub_data = sub_data.append(pd.Series([-99, -99, -99, -99, -99, -99, -99,\n",
    "                                             -99, -99, -99, -99, -99, -99, -99,\n",
    "                                             -99, -99, -99, -99, -99, -99, -99, -99,\n",
    "                                             -99, -99, -99, -99, -99, -99, -99,-99, -99, -99], \n",
    "                                             index=sub_data.columns) , ignore_index=True)\n",
    "    t1 = np.array(sub_data.values)\n",
    "    \n",
    "    t2 = t1.reshape(32, 32, 1)\n",
    "    patient.append(t2)\n",
    "\n",
    "patient = np.array(patient)\n",
    "patient = np.reshape(patient,(patient.shape[0],32,32,1))\n",
    "print(patient.shape)"
   ]
  },
  {
   "cell_type": "code",
   "execution_count": 40,
   "metadata": {},
   "outputs": [],
   "source": [
    "\n",
    "# Create a dictionary to identify each image by ID\n",
    "patient_info = {}\n",
    "for i in range(300):\n",
    "    patient_info.setdefault(\"dat\",[]).append({i:X[i]})"
   ]
  },
  {
   "cell_type": "code",
   "execution_count": null,
   "metadata": {},
   "outputs": [],
   "source": []
  },
  {
   "cell_type": "code",
   "execution_count": 32,
   "metadata": {},
   "outputs": [],
   "source": [
    "## Prepare the X and Y variables\n",
    "from keras.utils.np_utils import to_categorical\n",
    "\n",
    "X = patient\n",
    "Y = df_stage[['Stage_Progress']].values\n",
    "Y = to_categorical(Y, 2)"
   ]
  },
  {
   "cell_type": "code",
   "execution_count": null,
   "metadata": {},
   "outputs": [],
   "source": [
    "# Split the data into train and test data\n",
    "\n",
    "# 75-25 train test split\n",
    "(trainX, testX, trainY, testY) = train_test_split(X, Y, test_size=0.25)"
   ]
  },
  {
   "cell_type": "code",
   "execution_count": null,
   "metadata": {},
   "outputs": [],
   "source": [
    "print(\"Training data shape:\", trainX.shape, trainY.shape)\n",
    "print(\"Test data shape:\", testX.shape, testY.shape)"
   ]
  },
  {
   "cell_type": "code",
   "execution_count": 17,
   "metadata": {},
   "outputs": [
    {
     "ename": "SyntaxError",
     "evalue": "invalid syntax (<ipython-input-17-1b280ef4ef94>, line 3)",
     "output_type": "error",
     "traceback": [
      "\u001b[1;36m  File \u001b[1;32m\"<ipython-input-17-1b280ef4ef94>\"\u001b[1;36m, line \u001b[1;32m3\u001b[0m\n\u001b[1;33m    train_index <- sample(1:range(len(X)), 0.8 * range(len(X)))\u001b[0m\n\u001b[1;37m                           ^\u001b[0m\n\u001b[1;31mSyntaxError\u001b[0m\u001b[1;31m:\u001b[0m invalid syntax\n"
     ]
    }
   ],
   "source": [
    "## Split into test and train data\n",
    "# Random sample indexes\n",
    "train_index <- sample(1:range(len(X)), 0.8 * range(len(X)))\n",
    "test_index <- setdiff(1:range(len(X)), train_index)\n",
    "\n",
    "# # Build X_train, y_train, X_test, y_test\n",
    "# X_train <- adult[train_index, -15]\n",
    "# y_train <- adult[train_index, \"income\"]\n",
    "\n",
    "# X_test <- adult[test_index, -15]\n",
    "# y_test <- adult[test_index, \"income\"]"
   ]
  },
  {
   "cell_type": "code",
   "execution_count": null,
   "metadata": {},
   "outputs": [],
   "source": [
    "## CNN model\n",
    "batch_size = 32\n",
    "epochs = 100\n",
    "filepath='./output/'"
   ]
  },
  {
   "cell_type": "code",
   "execution_count": null,
   "metadata": {},
   "outputs": [],
   "source": [
    "np.random.seed(109) # for reproducibility\n",
    "print('Building model...')\n",
    "model = Sequential()\n",
    "model = Sequential()\n",
    "\n",
    "#1st conv layer\n",
    "model.add(Conv2D(64, (4,10), padding=\"same\",\n",
    "                 input_shape=(trainX.shape[1],trainX.shape[2],trainX.shape[3])))\n",
    "model.add(BatchNormalization())\n",
    "model.add(Activation(\"relu\"))\n",
    "\n",
    "#2nd conv layer\n",
    "model.add(Conv2D(32, (4,10), padding=\"same\"))\n",
    "model.add(BatchNormalization())\n",
    "model.add(Activation(\"relu\"))\n",
    "\n",
    "#3rd conv layer\n",
    "model.add(Conv2D(32, (4,10), padding=\"same\"))\n",
    "model.add(BatchNormalization())\n",
    "model.add(Activation(\"relu\"))\n",
    "\n",
    "#4th conv layer\n",
    "model.add(Conv2D(32, (4,10), padding=\"same\"))\n",
    "model.add(BatchNormalization())\n",
    "model.add(Activation(\"relu\"))\n",
    "model.add(MaxPooling2D())\n",
    "\n",
    "model.add(Flatten())\n",
    "\n",
    "#FC1\n",
    "model.add(Dense(128))\n",
    "model.add(BatchNormalization())\n",
    "model.add(Activation(\"relu\"))\n",
    "model.add(Dropout(0.3))\n",
    "\n",
    "#FC2\n",
    "model.add(Dense(100,name ='feature_dense'))\n",
    "#model.load_weights(by_name=True,filepath = filepath)\n",
    "model.add(BatchNormalization())\n",
    "model.add(Activation(\"relu\"))\n",
    "\n",
    "#output FC\n",
    "model.add(Dense(2))\n",
    "model.add(Activation('sigmoid'))\n",
    "adam = optimizers.Adam(lr=0.01)\n",
    "\n",
    "model.compile(loss='binary_crossentropy', metrics=['accuracy'], optimizer='adam')\n",
    "model.summary()"
   ]
  },
  {
   "cell_type": "code",
   "execution_count": null,
   "metadata": {},
   "outputs": [],
   "source": [
    "early_stops = EarlyStopping(patience=10 , monitor='val_auc')\n",
    "filepath='ckd_model_conv2D'\n",
    "ckpt_callback = ModelCheckpoint(filepath,\n",
    "                                 monitor='val_loss', \n",
    "                                 verbose=1, \n",
    "                                 save_best_only=True, \n",
    "                                 mode='auto')\n",
    "    \n",
    "model.fit(X, Y, validation_split=0.05, callbacks=[early_stops,ckpt_callback], \n",
    "                        batch_size=batch_size, epochs=epochs)\n",
    "model.save('ckd_model_conv2D.h5')"
   ]
  },
  {
   "cell_type": "code",
   "execution_count": null,
   "metadata": {},
   "outputs": [],
   "source": [
    "## Load the model and perform prediction on test data\n",
    "pred_Y = model.predict(testX, batch_size = 32, verbose = True)"
   ]
  }
 ],
 "metadata": {
  "kernelspec": {
   "display_name": "Python 3",
   "language": "python",
   "name": "python3"
  },
  "language_info": {
   "codemirror_mode": {
    "name": "ipython",
    "version": 3
   },
   "file_extension": ".py",
   "mimetype": "text/x-python",
   "name": "python",
   "nbconvert_exporter": "python",
   "pygments_lexer": "ipython3",
   "version": "3.7.4"
  }
 },
 "nbformat": 4,
 "nbformat_minor": 2
}
