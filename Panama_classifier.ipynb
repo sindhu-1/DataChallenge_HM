{
 "cells": [
  {
   "cell_type": "markdown",
   "metadata": {},
   "source": [
    "### Task : A binary classifier to forecast if a vessel in the pacific polygon (P) will go through the Panama Canal in the next 30 days.\n",
    "\n",
    "Approach: \n",
    "\n",
    "1. Data cleaning and Analysis: The data was loaded, checked for missing values, number of vessels, number of daily position recordings for each ship. Additionally I also looked up for the meaning of each categorical variable.                       size variable - Cape size: largest dry cargo ships. They are too large to transit the Suez Canal or Panama Canal ( These ships were removed after verifying it doesnt pass through the canal based on the dataset too)\n",
    "      PMX: Assumed to be Panamax type \n",
    "      VLOC: Very large Ore Carriers which are also supposed to be large vessesls.\n",
    "      Because there is no dimentions mentioned for each of these ships, it could not be possible to directly eliminate them as       not passing through Panama due to their size. If dimensions of each ship were available, a rule based classification can       be acheived as a priliminary filtering.\n",
    "      Similarly for the Variable StatusLDC, I checked the meaning of each status where ballast would simply mean the vessel is not loaded and ladden is that it is loaded. I choose to keep both variables and use it as a dummy variable as it could impact the speed and direction of the vessel. \n",
    "\n",
    "\n",
    "2. Prepare the target and independent variables for the model: \n",
    "    The target variable is created by checking if the relative distance is less than 30 Kms from the Panama Canal and if the date corresponding to that row is within 30 days of the start date of the journey.\n",
    "    For the set of independent variables, the lat and long columns are removed, date columns too and the categorical variables are one-hot encoded. Since the model being fit is a  deep learning model, it is capable of variable selection by adjusting the weights of the model hence, no variable selection is done. Although the correlations between the variables are checked using a plot.\n",
    "\n",
    "\n",
    "3. Evaluation metric: the model is evaluated using Mathew's correlation co-efficient (MCC). This is because Accuracy is not the right metric as the data is imbalanced. It takes into account true and false positives and negatives and is generally regarded as a balanced measure which can be used even if the classes are of very different sizes.  A coefficient of +1 represents a perfect prediction, 0 no better than random prediction and −1 indicates total disagreement between prediction and observation. Also the ROC curve is plotted for the selected threshold which gives a AUC of 0.96 which is an indication of a robust classifer.\n",
    "\n",
    "\n",
    "4. Model Formation: The a 1 layer LSTM model is constructed after the data is transformed into the required 3D format for model input. Here the input data is the variables created based on the daily position measurements for the first 10 days of the journey in order to forecast if the vessel will reach panama canal on the 30th day. Before reaching the decision to consider the 1st 10 days of data, model was also built with input data as the first days measurements to predict the 30th day's status of passing(1) or not passing (0) the panama canal. This yeilded a Mathew's correlation co-efficient of negative values and 0.The current model gives a MCC of 0.89 which is closer to 1. This means that the model can almost perfectly predict for this imbalanced dataset.\n",
    "\n",
    "\n",
    "5. Future Work:\n",
    "\n",
    "\n",
    "\n",
    "     a. Additional Features: Additional features can be obtained such as weather, wind direction and also use the detination column which is not being used in this code due to time constraints in cleaning it. This could add more precision in the prediction. Variables like Course Over Ground (COG) and Speed Over Ground(SOG) which are usually recording for a vessel could also be used.\n",
    "     \n",
    "     \n",
    "     b. Multiple Model: Currently I have fit a minimalistic LSTM model due to resource constraints. LSTM model with multiple layers can be created and paramaters can be tuned. Also additonal binary classification models can be trained such as RandomForest, XGBoost, KNN classifer( KNN classifer has been shown to give good results for route prediction problems based on my research and I intend to use it for this problem in the future) and compare the results of each of these models to choose the best one.\n",
    "\n",
    "\n",
    "#### Assumptions:\n",
    "1. while analysing the dataset, it was found that few recordings were not recorded everday. A gap of a few days were shown. It is assumed that this is due to connectivity issues and imputing or foward filling will distort the data. Hence it is assumed to be taken as a continuous series.\n",
    "\n",
    "2. While Analysing the polygon zones, it was found that there were vessels that go from polygon CP to P and P to CP through the Panama Canal. Since CP is within P, it is assumed that both the directions mentioned above still mean that the vessel is moving from P through the panama canal.\n",
    "\n",
    "3. We would require first few days of recordings in order to classify the vessels to be passing through the canal or not in the next 30 days. Which is why a time window is used."
   ]
  },
  {
   "cell_type": "code",
   "execution_count": 1,
   "metadata": {
    "_cell_guid": "b1076dfc-b9ad-4769-8c92-a6c4dae69d19",
    "_uuid": "8f2839f25d086af736a60e9eeb907d3b93b6e0e5"
   },
   "outputs": [],
   "source": [
    "# Load the required Packages\n",
    "\n",
    "import numpy as np \n",
    "import pandas as pd \n",
    "import datetime\n",
    "import os\n",
    "import pandas as pd\n",
    "import seaborn as sns\n",
    "import matplotlib.pyplot as plt"
   ]
  },
  {
   "cell_type": "markdown",
   "metadata": {},
   "source": [
    "## Read the data and perform priliminary data quality checks"
   ]
  },
  {
   "cell_type": "code",
   "execution_count": 2,
   "metadata": {
    "_cell_guid": "",
    "_uuid": ""
   },
   "outputs": [
    {
     "name": "stderr",
     "output_type": "stream",
     "text": [
      "C:\\Users\\sindh\\Anaconda3\\lib\\site-packages\\IPython\\core\\interactiveshell.py:3058: DtypeWarning: Columns (8) have mixed types. Specify dtype option on import or set low_memory=False.\n",
      "  interactivity=interactivity, compiler=compiler, result=result)\n"
     ]
    },
    {
     "data": {
      "text/html": [
       "<div>\n",
       "<style scoped>\n",
       "    .dataframe tbody tr th:only-of-type {\n",
       "        vertical-align: middle;\n",
       "    }\n",
       "\n",
       "    .dataframe tbody tr th {\n",
       "        vertical-align: top;\n",
       "    }\n",
       "\n",
       "    .dataframe thead th {\n",
       "        text-align: right;\n",
       "    }\n",
       "</style>\n",
       "<table border=\"1\" class=\"dataframe\">\n",
       "  <thead>\n",
       "    <tr style=\"text-align: right;\">\n",
       "      <th></th>\n",
       "      <th>Column1</th>\n",
       "      <th>imo</th>\n",
       "      <th>date</th>\n",
       "      <th>latitude</th>\n",
       "      <th>longitude</th>\n",
       "      <th>destination</th>\n",
       "      <th>bearing</th>\n",
       "      <th>size</th>\n",
       "      <th>zone</th>\n",
       "      <th>statusLDC</th>\n",
       "      <th>draft</th>\n",
       "    </tr>\n",
       "  </thead>\n",
       "  <tbody>\n",
       "    <tr>\n",
       "      <td>0</td>\n",
       "      <td>6964309.0</td>\n",
       "      <td>9300362.0</td>\n",
       "      <td>2011-12-26</td>\n",
       "      <td>11.123148</td>\n",
       "      <td>-74.294449</td>\n",
       "      <td>PTODRUMM OND</td>\n",
       "      <td>NaN</td>\n",
       "      <td>CAPE</td>\n",
       "      <td>True</td>\n",
       "      <td>ballast</td>\n",
       "      <td>9.8</td>\n",
       "    </tr>\n",
       "    <tr>\n",
       "      <td>1</td>\n",
       "      <td>1077437.0</td>\n",
       "      <td>8600595.0</td>\n",
       "      <td>2011-12-28</td>\n",
       "      <td>29.482538</td>\n",
       "      <td>-89.690895</td>\n",
       "      <td>SW PASS</td>\n",
       "      <td>NaN</td>\n",
       "      <td>PMX</td>\n",
       "      <td>True</td>\n",
       "      <td>ballast</td>\n",
       "      <td>7.3</td>\n",
       "    </tr>\n",
       "    <tr>\n",
       "      <td>2</td>\n",
       "      <td>1889858.0</td>\n",
       "      <td>9041021.0</td>\n",
       "      <td>2011-12-28</td>\n",
       "      <td>29.606493</td>\n",
       "      <td>-89.874352</td>\n",
       "      <td>NEWORLEANS</td>\n",
       "      <td>NaN</td>\n",
       "      <td>PMX</td>\n",
       "      <td>True</td>\n",
       "      <td>ballast</td>\n",
       "      <td>8.5</td>\n",
       "    </tr>\n",
       "    <tr>\n",
       "      <td>3</td>\n",
       "      <td>3515800.0</td>\n",
       "      <td>9146950.0</td>\n",
       "      <td>2011-12-28</td>\n",
       "      <td>30.114050</td>\n",
       "      <td>-90.984749</td>\n",
       "      <td>NOLA</td>\n",
       "      <td>NaN</td>\n",
       "      <td>PMX</td>\n",
       "      <td>True</td>\n",
       "      <td>laden</td>\n",
       "      <td>11.9</td>\n",
       "    </tr>\n",
       "    <tr>\n",
       "      <td>4</td>\n",
       "      <td>4601273.0</td>\n",
       "      <td>9213791.0</td>\n",
       "      <td>2011-12-28</td>\n",
       "      <td>11.120633</td>\n",
       "      <td>-74.286934</td>\n",
       "      <td>PDRUMMOND</td>\n",
       "      <td>NaN</td>\n",
       "      <td>PMX</td>\n",
       "      <td>True</td>\n",
       "      <td>ballast</td>\n",
       "      <td>7.6</td>\n",
       "    </tr>\n",
       "  </tbody>\n",
       "</table>\n",
       "</div>"
      ],
      "text/plain": [
       "     Column1        imo       date   latitude  longitude   destination  \\\n",
       "0  6964309.0  9300362.0 2011-12-26  11.123148 -74.294449  PTODRUMM OND   \n",
       "1  1077437.0  8600595.0 2011-12-28  29.482538 -89.690895       SW PASS   \n",
       "2  1889858.0  9041021.0 2011-12-28  29.606493 -89.874352    NEWORLEANS   \n",
       "3  3515800.0  9146950.0 2011-12-28  30.114050 -90.984749          NOLA   \n",
       "4  4601273.0  9213791.0 2011-12-28  11.120633 -74.286934     PDRUMMOND   \n",
       "\n",
       "   bearing  size  zone statusLDC  draft  \n",
       "0      NaN  CAPE  True   ballast    9.8  \n",
       "1      NaN   PMX  True   ballast    7.3  \n",
       "2      NaN   PMX  True   ballast    8.5  \n",
       "3      NaN   PMX  True     laden   11.9  \n",
       "4      NaN   PMX  True   ballast    7.6  "
      ]
     },
     "execution_count": 2,
     "metadata": {},
     "output_type": "execute_result"
    }
   ],
   "source": [
    "df_pan = pd.read_csv(\"exoPanama.csv\", parse_dates=['date'])\n",
    "df_pan.head()"
   ]
  },
  {
   "cell_type": "code",
   "execution_count": 3,
   "metadata": {},
   "outputs": [
    {
     "data": {
      "text/html": [
       "<div>\n",
       "<style scoped>\n",
       "    .dataframe tbody tr th:only-of-type {\n",
       "        vertical-align: middle;\n",
       "    }\n",
       "\n",
       "    .dataframe tbody tr th {\n",
       "        vertical-align: top;\n",
       "    }\n",
       "\n",
       "    .dataframe thead th {\n",
       "        text-align: right;\n",
       "    }\n",
       "</style>\n",
       "<table border=\"1\" class=\"dataframe\">\n",
       "  <thead>\n",
       "    <tr style=\"text-align: right;\">\n",
       "      <th></th>\n",
       "      <th>Column1</th>\n",
       "      <th>imo</th>\n",
       "      <th>date</th>\n",
       "      <th>latitude</th>\n",
       "      <th>longitude</th>\n",
       "      <th>destination</th>\n",
       "      <th>bearing</th>\n",
       "      <th>size</th>\n",
       "      <th>zone</th>\n",
       "      <th>statusLDC</th>\n",
       "      <th>draft</th>\n",
       "    </tr>\n",
       "  </thead>\n",
       "  <tbody>\n",
       "    <tr>\n",
       "      <td>565597</td>\n",
       "      <td>8639066.0</td>\n",
       "      <td>9364758.0</td>\n",
       "      <td>2017-07-17</td>\n",
       "      <td>12.3123</td>\n",
       "      <td>-72.0064</td>\n",
       "      <td>PUERTO BOLIVAR</td>\n",
       "      <td>NaN</td>\n",
       "      <td>PMX</td>\n",
       "      <td>True</td>\n",
       "      <td>ballast</td>\n",
       "      <td>6.5</td>\n",
       "    </tr>\n",
       "    <tr>\n",
       "      <td>565598</td>\n",
       "      <td>8800823.0</td>\n",
       "      <td>9374208.0</td>\n",
       "      <td>2017-07-17</td>\n",
       "      <td>50.6944</td>\n",
       "      <td>-161.7198</td>\n",
       "      <td>KALAMA USA</td>\n",
       "      <td>83.98</td>\n",
       "      <td>PMX</td>\n",
       "      <td>False</td>\n",
       "      <td>ballast</td>\n",
       "      <td>7.2</td>\n",
       "    </tr>\n",
       "    <tr>\n",
       "      <td>565599</td>\n",
       "      <td>8803069.0</td>\n",
       "      <td>9374210.0</td>\n",
       "      <td>2017-07-17</td>\n",
       "      <td>49.3000</td>\n",
       "      <td>-123.0734</td>\n",
       "      <td>CA VAN</td>\n",
       "      <td>NaN</td>\n",
       "      <td>PMX</td>\n",
       "      <td>False</td>\n",
       "      <td>ballast</td>\n",
       "      <td>6.9</td>\n",
       "    </tr>\n",
       "    <tr>\n",
       "      <td>565600</td>\n",
       "      <td>8922073.0</td>\n",
       "      <td>9381172.0</td>\n",
       "      <td>2017-07-17</td>\n",
       "      <td>-32.5974</td>\n",
       "      <td>-60.7689</td>\n",
       "      <td>SAN LORANZO</td>\n",
       "      <td>NaN</td>\n",
       "      <td>PMX</td>\n",
       "      <td>False</td>\n",
       "      <td>ballast</td>\n",
       "      <td>7.1</td>\n",
       "    </tr>\n",
       "    <tr>\n",
       "      <td>565601</td>\n",
       "      <td>8931319.0</td>\n",
       "      <td>9381213.0</td>\n",
       "      <td>2017-07-17</td>\n",
       "      <td>12.2569</td>\n",
       "      <td>-71.9601</td>\n",
       "      <td>CO PBO</td>\n",
       "      <td>NaN</td>\n",
       "      <td>PMX</td>\n",
       "      <td>True</td>\n",
       "      <td>ballast</td>\n",
       "      <td>8.5</td>\n",
       "    </tr>\n",
       "  </tbody>\n",
       "</table>\n",
       "</div>"
      ],
      "text/plain": [
       "          Column1        imo       date  latitude  longitude  \\\n",
       "565597  8639066.0  9364758.0 2017-07-17   12.3123   -72.0064   \n",
       "565598  8800823.0  9374208.0 2017-07-17   50.6944  -161.7198   \n",
       "565599  8803069.0  9374210.0 2017-07-17   49.3000  -123.0734   \n",
       "565600  8922073.0  9381172.0 2017-07-17  -32.5974   -60.7689   \n",
       "565601  8931319.0  9381213.0 2017-07-17   12.2569   -71.9601   \n",
       "\n",
       "                 destination  bearing size   zone statusLDC  draft  \n",
       "565597  PUERTO BOLIVAR            NaN  PMX   True   ballast    6.5  \n",
       "565598  KALAMA USA              83.98  PMX  False   ballast    7.2  \n",
       "565599  CA VAN                    NaN  PMX  False   ballast    6.9  \n",
       "565600  SAN LORANZO               NaN  PMX  False   ballast    7.1  \n",
       "565601  CO PBO                    NaN  PMX   True   ballast    8.5  "
      ]
     },
     "execution_count": 3,
     "metadata": {},
     "output_type": "execute_result"
    }
   ],
   "source": [
    "df_pan.describe()\n",
    "# Drop rows with all Na values\n",
    "df_pan = df_pan.dropna(how = 'all')\n",
    "df_pan.shape\n",
    "df_pan.tail()"
   ]
  },
  {
   "cell_type": "code",
   "execution_count": 4,
   "metadata": {},
   "outputs": [],
   "source": [
    "# Prediction is for the next 30 days. Hence each ship has to have at least 30 days of recordings.\n",
    "# hence keep only ships with more than 30 days of records."
   ]
  },
  {
   "cell_type": "code",
   "execution_count": 4,
   "metadata": {},
   "outputs": [
    {
     "data": {
      "text/plain": [
       "count    3601.000000\n",
       "mean      157.068037\n",
       "std       157.127327\n",
       "min         1.000000\n",
       "25%        53.000000\n",
       "50%       117.000000\n",
       "75%       218.000000\n",
       "max      1943.000000\n",
       "Name: date, dtype: float64"
      ]
     },
     "execution_count": 4,
     "metadata": {},
     "output_type": "execute_result"
    }
   ],
   "source": [
    "df_pan.groupby(['imo'])['date'].count().describe()"
   ]
  },
  {
   "cell_type": "code",
   "execution_count": 5,
   "metadata": {},
   "outputs": [
    {
     "name": "stdout",
     "output_type": "stream",
     "text": [
      "(3601,)\n"
     ]
    }
   ],
   "source": [
    "# There are 3601 ships being tracked\n",
    "print(df_pan.groupby(['imo'])['date'].count().shape)\n",
    "# Remove ships that have less than 30 records\n",
    "imo_no = (df_pan.groupby(['imo'])['date'].count() >= 30)\n",
    "\n",
    "df_pan_clean1 = df_pan[df_pan['imo'].isin(imo_no[imo_no.values == True].index)]"
   ]
  },
  {
   "cell_type": "code",
   "execution_count": 6,
   "metadata": {},
   "outputs": [
    {
     "data": {
      "text/plain": [
       "<matplotlib.axes._subplots.AxesSubplot at 0x219a7ce3a88>"
      ]
     },
     "execution_count": 6,
     "metadata": {},
     "output_type": "execute_result"
    },
    {
     "data": {
      "image/png": "[encoded data removed]",
      "text/plain": [
       "<Figure size 432x288 with 1 Axes>"
      ]
     },
     "metadata": {
      "needs_background": "light"
     },
     "output_type": "display_data"
    }
   ],
   "source": [
    "df_pan_clean1.groupby(['imo'])['date'].count().hist()"
   ]
  },
  {
   "cell_type": "code",
   "execution_count": 7,
   "metadata": {},
   "outputs": [
    {
     "data": {
      "text/plain": [
       "Column1             0\n",
       "imo                 0\n",
       "date                0\n",
       "latitude            0\n",
       "longitude           0\n",
       "destination      1687\n",
       "bearing        185225\n",
       "size                0\n",
       "zone                0\n",
       "statusLDC           0\n",
       "draft               0\n",
       "dtype: int64"
      ]
     },
     "execution_count": 7,
     "metadata": {},
     "output_type": "execute_result"
    }
   ],
   "source": [
    "# Check for missing values\n",
    "len(df_pan_clean1) - df_pan_clean1.count()\n",
    "# The two columns have missing values\n",
    "# The destination column needs to be cleaned as it has many special characters and non standard format of location names.\n",
    "# It can be later used to derive the destination lat and long values to get the total distance between any two points.\n",
    "# This is not done at the moment due to paucity of time.\n",
    "# bearing can be calculated"
   ]
  },
  {
   "cell_type": "markdown",
   "metadata": {},
   "source": [
    "# Calculate relative distance from Panama\n",
    "Determining the distance from each lat long to the lat long of Panama Canal as it will determine the arrival day and thus determine if the ship crossed Panama Canal."
   ]
  },
  {
   "cell_type": "code",
   "execution_count": 8,
   "metadata": {},
   "outputs": [],
   "source": [
    "# To find distance between 2 points on the Earth\n",
    "from math import radians, sqrt , asin\n",
    "\n",
    "def haversine(df, lon2, lat2):\n",
    "    \"\"\"\n",
    "    Calculate the great circle distance between two points \n",
    "    on the earth (specified in decimal degrees)\n",
    "    \"\"\"\n",
    "    # convert decimal degrees to radians \n",
    "    \n",
    "    lon1=np.array(list((map(radians,df['longitude']))))\n",
    "    lat1=np.array(list(map(radians,df['latitude'])))\n",
    "    lon2, lat2 = list(map(radians, [pan_long, pan_lat]))\n",
    "\n",
    "    # haversine formula \n",
    "    dlon = lon2 - lon1 \n",
    "    dlat = lat2 - lat1 \n",
    "    \n",
    "    a = np.sin(dlat/2)**2 + np.cos(lat1) * np.cos(lat2) * np.sin(dlon/2)**2\n",
    "    c = 2 * np.arcsin(np.sqrt(a)) \n",
    "    r = 6371 # Radius of earth in kilometers. Use 3956 for miles\n",
    "    return c * r"
   ]
  },
  {
   "cell_type": "code",
   "execution_count": 9,
   "metadata": {},
   "outputs": [
    {
     "name": "stderr",
     "output_type": "stream",
     "text": [
      "C:\\Users\\sindh\\Anaconda3\\lib\\site-packages\\ipykernel_launcher.py:5: SettingWithCopyWarning: \n",
      "A value is trying to be set on a copy of a slice from a DataFrame.\n",
      "Try using .loc[row_indexer,col_indexer] = value instead\n",
      "\n",
      "See the caveats in the documentation: http://pandas.pydata.org/pandas-docs/stable/user_guide/indexing.html#returning-a-view-versus-a-copy\n",
      "  \"\"\"\n"
     ]
    }
   ],
   "source": [
    "#Location of Panama canal\n",
    "# Source : https://www.latlong.net/place/panama-canal-panama-27609.html\n",
    "pan_lat=9.080000\n",
    "pan_long=-79.680000\n",
    "df_pan_clean1['Distance_From_Panama_kms']=haversine(df_pan_clean1,pan_long,pan_lat)"
   ]
  },
  {
   "cell_type": "code",
   "execution_count": 10,
   "metadata": {},
   "outputs": [
    {
     "name": "stderr",
     "output_type": "stream",
     "text": [
      "C:\\Users\\sindh\\Anaconda3\\lib\\site-packages\\ipykernel_launcher.py:1: SettingWithCopyWarning: \n",
      "A value is trying to be set on a copy of a slice from a DataFrame.\n",
      "Try using .loc[row_indexer,col_indexer] = value instead\n",
      "\n",
      "See the caveats in the documentation: http://pandas.pydata.org/pandas-docs/stable/user_guide/indexing.html#returning-a-view-versus-a-copy\n",
      "  \"\"\"Entry point for launching an IPython kernel.\n",
      "C:\\Users\\sindh\\Anaconda3\\lib\\site-packages\\ipykernel_launcher.py:2: SettingWithCopyWarning: \n",
      "A value is trying to be set on a copy of a slice from a DataFrame.\n",
      "Try using .loc[row_indexer,col_indexer] = value instead\n",
      "\n",
      "See the caveats in the documentation: http://pandas.pydata.org/pandas-docs/stable/user_guide/indexing.html#returning-a-view-versus-a-copy\n",
      "  \n"
     ]
    }
   ],
   "source": [
    "df_pan_clean1['Relative_lat']=df_pan_clean1.latitude - pan_lat\n",
    "df_pan_clean1['Relative_long']=df_pan_clean1.longitude - pan_long"
   ]
  },
  {
   "cell_type": "code",
   "execution_count": 11,
   "metadata": {},
   "outputs": [
    {
     "data": {
      "image/png": "[encoded data removed]",
      "text/plain": [
       "<Figure size 432x288 with 1 Axes>"
      ]
     },
     "metadata": {
      "needs_background": "light"
     },
     "output_type": "display_data"
    }
   ],
   "source": [
    "# Visualizing the location of the vessel at each point until it reaches the Canal\n",
    "import matplotlib.pyplot as plt\n",
    "import seaborn as sb\n",
    "# Here (0,0) is Panama Canal\n",
    "sb.scatterplot(x='Relative_long',y='Relative_lat',data=df_pan_clean1[df_pan_clean1.imo == 7621932])\n",
    "plt.show()"
   ]
  },
  {
   "cell_type": "code",
   "execution_count": 12,
   "metadata": {},
   "outputs": [
    {
     "data": {
      "text/plain": [
       "(557768, 14)"
      ]
     },
     "execution_count": 12,
     "metadata": {},
     "output_type": "execute_result"
    }
   ],
   "source": [
    "df_pan_clean1.shape"
   ]
  },
  {
   "cell_type": "markdown",
   "metadata": {},
   "source": [
    "## Create bearings and distance between the two points to later calculate speed of the vessel"
   ]
  },
  {
   "cell_type": "code",
   "execution_count": 13,
   "metadata": {},
   "outputs": [
    {
     "name": "stderr",
     "output_type": "stream",
     "text": [
      "C:\\Users\\sindh\\Anaconda3\\lib\\site-packages\\ipykernel_launcher.py:1: SettingWithCopyWarning: \n",
      "A value is trying to be set on a copy of a slice from a DataFrame.\n",
      "Try using .loc[row_indexer,col_indexer] = value instead\n",
      "\n",
      "See the caveats in the documentation: http://pandas.pydata.org/pandas-docs/stable/user_guide/indexing.html#returning-a-view-versus-a-copy\n",
      "  \"\"\"Entry point for launching an IPython kernel.\n",
      "C:\\Users\\sindh\\Anaconda3\\lib\\site-packages\\ipykernel_launcher.py:2: SettingWithCopyWarning: \n",
      "A value is trying to be set on a copy of a slice from a DataFrame.\n",
      "Try using .loc[row_indexer,col_indexer] = value instead\n",
      "\n",
      "See the caveats in the documentation: http://pandas.pydata.org/pandas-docs/stable/user_guide/indexing.html#returning-a-view-versus-a-copy\n",
      "  \n"
     ]
    }
   ],
   "source": [
    "df_pan_clean1['Lat_radians']=df_pan_clean1['latitude'].apply(radians)\n",
    "df_pan_clean1['Long_radians']=df_pan_clean1['longitude'].apply(radians)"
   ]
  },
  {
   "cell_type": "code",
   "execution_count": 14,
   "metadata": {},
   "outputs": [
    {
     "data": {
      "text/html": [
       "<div>\n",
       "<style scoped>\n",
       "    .dataframe tbody tr th:only-of-type {\n",
       "        vertical-align: middle;\n",
       "    }\n",
       "\n",
       "    .dataframe tbody tr th {\n",
       "        vertical-align: top;\n",
       "    }\n",
       "\n",
       "    .dataframe thead th {\n",
       "        text-align: right;\n",
       "    }\n",
       "</style>\n",
       "<table border=\"1\" class=\"dataframe\">\n",
       "  <thead>\n",
       "    <tr style=\"text-align: right;\">\n",
       "      <th></th>\n",
       "      <th>imo</th>\n",
       "      <th>date</th>\n",
       "      <th>latitude</th>\n",
       "      <th>longitude</th>\n",
       "      <th>destination</th>\n",
       "      <th>bearing</th>\n",
       "      <th>size</th>\n",
       "      <th>zone</th>\n",
       "      <th>statusLDC</th>\n",
       "      <th>draft</th>\n",
       "      <th>Distance_From_Panama_kms</th>\n",
       "      <th>Relative_lat</th>\n",
       "      <th>Relative_long</th>\n",
       "      <th>Lat_radians</th>\n",
       "      <th>Long_radians</th>\n",
       "      <th>Fwd_Bearing_new</th>\n",
       "      <th>Back_bearing_new</th>\n",
       "      <th>Distance_Travelled_from_previous_point</th>\n",
       "    </tr>\n",
       "    <tr>\n",
       "      <th>Column1</th>\n",
       "      <th></th>\n",
       "      <th></th>\n",
       "      <th></th>\n",
       "      <th></th>\n",
       "      <th></th>\n",
       "      <th></th>\n",
       "      <th></th>\n",
       "      <th></th>\n",
       "      <th></th>\n",
       "      <th></th>\n",
       "      <th></th>\n",
       "      <th></th>\n",
       "      <th></th>\n",
       "      <th></th>\n",
       "      <th></th>\n",
       "      <th></th>\n",
       "      <th></th>\n",
       "      <th></th>\n",
       "    </tr>\n",
       "  </thead>\n",
       "  <tbody>\n",
       "    <tr>\n",
       "      <td>21106558.0</td>\n",
       "      <td>9804564.0</td>\n",
       "      <td>2017-06-23</td>\n",
       "      <td>51.6108</td>\n",
       "      <td>-145.1546</td>\n",
       "      <td>FANGCHENG</td>\n",
       "      <td>-64.62</td>\n",
       "      <td>PMX</td>\n",
       "      <td>False</td>\n",
       "      <td>laden</td>\n",
       "      <td>14.9</td>\n",
       "      <td>7536.264563</td>\n",
       "      <td>42.5308</td>\n",
       "      <td>-65.4746</td>\n",
       "      <td>0.900778</td>\n",
       "      <td>-2.533426</td>\n",
       "      <td></td>\n",
       "      <td></td>\n",
       "      <td></td>\n",
       "    </tr>\n",
       "    <tr>\n",
       "      <td>21106559.0</td>\n",
       "      <td>9804564.0</td>\n",
       "      <td>2017-06-24</td>\n",
       "      <td>52.9189</td>\n",
       "      <td>-151.9928</td>\n",
       "      <td>FANGCHENG</td>\n",
       "      <td>-70.00</td>\n",
       "      <td>PMX</td>\n",
       "      <td>False</td>\n",
       "      <td>laden</td>\n",
       "      <td>14.9</td>\n",
       "      <td>8020.933105</td>\n",
       "      <td>43.8389</td>\n",
       "      <td>-72.3128</td>\n",
       "      <td>0.923609</td>\n",
       "      <td>-2.652775</td>\n",
       "      <td></td>\n",
       "      <td></td>\n",
       "      <td></td>\n",
       "    </tr>\n",
       "    <tr>\n",
       "      <td>21106560.0</td>\n",
       "      <td>9804564.0</td>\n",
       "      <td>2017-06-25</td>\n",
       "      <td>53.8759</td>\n",
       "      <td>-159.7530</td>\n",
       "      <td>FANGCHENG</td>\n",
       "      <td>-75.24</td>\n",
       "      <td>PMX</td>\n",
       "      <td>False</td>\n",
       "      <td>laden</td>\n",
       "      <td>14.9</td>\n",
       "      <td>8543.171953</td>\n",
       "      <td>44.7959</td>\n",
       "      <td>-80.0730</td>\n",
       "      <td>0.940312</td>\n",
       "      <td>-2.788216</td>\n",
       "      <td></td>\n",
       "      <td></td>\n",
       "      <td></td>\n",
       "    </tr>\n",
       "    <tr>\n",
       "      <td>21106561.0</td>\n",
       "      <td>9804564.0</td>\n",
       "      <td>2017-06-26</td>\n",
       "      <td>54.3893</td>\n",
       "      <td>-166.6190</td>\n",
       "      <td>FANGCHENG</td>\n",
       "      <td>-79.97</td>\n",
       "      <td>PMX</td>\n",
       "      <td>False</td>\n",
       "      <td>laden</td>\n",
       "      <td>14.9</td>\n",
       "      <td>8990.208738</td>\n",
       "      <td>45.3093</td>\n",
       "      <td>-86.9390</td>\n",
       "      <td>0.949272</td>\n",
       "      <td>-2.908050</td>\n",
       "      <td></td>\n",
       "      <td></td>\n",
       "      <td></td>\n",
       "    </tr>\n",
       "    <tr>\n",
       "      <td>21106562.0</td>\n",
       "      <td>9804564.0</td>\n",
       "      <td>2017-06-27</td>\n",
       "      <td>53.9824</td>\n",
       "      <td>-174.2890</td>\n",
       "      <td>FANGCHENG</td>\n",
       "      <td>-92.05</td>\n",
       "      <td>PMX</td>\n",
       "      <td>False</td>\n",
       "      <td>laden</td>\n",
       "      <td>14.9</td>\n",
       "      <td>9491.018589</td>\n",
       "      <td>44.9024</td>\n",
       "      <td>-94.6090</td>\n",
       "      <td>0.942171</td>\n",
       "      <td>-3.041917</td>\n",
       "      <td></td>\n",
       "      <td></td>\n",
       "      <td></td>\n",
       "    </tr>\n",
       "  </tbody>\n",
       "</table>\n",
       "</div>"
      ],
      "text/plain": [
       "                  imo       date  latitude  longitude           destination  \\\n",
       "Column1                                                                       \n",
       "21106558.0  9804564.0 2017-06-23   51.6108  -145.1546  FANGCHENG              \n",
       "21106559.0  9804564.0 2017-06-24   52.9189  -151.9928  FANGCHENG              \n",
       "21106560.0  9804564.0 2017-06-25   53.8759  -159.7530  FANGCHENG              \n",
       "21106561.0  9804564.0 2017-06-26   54.3893  -166.6190  FANGCHENG              \n",
       "21106562.0  9804564.0 2017-06-27   53.9824  -174.2890  FANGCHENG              \n",
       "\n",
       "            bearing size   zone statusLDC  draft  Distance_From_Panama_kms  \\\n",
       "Column1                                                                      \n",
       "21106558.0   -64.62  PMX  False     laden   14.9               7536.264563   \n",
       "21106559.0   -70.00  PMX  False     laden   14.9               8020.933105   \n",
       "21106560.0   -75.24  PMX  False     laden   14.9               8543.171953   \n",
       "21106561.0   -79.97  PMX  False     laden   14.9               8990.208738   \n",
       "21106562.0   -92.05  PMX  False     laden   14.9               9491.018589   \n",
       "\n",
       "            Relative_lat  Relative_long  Lat_radians  Long_radians  \\\n",
       "Column1                                                              \n",
       "21106558.0       42.5308       -65.4746     0.900778     -2.533426   \n",
       "21106559.0       43.8389       -72.3128     0.923609     -2.652775   \n",
       "21106560.0       44.7959       -80.0730     0.940312     -2.788216   \n",
       "21106561.0       45.3093       -86.9390     0.949272     -2.908050   \n",
       "21106562.0       44.9024       -94.6090     0.942171     -3.041917   \n",
       "\n",
       "           Fwd_Bearing_new Back_bearing_new  \\\n",
       "Column1                                       \n",
       "21106558.0                                    \n",
       "21106559.0                                    \n",
       "21106560.0                                    \n",
       "21106561.0                                    \n",
       "21106562.0                                    \n",
       "\n",
       "           Distance_Travelled_from_previous_point  \n",
       "Column1                                            \n",
       "21106558.0                                         \n",
       "21106559.0                                         \n",
       "21106560.0                                         \n",
       "21106561.0                                         \n",
       "21106562.0                                         "
      ]
     },
     "execution_count": 14,
     "metadata": {},
     "output_type": "execute_result"
    }
   ],
   "source": [
    "# The index column is sorted based on the dates and hence will be useful in keeping the time series order in place\n",
    "df_pan_clean1 = df_pan_clean1.set_index(['Column1'])\n",
    "df_pan_clean1.sort_index(inplace=True)\n",
    "#df_pan_clean1.drop('Bearing_new',axis=1,inplace=True)\n",
    "df_pan_clean1['Fwd_Bearing_new']=''\n",
    "df_pan_clean1['Back_bearing_new']=''\n",
    "df_pan_clean1['Distance_Travelled_from_previous_point']=''\n",
    "df_pan_clean1.tail()"
   ]
  },
  {
   "cell_type": "code",
   "execution_count": 17,
   "metadata": {},
   "outputs": [],
   "source": [
    "import pyproj\n",
    "geodesic = pyproj.Geod(ellps='WGS84')\n",
    "df_pan_clean1['Fwd_Bearing_new'],df_pan_clean1['Back_bearing_new'],df_pan_clean1['Distance_Travelled_from_previous_point']=np.where(df_pan_clean1.imo.shift(-1)==df_pan_clean1.imo,geodesic.inv(list(df_pan_clean1['Lat_radians']),list(df_pan_clean1['Long_radians']),list(df_pan_clean1['Lat_radians'].shift(-1)),list(df_pan_clean1['Long_radians'].shift(-1)),radians=False),np.NaN)"
   ]
  },
  {
   "cell_type": "markdown",
   "metadata": {},
   "source": [
    "# Create time variables to get the number of days from the start of trip"
   ]
  },
  {
   "cell_type": "code",
   "execution_count": 18,
   "metadata": {},
   "outputs": [
    {
     "name": "stderr",
     "output_type": "stream",
     "text": [
      "C:\\Users\\sindh\\Anaconda3\\lib\\site-packages\\ipykernel_launcher.py:2: FutureWarning: using a dict on a Series for aggregation\n",
      "is deprecated and will be removed in a future version. Use                 named aggregation instead.\n",
      "\n",
      "    >>> grouper.agg(name_1=func_1, name_2=func_2)\n",
      "\n",
      "  \n"
     ]
    }
   ],
   "source": [
    "# Get the starting date of journey for each ship\n",
    "start_date =df_pan_clean1.groupby('imo').date.agg({'date_start': 'first'})\n",
    "# Merge this with the current dataset.\n",
    "df_time = df_pan_clean1.merge(start_date, left_on='imo', right_on='imo')\n",
    "# Create column to find the day difference\n",
    "df_time['day_diff']= df_time.sort_values(['date']).groupby('imo')['date'].diff()\n",
    "# Create time difference between start date and each of the proeeding days.\n",
    "df_time['total_time']= df_time.date - df_time.date_start"
   ]
  },
  {
   "cell_type": "code",
   "execution_count": 19,
   "metadata": {},
   "outputs": [],
   "source": [
    "from datetime import datetime  \n",
    "from datetime import timedelta \n",
    "df_time['back_30d'] = df_time.date - timedelta(days=30) \n",
    "df_time['after_30d'] = df_time.date + timedelta(days=30) "
   ]
  },
  {
   "cell_type": "code",
   "execution_count": 21,
   "metadata": {},
   "outputs": [
    {
     "data": {
      "text/plain": [
       "291"
      ]
     },
     "execution_count": 21,
     "metadata": {},
     "output_type": "execute_result"
    }
   ],
   "source": [
    "# Create a target column that identifies if the distance from panama is less than 30kms \n",
    "# and also check if the start date was less than 30 days ago\n",
    "df_time['target'] = 0\n",
    "for index, row in df_time.iterrows():\n",
    "    if (row['Distance_From_Panama_kms'] < 30.0) & (row['back_30d'] <= row['date_start']) :\n",
    "        df_time.target[index] = 1\n",
    "    else:\n",
    "        df_time.target[index] = 0\n",
    "\n",
    "# Number of ships that pass are\n",
    "sum(df_time.groupby('imo')['target'].sum())\n",
    "# We also see that a single ship has passed multiple times"
   ]
  },
  {
   "cell_type": "code",
   "execution_count": 22,
   "metadata": {},
   "outputs": [
    {
     "name": "stdout",
     "output_type": "stream",
     "text": [
      "(54169, 24)\n",
      "(503599, 24)\n",
      "(400722, 24)\n"
     ]
    }
   ],
   "source": [
    "# Separate the ships that did not pass theough the Panama canal in order to create the target column\n",
    "ppass = (df_time.groupby('imo')['target'].sum() != 0)\n",
    "df_pan_pass = df_time[df_time['imo'].isin(ppass[ppass.values == True].index)]\n",
    "df_pan_nopass = df_time[df_time['imo'].isin(ppass[ppass.values == False].index)]\n",
    "print(df_pan_pass.shape)\n",
    "print(df_pan_nopass.shape) \n",
    "\n",
    "# It is known that the CAPE size ships dont pass through the Panama canal for sure. \n",
    "# Hence we can remove all the CAPE size ships in the nopass dataframe\n",
    "# Source : http://maritime-connector.com/wiki/capesize/\n",
    "df_pan_nopass = df_pan_nopass[df_pan_nopass['size'] != 'CAPE']\n",
    "print(df_pan_nopass.shape)"
   ]
  },
  {
   "cell_type": "code",
   "execution_count": 24,
   "metadata": {},
   "outputs": [],
   "source": [
    "# prepare the target column in the right format\n",
    "pass_ships = df_pan_pass.groupby(['imo'])['target'].sum()\n",
    "nopass_ships = df_pan_nopass.groupby(['imo'])['target'].sum()\n",
    "\n",
    "pass_ships['y'] = 1\n",
    "nopass_ships['y'] = 0\n",
    "\n",
    "# Target columns\n",
    "y_col = pass_ships.append(nopass_ships)\n",
    "\n",
    "for i in range(len(y_col)):\n",
    "    if y_col[i] > 0:\n",
    "        y_col[i] = 1\n",
    "        \n",
    "# Append the X columns from the split datasets \n",
    "X = df_pan_pass.append(df_pan_nopass)\n",
    "# The calculated bearing values and the ones present in the dataset dont match.\n",
    "# This could be because the original bearings was calculated w.r.t the destination instead of the next point.\n",
    "# Hence we will use both the bearing values\n",
    "# For the missing values in the original dataset forward fill the values as the missing values are less than 80%\n",
    "X.bearing = X.groupby(['imo'])['bearing'].ffill()\n",
    "X.bearing = X.bearing.fillna(0)"
   ]
  },
  {
   "cell_type": "markdown",
   "metadata": {},
   "source": [
    "# Check correlation\n",
    "t is observed that no two variables have correlation greater than 0.5 and hence no multicollienarity"
   ]
  },
  {
   "cell_type": "code",
   "execution_count": 25,
   "metadata": {},
   "outputs": [
    {
     "data": {
      "image/png": "[encoded data removed]",
      "text/plain": [
       "<Figure size 1440x1440 with 2 Axes>"
      ]
     },
     "metadata": {
      "needs_background": "light"
     },
     "output_type": "display_data"
    }
   ],
   "source": [
    "# Removing non numeric and non relevant variables\n",
    "df1 = X[['bearing',\n",
    "       'draft', 'Distance_From_Panama_kms',\n",
    "       'Fwd_Bearing_new', 'Back_bearing_new',\n",
    "       'Distance_Travelled_from_previous_point', 'date_start', 'day_diff',\n",
    "       'total_time', 'target']]\n",
    "\n",
    "cr = df1.corr()\n",
    "\n",
    "fig, ax = plt.subplots(figsize=(20,20))         \n",
    "sns.heatmap(cr, annot = True, linewidths =0.5, ax = ax)\n",
    "plt.show()"
   ]
  },
  {
   "cell_type": "markdown",
   "metadata": {},
   "source": [
    "## Convert categorical variables to dummy variables"
   ]
  },
  {
   "cell_type": "code",
   "execution_count": 42,
   "metadata": {},
   "outputs": [],
   "source": [
    "X_sub = X[['imo', 'bearing', 'size', 'zone', 'statusLDC', 'draft',\n",
    "       'Distance_From_Panama_kms', 'total_time']]\n",
    "# Convert categorical columns to dummy variables \n",
    "X_sub = pd.get_dummies(X_sub, columns=['size','statusLDC'])\n",
    "X_sub['zone'] = X_sub['zone'].map({True: 1 , False: 0})\n",
    "\n",
    "# Convert days in type time to integer\n",
    "X_sub.total_time = X_sub.total_time.dt.days\n",
    "X_sub = X_sub.set_index(['imo'])"
   ]
  },
  {
   "cell_type": "code",
   "execution_count": 43,
   "metadata": {},
   "outputs": [
    {
     "data": {
      "text/plain": [
       "(454891, 12)"
      ]
     },
     "execution_count": 43,
     "metadata": {},
     "output_type": "execute_result"
    }
   ],
   "source": [
    "# Combine the X and Y varibles \n",
    "df_final = X_sub.merge(y_col, right_index= True, left_index= True)\n",
    "df_final.shape"
   ]
  },
  {
   "cell_type": "code",
   "execution_count": 44,
   "metadata": {},
   "outputs": [],
   "source": [
    "# Save the dataset\n",
    "df_final.to_csv('final_dataset.csv')"
   ]
  },
  {
   "cell_type": "markdown",
   "metadata": {},
   "source": [
    "# Prepare dataset for Modeling"
   ]
  },
  {
   "cell_type": "code",
   "execution_count": 29,
   "metadata": {},
   "outputs": [
    {
     "name": "stderr",
     "output_type": "stream",
     "text": [
      "Using TensorFlow backend.\n"
     ]
    }
   ],
   "source": [
    "from math import sqrt\n",
    "from numpy import concatenate\n",
    "#from matplotlib import pyplot\n",
    "from pandas import read_csv\n",
    "from pandas import DataFrame\n",
    "from pandas import concat\n",
    "from sklearn.preprocessing import MinMaxScaler\n",
    "from sklearn.preprocessing import LabelEncoder\n",
    "from sklearn.metrics import mean_squared_error\n",
    "from keras.models import Sequential\n",
    "from keras.layers import Dense\n",
    "from keras.layers import LSTM\n",
    " \n",
    "# convert series to supervised learning\n",
    "def series_to_supervised(data , df_cols, n_in= 1, n_out=1, dropnan=True):\n",
    "    n_vars = 1 if type(data) is list else data.shape[1]\n",
    "    df = DataFrame(data)\n",
    "    cols, names = list(), list()\n",
    "    # input sequence (t-n, ... t-1)\n",
    "    \n",
    "    for i in range(n_in, 0, -1):\n",
    "        cols.append(df.shift(i))\n",
    "        names += [('%s(t-%d)' % (col, i)) for col in df_cols]\n",
    "    # forecast sequence (t, t+1, ... t+n)\n",
    "    for i in range(0, n_out):\n",
    "        cols.append(df.shift(-i))\n",
    "        if i == 0:\n",
    "            names += [('%s(t)' % (col)) for col in df_cols]\n",
    "        else:\n",
    "            names += [('%s(t+%d)' % (col, lag)) for col in df_cols]\n",
    "    # put it all together\n",
    "    agg = concat(cols, axis=1)\n",
    "    agg.columns = names\n",
    "    # drop rows with NaN values\n",
    "    if dropnan:\n",
    "        agg.dropna(inplace=True)\n",
    "    return agg"
   ]
  },
  {
   "cell_type": "code",
   "execution_count": 45,
   "metadata": {},
   "outputs": [],
   "source": [
    "# normalize features\n",
    "values = df_final.values\n",
    "df_cols = df_final.columns\n",
    "\n",
    "scaler = MinMaxScaler(feature_range=(0, 1))\n",
    "scaled = scaler.fit_transform(values)"
   ]
  },
  {
   "cell_type": "code",
   "execution_count": 36,
   "metadata": {},
   "outputs": [],
   "source": [
    "# # Prepare the dataset for each IMO\n",
    "# ship_ids=df_final.index.unique()\n",
    "# df_cols = df_final.columns\n",
    "# all_vessels = []\n",
    "\n",
    "# for ship_id in ship_ids:\n",
    "#     temp=df_final.loc[df_final.index == ship_id]\n",
    "#     values = temp.values\n",
    "\n",
    "#     scaler = MinMaxScaler(feature_range=(0, 1))\n",
    "#     scaled = scaler.fit_transform(values)\n",
    "#     ref_df = series_to_supervised(scaled, df_cols, 30, 1)\n",
    "#     all_vessels.append(ref_df)\n",
    "\n",
    "# del(values)\n",
    "# del(ref_df)\n",
    "# del(scaled)\n",
    "\n",
    "# df_final = pd.concat(all_vessels)\n",
    "# del(all_vessels)\n",
    "# df_final.shape\n",
    "# sum(df_final['target(t)'])"
   ]
  },
  {
   "cell_type": "code",
   "execution_count": 46,
   "metadata": {},
   "outputs": [
    {
     "data": {
      "text/plain": [
       "(454861, 121)"
      ]
     },
     "execution_count": 46,
     "metadata": {},
     "output_type": "execute_result"
    }
   ],
   "source": [
    "# get the names of the columns 10 timesteps after the start\n",
    "# This will be used to subset the columns from the reframed dataframe\n",
    "cols, names = list(), list()\n",
    "for i in range(30, 0, -1):\n",
    "        cols.append(df_final.shift(i))\n",
    "        names += [('%s(t-%d)' % (col, i)) for col in df_cols]\n",
    "\n",
    "names_new = names[:120]\n",
    "names_new.append('target(t)')\n",
    "\n",
    "# frame as supervised learning\n",
    "# Get the first 30 days location details of the ship\n",
    "reframed = series_to_supervised(scaled, df_cols, 30, 1)\n",
    "reframed.head()\n",
    "\n",
    "# Select only the first 10 time window and the 30th target\n",
    "new_reframed = reframed[names_new]\n",
    "new_reframed.shape"
   ]
  },
  {
   "cell_type": "code",
   "execution_count": 47,
   "metadata": {},
   "outputs": [
    {
     "name": "stdout",
     "output_type": "stream",
     "text": [
      "(318402, 10, 12) (318402,) (136459, 10, 12) (136459,)\n"
     ]
    }
   ],
   "source": [
    "# Split the data into 3D format\n",
    "# split into train and test sets\n",
    "# Since it is timeseires, data is split while keeping the order of datasets the same\n",
    "data_values = new_reframed.values\n",
    "train_size = int(len(data_values) * 0.70)\n",
    "train = data_values[:train_size, :]\n",
    "test = data_values[train_size:, :]\n",
    "\n",
    "# split into input and outputs\n",
    "train_X, train_y = train[:, :-1], train[:, -1]\n",
    "test_X, test_y = test[:, :-1], test[:, -1]\n",
    "\n",
    "# reshape input to be 3D [samples, timesteps, features]\n",
    "train_X = train_X.reshape((train_X.shape[0], 10, 12))\n",
    "test_X = test_X.reshape((test_X.shape[0], 10, 12))\n",
    "print(train_X.shape, train_y.shape, test_X.shape, test_y.shape)"
   ]
  },
  {
   "cell_type": "markdown",
   "metadata": {},
   "source": [
    "# MCC as evaluation metric"
   ]
  },
  {
   "cell_type": "code",
   "execution_count": 33,
   "metadata": {},
   "outputs": [],
   "source": [
    "from keras import backend as K \n",
    "from keras.activations import relu\n",
    "from keras.callbacks import EarlyStopping, ModelCheckpoint\n",
    "from keras.models import Sequential\n",
    "from keras.layers import Dense, LSTM, Dropout\n",
    "from keras.callbacks import TensorBoard\n",
    "from keras.optimizers import Adam\n",
    "import tensorflow as tf\n",
    "def matthews_correlation_coeff(y_true, y_pred):\n",
    "    '''Calculates the Matthews correlation coefficient measure for quality\n",
    "    of binary classification problems.\n",
    "    '''\n",
    "    y_pred = tf.convert_to_tensor(y_pred, np.float32)\n",
    "    y_true = tf.convert_to_tensor(y_true, np.float32)\n",
    "\n",
    "    y_pred_pos = K.round(K.clip(y_pred, 0, 1))\n",
    "    y_pred_neg = 1 - y_pred_pos\n",
    "\n",
    "    y_pos = K.round(K.clip(y_true, 0, 1))\n",
    "    y_neg = 1 - y_pos\n",
    "\n",
    "    tp = K.sum(y_pos * y_pred_pos)\n",
    "    tn = K.sum(y_neg * y_pred_neg)\n",
    "\n",
    "    fp = K.sum(y_neg * y_pred_pos)\n",
    "    fn = K.sum(y_pos * y_pred_neg)\n",
    "\n",
    "    numerator = (tp * tn - fp * fn)\n",
    "    denominator = K.sqrt((tp + fp) * (tp + fn) * (tn + fp) * (tn + fn))\n",
    "\n",
    "    return numerator / (denominator + K.epsilon())"
   ]
  },
  {
   "cell_type": "markdown",
   "metadata": {},
   "source": [
    "# Build a Model"
   ]
  },
  {
   "cell_type": "code",
   "execution_count": 48,
   "metadata": {},
   "outputs": [
    {
     "name": "stdout",
     "output_type": "stream",
     "text": [
      "Model: \"sequential_5\"\n",
      "_________________________________________________________________\n",
      "Layer (type)                 Output Shape              Param #   \n",
      "=================================================================\n",
      "lstm_5 (LSTM)                (None, 128)               72192     \n",
      "_________________________________________________________________\n",
      "dense_5 (Dense)              (None, 1)                 129       \n",
      "=================================================================\n",
      "Total params: 72,321\n",
      "Trainable params: 72,321\n",
      "Non-trainable params: 0\n",
      "_________________________________________________________________\n"
     ]
    }
   ],
   "source": [
    "# Model\n",
    "# A simple one layer LSTM is constructed due to time constraint and lack of computational resources to train a larger network.\n",
    "# Multiple layers and hyper parameter tuning can be performed to obtain a more accurate model.\n",
    "model = Sequential()\n",
    "model.add(LSTM(128, input_shape=(10, 12)))\n",
    "model.add(Dense(1, activation='sigmoid'))\n",
    "model.summary()"
   ]
  },
  {
   "cell_type": "code",
   "execution_count": 49,
   "metadata": {},
   "outputs": [
    {
     "name": "stdout",
     "output_type": "stream",
     "text": [
      "Epoch 1/5\n",
      "318402/318402 [==============================] - 66s 208us/step - loss: 0.0804 - matthews_correlation_coeff: 0.9158\n",
      "\n",
      "Epoch 00001: matthews_correlation_coeff improved from -inf to 0.91581, saving model to best_model_mcc_bd.h5\n",
      "Epoch 2/5\n",
      "318402/318402 [==============================] - 64s 201us/step - loss: 0.0738 - matthews_correlation_coeff: 0.9267\n",
      "\n",
      "Epoch 00002: matthews_correlation_coeff improved from 0.91581 to 0.92668, saving model to best_model_mcc_bd.h5\n",
      "Epoch 3/5\n",
      "318402/318402 [==============================] - 62s 196us/step - loss: 0.0730 - matthews_correlation_coeff: 0.9266\n",
      "\n",
      "Epoch 00003: matthews_correlation_coeff did not improve from 0.92668\n",
      "Epoch 4/5\n",
      "318402/318402 [==============================] - 62s 195us/step - loss: 0.0724 - matthews_correlation_coeff: 0.9261\n",
      "\n",
      "Epoch 00004: matthews_correlation_coeff did not improve from 0.92668\n",
      "Epoch 5/5\n",
      "318402/318402 [==============================] - 66s 208us/step - loss: 0.0718 - matthews_correlation_coeff: 0.9268s - loss: 0.0718 - matthews_correlation_coeff\n",
      "\n",
      "Epoch 00005: matthews_correlation_coeff improved from 0.92668 to 0.92676, saving model to best_model_mcc_bd.h5\n"
     ]
    },
    {
     "data": {
      "text/plain": [
       "<keras.callbacks.callbacks.History at 0x2199d072ec8>"
      ]
     },
     "execution_count": 49,
     "metadata": {},
     "output_type": "execute_result"
    }
   ],
   "source": [
    "adam = Adam(lr=0.001)\n",
    "chk = ModelCheckpoint('best_model_mcc_bd.h5', save_best_only=True, save_weights_only=True, verbose=1, monitor='matthews_correlation_coeff', mode='max')\n",
    "model.compile(loss='binary_crossentropy', optimizer=adam, metrics=[matthews_correlation_coeff])\n",
    "model.fit(train_X, train_y, epochs= 5, batch_size=64, callbacks=[chk])"
   ]
  },
  {
   "cell_type": "code",
   "execution_count": 50,
   "metadata": {},
   "outputs": [],
   "source": [
    "from sklearn.metrics import matthews_corrcoef\n",
    "\n",
    "# The output of this kernel must be binary (0 or 1), but the output of the NN Model is float (0 to 1).\n",
    "# So, find the best threshold to convert float to binary is crucial to the result\n",
    "# this piece of code is a function that evaluates all the possible thresholds from 0 to 1 by 0.01\n",
    "def threshold_search(y_true, y_proba):\n",
    "    best_threshold = 0\n",
    "    best_score = 0\n",
    "    scores = []\n",
    "    for threshold in [i * 0.01 for i in range(100)]:\n",
    "        yp_np = np.array(y_proba)\n",
    "        yp_bool = yp_np >= threshold\n",
    "        score = matthews_corrcoef(y_true, yp_bool)\n",
    "        #score = K.eval(matthews_correlation(y_true.astype(np.float64), (y_proba > threshold).astype(np.float64)))\n",
    "        scores.append(score)\n",
    "        if score > best_score:\n",
    "            print(\"found better score:\"+str(score)+\", th=\"+str(threshold))\n",
    "            best_threshold = threshold\n",
    "            best_score = score\n",
    "    search_result = {'threshold': best_threshold, 'matthews_correlation': best_score}\n",
    "    scores_df = pd.DataFrame({\"score\": scores})\n",
    "    print(\"scores plot:\")\n",
    "    scores_df.plot()\n",
    "    plt.show()\n",
    "    return search_result"
   ]
  },
  {
   "cell_type": "code",
   "execution_count": 51,
   "metadata": {},
   "outputs": [
    {
     "name": "stdout",
     "output_type": "stream",
     "text": [
      "finding threshold\n"
     ]
    },
    {
     "name": "stderr",
     "output_type": "stream",
     "text": [
      "C:\\Users\\sindh\\Anaconda3\\lib\\site-packages\\sklearn\\metrics\\classification.py:872: RuntimeWarning: invalid value encountered in double_scalars\n",
      "  mcc = cov_ytyp / np.sqrt(cov_ytyt * cov_ypyp)\n"
     ]
    },
    {
     "name": "stdout",
     "output_type": "stream",
     "text": [
      "found better score:0.493750050523561, th=0.01\n",
      "found better score:0.6239331125446377, th=0.02\n",
      "found better score:0.6992180320698024, th=0.03\n",
      "found better score:0.760588417790493, th=0.04\n",
      "found better score:0.8013896519860235, th=0.05\n",
      "found better score:0.8296824079596574, th=0.06\n",
      "found better score:0.8486238998375405, th=0.07\n",
      "found better score:0.8631757858298659, th=0.08\n",
      "found better score:0.8726037137831337, th=0.09\n",
      "found better score:0.8817487230662905, th=0.1\n",
      "found better score:0.8868989500509449, th=0.11\n",
      "found better score:0.8896573960504126, th=0.12\n",
      "found better score:0.8902911744602278, th=0.13\n",
      "found better score:0.8905524736209137, th=0.14\n",
      "found better score:0.890604757997612, th=0.21\n",
      "found better score:0.8906570505609438, th=0.23\n",
      "found better score:0.8907093513131027, th=0.26\n",
      "found better score:0.8907616602562823, th=0.28\n",
      "found better score:0.8908139773926775, th=0.33\n",
      "found better score:0.890866302724484, th=0.53\n",
      "found better score:0.8909186362538979, th=0.54\n",
      "found better score:0.8909709779831166, th=0.55\n",
      "found better score:0.8910233279143382, th=0.56\n",
      "found better score:0.8910756860497617, th=0.58\n",
      "found better score:0.8914424229002569, th=0.59\n",
      "found better score:0.8914948467485541, th=0.6\n",
      "found better score:0.8915365344978629, th=0.61\n",
      "found better score:0.8915889854733335, th=0.62\n",
      "found better score:0.8916307315168317, th=0.63\n",
      "scores plot:\n"
     ]
    },
    {
     "data": {
      "image/png": "[encoded data removed]",
      "text/plain": [
       "<Figure size 432x288 with 1 Axes>"
      ]
     },
     "metadata": {
      "needs_background": "light"
     },
     "output_type": "display_data"
    },
    {
     "name": "stdout",
     "output_type": "stream",
     "text": [
      "0.63\n",
      "predicting test set\n",
      "136459/136459 [==============================] - 5s 39us/step\n"
     ]
    }
   ],
   "source": [
    "# loads the best weights saved by the checkpoint\n",
    "model.load_weights('best_model_mcc_bd.h5')\n",
    "label_predictions = []\n",
    "\n",
    "print(\"finding threshold\")\n",
    "predictions = model.predict(test_X, batch_size=512)\n",
    "best_threshold = threshold_search(test_y, predictions)['threshold']\n",
    "print(best_threshold)\n",
    "print(\"predicting test set\")\n",
    "pred = model.predict(test_X, batch_size=300, verbose=1)\n",
    "pred_bool = pred > best_threshold\n",
    "labels = pred_bool.astype(\"int32\")\n",
    "label_predictions.append(labels)"
   ]
  },
  {
   "cell_type": "code",
   "execution_count": null,
   "metadata": {},
   "outputs": [],
   "source": [
    "# Based on the results, we can say that a probability value about 0.63 can be classified as a ship crossing panama canal\n",
    "# within the next 30 days."
   ]
  },
  {
   "cell_type": "code",
   "execution_count": 52,
   "metadata": {},
   "outputs": [
    {
     "data": {
      "text/html": [
       "<div>\n",
       "<style scoped>\n",
       "    .dataframe tbody tr th:only-of-type {\n",
       "        vertical-align: middle;\n",
       "    }\n",
       "\n",
       "    .dataframe tbody tr th {\n",
       "        vertical-align: top;\n",
       "    }\n",
       "\n",
       "    .dataframe thead th {\n",
       "        text-align: right;\n",
       "    }\n",
       "</style>\n",
       "<table border=\"1\" class=\"dataframe\">\n",
       "  <thead>\n",
       "    <tr style=\"text-align: right;\">\n",
       "      <th></th>\n",
       "      <th>actual</th>\n",
       "      <th>pred</th>\n",
       "      <th>pred_prob</th>\n",
       "    </tr>\n",
       "  </thead>\n",
       "  <tbody>\n",
       "    <tr>\n",
       "      <td>136454</td>\n",
       "      <td>0.0</td>\n",
       "      <td>0</td>\n",
       "      <td>0.002095</td>\n",
       "    </tr>\n",
       "    <tr>\n",
       "      <td>136455</td>\n",
       "      <td>0.0</td>\n",
       "      <td>0</td>\n",
       "      <td>0.001871</td>\n",
       "    </tr>\n",
       "    <tr>\n",
       "      <td>136456</td>\n",
       "      <td>0.0</td>\n",
       "      <td>0</td>\n",
       "      <td>0.001797</td>\n",
       "    </tr>\n",
       "    <tr>\n",
       "      <td>136457</td>\n",
       "      <td>0.0</td>\n",
       "      <td>0</td>\n",
       "      <td>0.001790</td>\n",
       "    </tr>\n",
       "    <tr>\n",
       "      <td>136458</td>\n",
       "      <td>0.0</td>\n",
       "      <td>0</td>\n",
       "      <td>0.001978</td>\n",
       "    </tr>\n",
       "  </tbody>\n",
       "</table>\n",
       "</div>"
      ],
      "text/plain": [
       "        actual  pred  pred_prob\n",
       "136454     0.0     0   0.002095\n",
       "136455     0.0     0   0.001871\n",
       "136456     0.0     0   0.001797\n",
       "136457     0.0     0   0.001790\n",
       "136458     0.0     0   0.001978"
      ]
     },
     "execution_count": 52,
     "metadata": {},
     "output_type": "execute_result"
    }
   ],
   "source": [
    "# Create a dataset to save the results\n",
    "first_results = pd.concat([pd.DataFrame(test_y),pd.DataFrame(labels), pd.DataFrame(pred)], axis = 1)\n",
    "\n",
    "\n",
    "first_results.columns = ['actual', 'pred', 'pred_prob']\n",
    "first_results.to_csv('Panama_predictions.csv')\n",
    "first_results.tail()"
   ]
  },
  {
   "cell_type": "code",
   "execution_count": 56,
   "metadata": {},
   "outputs": [
    {
     "name": "stdout",
     "output_type": "stream",
     "text": [
      "Accuracy of the model is 99.7846452029719\n",
      "MCC of the model is 89.16307315168316\n"
     ]
    }
   ],
   "source": [
    "# Accuracy\n",
    "acc = sum(first_results.pred)/sum(first_results.actual)\n",
    "print(\"Accuracy of the model is\", acc*100)\n",
    "\n",
    "# MCC\n",
    "mcc = matthews_corrcoef(first_results.actual, first_results.pred)\n",
    "print(\"MCC of the model is\", mcc*100)"
   ]
  },
  {
   "cell_type": "markdown",
   "metadata": {},
   "source": [
    "# ROC curve"
   ]
  },
  {
   "cell_type": "code",
   "execution_count": 57,
   "metadata": {},
   "outputs": [],
   "source": [
    "from sklearn.metrics import roc_curve\n",
    "y_pred_keras = model.predict(test_X).ravel()\n",
    "fpr_keras, tpr_keras, thresholds_keras = roc_curve(test_y, pred)\n",
    "\n",
    "from sklearn.metrics import auc\n",
    "auc_keras = auc(fpr_keras, tpr_keras)"
   ]
  },
  {
   "cell_type": "code",
   "execution_count": 58,
   "metadata": {},
   "outputs": [
    {
     "data": {
      "image/png": "[encoded data removed]",
      "text/plain": [
       "<Figure size 432x288 with 1 Axes>"
      ]
     },
     "metadata": {
      "needs_background": "light"
     },
     "output_type": "display_data"
    }
   ],
   "source": [
    "plt.figure(1)\n",
    "plt.plot([0, 1], [0, 1], 'k--')\n",
    "plt.plot(fpr_keras, tpr_keras, label='Model (area = {:.3f})'.format(auc_keras))\n",
    "plt.xlabel('False positive rate')\n",
    "plt.ylabel('True positive rate')\n",
    "plt.title('ROC curve')\n",
    "plt.legend(loc='best')\n",
    "plt.show()"
   ]
  },
  {
   "cell_type": "code",
   "execution_count": 59,
   "metadata": {},
   "outputs": [
    {
     "data": {
      "image/png": "[encoded data removed]",
      "text/plain": [
       "<Figure size 432x288 with 1 Axes>"
      ]
     },
     "metadata": {
      "needs_background": "light"
     },
     "output_type": "display_data"
    }
   ],
   "source": [
    "# # Zoom in view of the upper left corner.\n",
    "plt.figure(2)\n",
    "plt.xlim(0, 0.2)\n",
    "plt.ylim(0.8, 1)\n",
    "plt.plot([0, 1], [0, 1], 'k--')\n",
    "plt.plot(fpr_keras, tpr_keras, label=' Model(area = {:.3f})'.format(auc_keras))\n",
    "\n",
    "plt.xlabel('False positive rate')\n",
    "plt.ylabel('True positive rate')\n",
    "plt.title('ROC curve (zoomed in at top left)')\n",
    "plt.legend(loc='best')\n",
    "plt.show()"
   ]
  },
  {
   "cell_type": "markdown",
   "metadata": {},
   "source": [
    "As the classifiers gives a curves closer to the top left corner, it indicated good model performance."
   ]
  },
  {
   "cell_type": "markdown",
   "metadata": {},
   "source": [
    "# Confusion matrix"
   ]
  },
  {
   "cell_type": "code",
   "execution_count": 69,
   "metadata": {},
   "outputs": [
    {
     "name": "stdout",
     "output_type": "stream",
     "text": [
      "[[126245    927]\n",
      " [   947   8340]]\n"
     ]
    },
    {
     "data": {
      "image/png": "[encoded data removed]",
      "text/plain": [
       "<Figure size 432x288 with 2 Axes>"
      ]
     },
     "metadata": {
      "needs_background": "light"
     },
     "output_type": "display_data"
    }
   ],
   "source": [
    "lab = [0, 1]\n",
    "cm = confusion_matrix(test_y, labels, lab)\n",
    "print(cm)\n",
    "fig = plt.figure()\n",
    "ax = fig.add_subplot(111)\n",
    "cax = ax.matshow(cm)\n",
    "plt.title('Confusion matrix of the classifier')\n",
    "fig.colorbar(cax)\n",
    "ax.set_xticklabels([''] + lab)\n",
    "ax.set_yticklabels([''] + lab)\n",
    "plt.xlabel('Predicted')\n",
    "plt.ylabel('True')\n",
    "plt.show()"
   ]
  },
  {
   "cell_type": "markdown",
   "metadata": {},
   "source": [
    "The confusion matrix shows the imbalanced nature of the dataset where the non-pass cases are more likely to be classified correctly. \n"
   ]
  },
  {
   "cell_type": "code",
   "execution_count": null,
   "metadata": {},
   "outputs": [],
   "source": []
  }
 ],
 "metadata": {
  "kernelspec": {
   "display_name": "Python 3",
   "language": "python",
   "name": "python3"
  },
  "language_info": {
   "codemirror_mode": {
    "name": "ipython",
    "version": 3
   },
   "file_extension": ".py",
   "mimetype": "text/x-python",
   "name": "python",
   "nbconvert_exporter": "python",
   "pygments_lexer": "ipython3",
   "version": "3.7.4"
  }
 },
 "nbformat": 4,
 "nbformat_minor": 1
}
