{
 "cells": [
  {
   "cell_type": "code",
   "execution_count": null,
   "metadata": {},
   "outputs": [],
   "source": [
    "#########################################################\n",
    "# name: dataPreparation.ipynb\n",
    "# Description: This program merges all the files and \n",
    "# prepares the data for model input\n",
    "# Input Data : ./dataScienceTask\n",
    "# Output Data: ./input\n",
    "#########################################################"
   ]
  },
  {
   "cell_type": "code",
   "execution_count": 1,
   "metadata": {},
   "outputs": [],
   "source": [
    "# Load required libraries\n",
    "import pandas as pd\n",
    "import matplotlib.pyplot as plt\n",
    "import numpy as np\n",
    "import seaborn as sns"
   ]
  },
  {
   "cell_type": "code",
   "execution_count": 4,
   "metadata": {},
   "outputs": [
    {
     "name": "stdout",
     "output_type": "stream",
     "text": [
      "Creatinine (1439, 3)\n",
      "dbp (1821, 3)\n",
      "Glucose (1556, 3)\n",
      "hgb (1129, 3)\n",
      "ldl (1261, 3)\n",
      "sbp (1809, 3)\n"
     ]
    }
   ],
   "source": [
    "# Read in all the datasets\n",
    "df_creatinine = pd.read_csv(\"./dataScienceTask/T_creatinine.csv\")\n",
    "print(\"Creatinine\", df_creatinine.shape)\n",
    "# rename the value column\n",
    "df_creatinine =  df_creatinine.rename({'value': 'vCreatinine'}, axis=1)\n",
    "\n",
    "# read the diastolic blood pressure measurements\n",
    "df_dbp = pd.read_csv(\"./dataScienceTask/T_DBP.csv\")\n",
    "print(\"dbp\", df_dbp.shape)\n",
    "# rename the value column\n",
    "df_dbp =  df_dbp.rename({'value': 'vDBP'}, axis=1)\n",
    "\n",
    "# read the glucose measurements\n",
    "df_gluc = pd.read_csv(\"./dataScienceTask/T_glucose.csv\")\n",
    "print(\"Glucose\", df_gluc.shape)\n",
    "# rename the value column\n",
    "df_gluc =  df_gluc.rename({'value': 'vGlucose'}, axis=1)\n",
    "\n",
    "# read the hemoglobin measurements\n",
    "df_hgb = pd.read_csv(\"./dataScienceTask/T_HGB.csv\")\n",
    "# rename the value column\n",
    "df_hgb =  df_hgb.rename({'value': 'vHGB'}, axis=1)\n",
    "# subset to consider only 2 years data\n",
    "df_hgb = df_hgb\n",
    "df_hgb =  df_hgb[df_hgb.time <=699]\n",
    "# Print the shape\n",
    "print(\"hgb\", df_hgb.shape)\n",
    "# read the Low-density lipoprotein measurements\n",
    "df_ldl = pd.read_csv(\"./dataScienceTask/T_ldl.csv\")\n",
    "print(\"ldl\", df_ldl.shape)\n",
    "# rename the value column\n",
    "df_ldl =  df_ldl.rename({'value': 'vLDL'}, axis=1)\n",
    "\n",
    "# read the Systolic blood pressure measurements\n",
    "df_sbp = pd.read_csv(\"./dataScienceTask/T_SBP.csv\")\n",
    "print(\"sbp\", df_sbp.shape)\n",
    "# rename the value column\n",
    "df_sbp =  df_sbp.rename({'value': 'vSBP'}, axis=1)\n"
   ]
  },
  {
   "cell_type": "code",
   "execution_count": 49,
   "metadata": {},
   "outputs": [],
   "source": [
    "# Read medication data and patients data\n",
    "df_demo = pd.read_csv(\"./dataScienceTask/T_demo.csv\")\n",
    "df_meds = pd.read_csv(\"./dataScienceTask/T_meds.csv\")\n",
    "df_stage = pd.read_csv(\"./dataScienceTask/T_stage.csv\")"
   ]
  },
  {
   "cell_type": "code",
   "execution_count": 5,
   "metadata": {},
   "outputs": [],
   "source": [
    "## Merging all the dataframes\n",
    "\n",
    "merge1 = pd.merge(df_creatinine, df_dbp, how='outer', on=['id', 'time'])\n",
    "merge2 = pd.merge(merge1, df_gluc, how = 'outer', on = ['id', 'time'])\n",
    "merge3 = pd.merge(merge2, df_hgb, how = 'outer', on = ['id', 'time'])\n",
    "merge4 = pd.merge(merge3, df_ldl, how = 'outer', on = ['id', 'time'])\n",
    "merge5 = pd.merge(merge4, df_sbp, how = 'outer', on = ['id', 'time'])"
   ]
  },
  {
   "cell_type": "code",
   "execution_count": 34,
   "metadata": {},
   "outputs": [
    {
     "data": {
      "text/html": [
       "<div>\n",
       "<style scoped>\n",
       "    .dataframe tbody tr th:only-of-type {\n",
       "        vertical-align: middle;\n",
       "    }\n",
       "\n",
       "    .dataframe tbody tr th {\n",
       "        vertical-align: top;\n",
       "    }\n",
       "\n",
       "    .dataframe thead tr th {\n",
       "        text-align: left;\n",
       "    }\n",
       "</style>\n",
       "<table border=\"1\" class=\"dataframe\">\n",
       "  <thead>\n",
       "    <tr>\n",
       "      <th></th>\n",
       "      <th>vCreatinine</th>\n",
       "      <th>time</th>\n",
       "      <th>vDBP</th>\n",
       "      <th>vGlucose</th>\n",
       "      <th>vHGB</th>\n",
       "      <th>vLDL</th>\n",
       "      <th>vSBP</th>\n",
       "    </tr>\n",
       "    <tr>\n",
       "      <th></th>\n",
       "      <th>count</th>\n",
       "      <th>count</th>\n",
       "      <th>count</th>\n",
       "      <th>count</th>\n",
       "      <th>count</th>\n",
       "      <th>count</th>\n",
       "      <th>count</th>\n",
       "    </tr>\n",
       "  </thead>\n",
       "  <tbody>\n",
       "    <tr>\n",
       "      <td>count</td>\n",
       "      <td>300.000000</td>\n",
       "      <td>300.000000</td>\n",
       "      <td>300.000000</td>\n",
       "      <td>300.000000</td>\n",
       "      <td>300.000000</td>\n",
       "      <td>300.000000</td>\n",
       "      <td>300.000000</td>\n",
       "    </tr>\n",
       "    <tr>\n",
       "      <td>mean</td>\n",
       "      <td>12.883333</td>\n",
       "      <td>12.883333</td>\n",
       "      <td>12.883333</td>\n",
       "      <td>12.883333</td>\n",
       "      <td>12.883333</td>\n",
       "      <td>12.883333</td>\n",
       "      <td>12.883333</td>\n",
       "    </tr>\n",
       "    <tr>\n",
       "      <td>std</td>\n",
       "      <td>4.042796</td>\n",
       "      <td>4.042796</td>\n",
       "      <td>4.042796</td>\n",
       "      <td>4.042796</td>\n",
       "      <td>4.042796</td>\n",
       "      <td>4.042796</td>\n",
       "      <td>4.042796</td>\n",
       "    </tr>\n",
       "    <tr>\n",
       "      <td>min</td>\n",
       "      <td>5.000000</td>\n",
       "      <td>5.000000</td>\n",
       "      <td>5.000000</td>\n",
       "      <td>5.000000</td>\n",
       "      <td>5.000000</td>\n",
       "      <td>5.000000</td>\n",
       "      <td>5.000000</td>\n",
       "    </tr>\n",
       "    <tr>\n",
       "      <td>25%</td>\n",
       "      <td>10.000000</td>\n",
       "      <td>10.000000</td>\n",
       "      <td>10.000000</td>\n",
       "      <td>10.000000</td>\n",
       "      <td>10.000000</td>\n",
       "      <td>10.000000</td>\n",
       "      <td>10.000000</td>\n",
       "    </tr>\n",
       "    <tr>\n",
       "      <td>50%</td>\n",
       "      <td>12.000000</td>\n",
       "      <td>12.000000</td>\n",
       "      <td>12.000000</td>\n",
       "      <td>12.000000</td>\n",
       "      <td>12.000000</td>\n",
       "      <td>12.000000</td>\n",
       "      <td>12.000000</td>\n",
       "    </tr>\n",
       "    <tr>\n",
       "      <td>75%</td>\n",
       "      <td>15.000000</td>\n",
       "      <td>15.000000</td>\n",
       "      <td>15.000000</td>\n",
       "      <td>15.000000</td>\n",
       "      <td>15.000000</td>\n",
       "      <td>15.000000</td>\n",
       "      <td>15.000000</td>\n",
       "    </tr>\n",
       "    <tr>\n",
       "      <td>max</td>\n",
       "      <td>26.000000</td>\n",
       "      <td>26.000000</td>\n",
       "      <td>26.000000</td>\n",
       "      <td>26.000000</td>\n",
       "      <td>26.000000</td>\n",
       "      <td>26.000000</td>\n",
       "      <td>26.000000</td>\n",
       "    </tr>\n",
       "  </tbody>\n",
       "</table>\n",
       "</div>"
      ],
      "text/plain": [
       "      vCreatinine        time        vDBP    vGlucose        vHGB        vLDL  \\\n",
       "            count       count       count       count       count       count   \n",
       "count  300.000000  300.000000  300.000000  300.000000  300.000000  300.000000   \n",
       "mean    12.883333   12.883333   12.883333   12.883333   12.883333   12.883333   \n",
       "std      4.042796    4.042796    4.042796    4.042796    4.042796    4.042796   \n",
       "min      5.000000    5.000000    5.000000    5.000000    5.000000    5.000000   \n",
       "25%     10.000000   10.000000   10.000000   10.000000   10.000000   10.000000   \n",
       "50%     12.000000   12.000000   12.000000   12.000000   12.000000   12.000000   \n",
       "75%     15.000000   15.000000   15.000000   15.000000   15.000000   15.000000   \n",
       "max     26.000000   26.000000   26.000000   26.000000   26.000000   26.000000   \n",
       "\n",
       "             vSBP  \n",
       "            count  \n",
       "count  300.000000  \n",
       "mean    12.883333  \n",
       "std      4.042796  \n",
       "min      5.000000  \n",
       "25%     10.000000  \n",
       "50%     12.000000  \n",
       "75%     15.000000  \n",
       "max     26.000000  "
      ]
     },
     "execution_count": 34,
     "metadata": {},
     "output_type": "execute_result"
    }
   ],
   "source": [
    "# create a duplicate to check for the number dimension of data.\n",
    "\n",
    "merge5_dup = merge5.fillna(0)\n",
    "num_obs = merge5_dup.groupby(['id']).agg(['count'])\n",
    "num_obs.describe()"
   ]
  },
  {
   "cell_type": "code",
   "execution_count": 40,
   "metadata": {},
   "outputs": [
    {
     "data": {
      "text/plain": [
       "id\n",
       "0      12\n",
       "1      15\n",
       "2      10\n",
       "3      15\n",
       "4      16\n",
       "       ..\n",
       "295    19\n",
       "296    13\n",
       "297    18\n",
       "298    17\n",
       "299    12\n",
       "Name: (time, count), Length: 300, dtype: int64"
      ]
     },
     "execution_count": 40,
     "metadata": {},
     "output_type": "execute_result"
    }
   ],
   "source": [
    "num_obs.iloc[:,1]"
   ]
  },
  {
   "cell_type": "code",
   "execution_count": 41,
   "metadata": {},
   "outputs": [
    {
     "data": {
      "text/plain": [
       "<matplotlib.axes._subplots.AxesSubplot at 0x26d2620cf88>"
      ]
     },
     "execution_count": 41,
     "metadata": {},
     "output_type": "execute_result"
    },
    {
     "data": {
      "image/png": "[encoded data removed]",
      "text/plain": [
       "<Figure size 432x288 with 1 Axes>"
      ]
     },
     "metadata": {
      "needs_background": "light"
     },
     "output_type": "display_data"
    }
   ],
   "source": [
    "num_obs.iloc[:,1].plot(kind='hist')"
   ]
  },
  {
   "cell_type": "code",
   "execution_count": 70,
   "metadata": {},
   "outputs": [],
   "source": [
    "# Create the medicine dosage columns\n",
    "merge6 = pd.merge(merge5[['id', 'time']], df_meds, how = 'left', on =['id'])"
   ]
  },
  {
   "cell_type": "code",
   "execution_count": 71,
   "metadata": {},
   "outputs": [],
   "source": [
    "## Add empty columns for each medicine with NaN for no dosage as default\n",
    "merge6 = merge6.join(pd.DataFrame(\n",
    "   0, \n",
    "    index=merge6.index, \n",
    "    columns= df_meds.drug.unique() + \"_dose\"\n",
    "))"
   ]
  },
  {
   "cell_type": "code",
   "execution_count": null,
   "metadata": {},
   "outputs": [],
   "source": []
  },
  {
   "cell_type": "code",
   "execution_count": 72,
   "metadata": {},
   "outputs": [
    {
     "name": "stderr",
     "output_type": "stream",
     "text": [
      "C:\\Users\\sindh\\Anaconda3\\lib\\site-packages\\ipykernel_launcher.py:6: SettingWithCopyWarning: \n",
      "A value is trying to be set on a copy of a slice from a DataFrame\n",
      "\n",
      "See the caveats in the documentation: http://pandas.pydata.org/pandas-docs/stable/user_guide/indexing.html#returning-a-view-versus-a-copy\n",
      "  \n"
     ]
    }
   ],
   "source": [
    "# Iterate through each row and add the corresponding dosage if the time value is in between the start and end date.\n",
    "for index, row in merge6.iterrows():\n",
    "    if (row['start_day'] <= row['time']) & ( row['time'] <= row['end_day']):\n",
    "        #\n",
    "        col_name = row['drug'] + '_dose'\n",
    "        merge6[col_name][index] = row['daily_dosage']"
   ]
  },
  {
   "cell_type": "code",
   "execution_count": 73,
   "metadata": {},
   "outputs": [],
   "source": [
    "## Keep only the columns created \n",
    "keep_cols = ['time', 'id', 'atorvastatin_dose', 'losartan_dose', 'metformin_dose',\n",
    "       'rosuvastatin_dose', 'pravastatin_dose', 'carvedilol_dose',\n",
    "       'valsartan_dose', 'metoprolol_dose', 'simvastatin_dose',\n",
    "       'bisoprolol_dose', 'atenolol_dose', 'lovastatin_dose',\n",
    "       'olmesartan_dose', 'irbesartan_dose', 'canagliflozin_dose',\n",
    "       'dapagliflozin_dose', 'telmisartan_dose', 'labetalol_dose',\n",
    "       'nebivolol_dose', 'pitavastatin_dose', 'propranolol_dose']"
   ]
  },
  {
   "cell_type": "code",
   "execution_count": 74,
   "metadata": {},
   "outputs": [],
   "source": [
    "merge6 = merge6[keep_cols].drop_duplicates()"
   ]
  },
  {
   "cell_type": "code",
   "execution_count": 79,
   "metadata": {},
   "outputs": [],
   "source": [
    "# aggregate at ID and time level\n",
    "merge6_cleaned = merge6.groupby(['id','time']).agg(['sum'])\n",
    "\n",
    "merge6_cleaned.columns = df_meds.drug.unique() + \"_dose\"\n",
    "merge6_cleaned = merge6_cleaned.reset_index()"
   ]
  },
  {
   "cell_type": "code",
   "execution_count": null,
   "metadata": {},
   "outputs": [],
   "source": []
  },
  {
   "cell_type": "code",
   "execution_count": 87,
   "metadata": {},
   "outputs": [],
   "source": [
    "# convert categorical variables to numeric \n",
    "df_demo = pd.get_dummies(df_demo, columns=['race', 'gender'])\n",
    "#df_patientInfo = pd.merge( df_demo, df_stage, how = 'left', on = ['id'])"
   ]
  },
  {
   "cell_type": "code",
   "execution_count": 90,
   "metadata": {},
   "outputs": [],
   "source": [
    "\n",
    "# merge all the data\n",
    "int_data = pd.merge(merge5, merge6_cleaned, how = \"left\", on = ['id', 'time'])\n",
    "final_data = pd.merge(int_data, df_demo, how = \"left\", on = ['id'])"
   ]
  },
  {
   "cell_type": "code",
   "execution_count": 93,
   "metadata": {},
   "outputs": [],
   "source": [
    "## As a padding value replace all NaN with a value that is not common to occur in the data. -99 \n",
    "final_data = final_data.fillna(-99)"
   ]
  },
  {
   "cell_type": "code",
   "execution_count": null,
   "metadata": {},
   "outputs": [],
   "source": [
    "## Plot a correlation plot"
   ]
  }
 ],
 "metadata": {
  "kernelspec": {
   "display_name": "Python 3",
   "language": "python",
   "name": "python3"
  },
  "language_info": {
   "codemirror_mode": {
    "name": "ipython",
    "version": 3
   },
   "file_extension": ".py",
   "mimetype": "text/x-python",
   "name": "python",
   "nbconvert_exporter": "python",
   "pygments_lexer": "ipython3",
   "version": "3.7.4"
  }
 },
 "nbformat": 4,
 "nbformat_minor": 2
}
